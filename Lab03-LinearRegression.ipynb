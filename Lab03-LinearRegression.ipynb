{
  "nbformat": 4,
  "nbformat_minor": 0,
  "metadata": {
    "colab": {
      "name": "Lab01-LinearRegression.ipynb",
      "provenance": [],
      "collapsed_sections": []
    },
    "kernelspec": {
      "display_name": "Python 3",
      "language": "python",
      "name": "python3"
    },
    "language_info": {
      "codemirror_mode": {
        "name": "ipython",
        "version": 3
      },
      "file_extension": ".py",
      "mimetype": "text/x-python",
      "name": "python",
      "nbconvert_exporter": "python",
      "pygments_lexer": "ipython3",
      "version": "3.7.9-final"
    }
  },
  "cells": [
    {
      "cell_type": "markdown",
      "metadata": {
        "id": "dw29NSYmFpyS"
      },
      "source": [
        "# Lab03: Hồi quy tuyến tính.\n",
        "\n",
        "- MSSV: 18120061\n",
        "- Họ và tên: Lê Nhựt Nam"
      ]
    },
    {
      "cell_type": "markdown",
      "metadata": {
        "id": "oHR1Zj5GFpyT"
      },
      "source": [
        "## Yêu cầu bài tập\n",
        "\n",
        "**Cách làm bài**\n",
        "\n",
        "\n",
        "Bạn sẽ làm trực tiếp trên file notebook này; trong file, từ `TODO` để cho biết những phần mà bạn cần phải làm.\n",
        "\n",
        "Bạn có thể thảo luận ý tưởng cũng như tham khảo các tài liệu, nhưng *code và bài làm phải là của bạn*. \n",
        "\n",
        "Nếu vi phạm thì sẽ bị 0 điểm cho bài tập này.\n",
        "\n",
        "**Cách nộp bài**\n",
        "\n",
        "Trước khi nộp bài, rerun lại notebook (`Kernel` -> `Restart & Run All`).\n",
        "\n",
        "Sau đó, tạo thư mục có tên `MSSV` của bạn (vd, nếu bạn có MSSV là 1234567 thì bạn đặt tên thư mục là `1234567`) Chép file `Lab03-Clustering.ipynb` vào, rồi nén thư mục `MSSV` này lại và nộp ở link trên moodle.\n",
        "\n",
        "**Nội dung bài tập**\n",
        "\n",
        "Bài tập 3 là bài tập cá nhân. Trong bài này, bạn sẽ cài đặt thuật toán học máy `Hồi quy tuyến tính`. \n"
      ]
    },
    {
      "cell_type": "markdown",
      "metadata": {
        "id": "REHkv-y8FpyU"
      },
      "source": [
        "### 1. Tập giả định"
      ]
    },
    {
      "cell_type": "markdown",
      "metadata": {
        "id": "e75OMY0KFpyU"
      },
      "source": [
        "- Hồi quy tuyến tính là một mô hình **tuyến tính**, mô hình này giả định tồn tại một mối liên hệ tuyến tính giữa các biến đầu vào (x) và một biến đầu ra (y). Cụ thể hơn, y có thể được tính bằng một tổ hợp tuyến tính của các biến đầu vào (x).\n",
        "- Một cách tổng quát, một mô hình tuyến tính dự đoán kết quả bằng cách tính tổng trọng số của các đặc trưng đầu vào (hay các biến độc lập). \n",
        "$$ \\hat{y}=w_0+w_1x_1+w_2x_2+...+w_nx_n $$\n",
        "    - $\\hat{y}$ là giá trị dự đoán.\n",
        "    - $n$ là số lượng đặc trưng.\n",
        "    - $x_i$ là giá trị đặc trưng thứ $i$.\n",
        "    - $w_j$ là tham số thứ $j$ của mô hình.\n",
        "$$\\hat{y}=h_{\\mathbf{w}}\\left(\\mathbf{x}\\right)=\\mathbf{w}^{T}\\cdot\\mathbf{x}$$\n",
        "    - $\\mathbf{w}$ **vector trọng số** của mô hình (bao gốm cả $w_0$ và các trọng số đặc trưng $w_1,w_2,...w_n$).\n",
        "    - $\\mathbf{w}^T$ là chuyển vị của $\\mathbf{w}$ (vector hàng thay vì vector cột).\n",
        "    - $\\mathbf{x}$ là **vector đầu vào** của các mẫu dữ liệu, *bao gồm* $x_0$ đến $x_n$, với $x_0$ *luôn có giá trị là* 1.\n",
        "    - $\\mathbf{w}^{T}\\cdot\\mathbf{x}$ là tích vô hướng của 2 vector $\\mathbf{w}^T$ và $\\mathbf{x}$.\n",
        "    - $h_{\\mathbf{w}}$ là hàm giả thiết, biểu diễn bằng các tham số $\\mathbf{w}$.\n"
      ]
    },
    {
      "cell_type": "markdown",
      "metadata": {
        "id": "5l8F4lnjFpyV"
      },
      "source": [
        "### 2. Đánh giá hiệu suất và mục tiêu học"
      ]
    },
    {
      "cell_type": "markdown",
      "metadata": {
        "id": "fdJNZ2q6FpyX"
      },
      "source": [
        "- Trước khi huấn luyện dữ liệu, ta cần phải đánh giá mô hình của chúng ta khớp với dữ liệu huấn luyện như thế nào. Cách đánh giá thường được sử dụng nhất là trung bình bình phương độ lỗi **MSE** (Mean Square Error) $\\Rightarrow$ ta cần phải tìm $\\mathbf{w}$ tối thiểu hóa MSE:\n",
        "$$\\mathbf{w}=\\arg\\min MSE_{\\mathcal{D}_{train}}$$\n",
        "\n",
        "\n",
        "- MSE trên tập huấn luyện $\\mathcal{D}_{train}$ ký hiệu $\\left(\\mathbf{X},\\mathbf{y}\\right)$ bao gồm m mẫu $\\left\\{\\left(\\mathbf{x}_1,y_1\\right),\\left(\\mathbf{x}_2,y_2\\right),...\\left(\\mathbf{x}_m,y_m\\right)\\right\\}$"
      ]
    },
    {
      "cell_type": "markdown",
      "metadata": {
        "id": "GTOZj7HfFpyY"
      },
      "source": [
        "$$MSE\\left(X,h_{\\mathbf{w}}\\right)=\\dfrac{1}{m}\\sum_{i=1}^{m}\\left(\\mathbf{w}^T\\cdot\\mathbf{x}_i - y_i\\right )^2$$\n",
        "$$MSE\\left(X,h_{\\mathbf{w}}\\right)=\\dfrac{1}{m}\\Vert\\mathbf{X}\\mathbf{w}-\\mathbf{y}\\Vert^2$$"
      ]
    },
    {
      "cell_type": "markdown",
      "metadata": {
        "id": "ORU-9tCxFpyZ"
      },
      "source": [
        "- Để tìm $\\mathbf{w}$ sao cho hàm lỗi MSE tối thiểu ta tìm điểm đạo hàm của MSE có giá trị 0. \n",
        "$$\\mathbf{\\hat{w}}=\\left(\\mathbf{X}^T \\cdot \\mathbf{X}\\right)^{\\dagger} \\cdot \\mathbf{X}^T \\cdot \\mathbf{y}$$\n",
        "  - $\\mathbf{\\hat{w}}$ là giá trị của $\\mathbf{w}$ để giảm thiểu độ lỗi. \n",
        "  - **Chú ý** $\\mathbf{X}^T \\cdot \\mathbf{X}$ không phải luôn **khả nghịch**. $\\left(\\mathbf{X}^T \\cdot \\mathbf{X}\\right)^{\\dagger}$ là nghịch đảo giả của $\\left(\\mathbf{X}^T \\cdot \\mathbf{X}\\right)$ - trường hợp nghịch đảo tổng quát kể cả khi ma trận không vuông cũng như không khả nghịch."
      ]
    },
    {
      "cell_type": "markdown",
      "metadata": {
        "id": "6Tgy-tRYFpyZ"
      },
      "source": [
        "### 3. Cài đặt"
      ]
    },
    {
      "cell_type": "markdown",
      "metadata": {
        "id": "qauCdk7LFpya"
      },
      "source": [
        "#### Import Library"
      ]
    },
    {
      "cell_type": "code",
      "metadata": {
        "id": "70Mis-p9Fpyd"
      },
      "source": [
        "import numpy as np\n",
        "import matplotlib.pyplot as plt \n",
        "import sklearn.datasets as datasets\n",
        "%matplotlib inline"
      ],
      "execution_count": 1,
      "outputs": []
    },
    {
      "cell_type": "markdown",
      "metadata": {
        "id": "nRr06hARFpyk"
      },
      "source": [
        "#### Create data"
      ]
    },
    {
      "cell_type": "code",
      "metadata": {
        "id": "g0K3G_SOFpyk",
        "outputId": "bf428d70-5de9-433e-bc16-94b8d7c546a9",
        "colab": {
          "base_uri": "https://localhost:8080/"
        }
      },
      "source": [
        "X,y=datasets.make_regression(n_samples=100,n_features=1, noise=5)\n",
        "# Show X\n",
        "print(X)\n",
        "\n",
        "# Show y\n",
        "print(y)"
      ],
      "execution_count": 2,
      "outputs": [
        {
          "output_type": "stream",
          "text": [
            "[[-2.29250814]\n",
            " [-1.29157507]\n",
            " [-0.32153181]\n",
            " [ 1.98027464]\n",
            " [ 0.88090163]\n",
            " [-0.62103524]\n",
            " [ 1.44472375]\n",
            " [ 0.00810879]\n",
            " [-0.86476101]\n",
            " [ 0.01600379]\n",
            " [ 1.86789794]\n",
            " [ 0.2354154 ]\n",
            " [ 0.03162885]\n",
            " [ 0.61104124]\n",
            " [-0.05756288]\n",
            " [ 2.46132283]\n",
            " [ 0.70979452]\n",
            " [ 0.00822018]\n",
            " [-0.89209925]\n",
            " [-0.33298361]\n",
            " [-1.42446895]\n",
            " [ 0.38748468]\n",
            " [ 2.10585294]\n",
            " [ 0.75036293]\n",
            " [-1.20824455]\n",
            " [-1.0042929 ]\n",
            " [-1.37695728]\n",
            " [-0.38699292]\n",
            " [ 0.60563435]\n",
            " [ 0.20057402]\n",
            " [-0.25030051]\n",
            " [-0.19365685]\n",
            " [-0.24628007]\n",
            " [ 1.33289582]\n",
            " [ 0.90197932]\n",
            " [ 0.1664547 ]\n",
            " [-1.02503482]\n",
            " [ 1.5603364 ]\n",
            " [-0.81424096]\n",
            " [ 0.23305679]\n",
            " [ 0.24232292]\n",
            " [ 2.75589426]\n",
            " [ 1.74371596]\n",
            " [-1.09933754]\n",
            " [-1.15587733]\n",
            " [-1.28204213]\n",
            " [ 0.34791311]\n",
            " [ 1.62316696]\n",
            " [ 3.6228186 ]\n",
            " [ 1.07010036]\n",
            " [-0.21196585]\n",
            " [ 0.26010676]\n",
            " [-1.2462868 ]\n",
            " [ 1.23642899]\n",
            " [ 0.74287751]\n",
            " [ 0.579219  ]\n",
            " [-0.07672633]\n",
            " [ 0.02148495]\n",
            " [-0.02496202]\n",
            " [ 0.73270128]\n",
            " [-1.26638935]\n",
            " [ 1.38572852]\n",
            " [-0.07888382]\n",
            " [ 1.48937273]\n",
            " [-0.54767846]\n",
            " [-1.39219517]\n",
            " [ 0.43011709]\n",
            " [ 0.81880137]\n",
            " [-1.66170243]\n",
            " [ 0.06805436]\n",
            " [-0.73708886]\n",
            " [-0.33552194]\n",
            " [ 0.86803406]\n",
            " [-0.70872923]\n",
            " [ 1.71094348]\n",
            " [ 0.2559512 ]\n",
            " [ 1.30464626]\n",
            " [ 0.87343926]\n",
            " [-0.03079224]\n",
            " [-0.50384245]\n",
            " [-0.10442092]\n",
            " [-0.83615252]\n",
            " [ 0.17757912]\n",
            " [-0.025182  ]\n",
            " [ 2.33198166]\n",
            " [ 0.20980708]\n",
            " [-0.87495875]\n",
            " [ 0.19206809]\n",
            " [ 1.81071116]\n",
            " [-0.97087714]\n",
            " [ 0.47216312]\n",
            " [ 0.76856819]\n",
            " [ 0.17006552]\n",
            " [-0.30495484]\n",
            " [-0.15904573]\n",
            " [-0.93739458]\n",
            " [-0.26026167]\n",
            " [-0.42951913]\n",
            " [ 1.42431666]\n",
            " [-2.01840752]]\n",
            "[-111.3720104   -65.08589248  -15.78797182  110.67127289   32.33677881\n",
            "  -24.08252536   71.98931511    3.68316081  -42.40831709   -1.84546321\n",
            "   94.35376246   13.48035654    2.5380661    27.31047327    0.58453145\n",
            "  123.17099366   29.65368143    2.29184625  -47.22353331  -21.62895602\n",
            "  -67.33572107   17.84177711  101.38324682   23.42683502  -60.11507949\n",
            "  -50.09504813  -72.98357712  -17.69180093   28.05072822    2.09418588\n",
            "  -14.57151746  -13.02522912   -8.49046574   65.47717556   44.99722439\n",
            "    2.81161156  -49.34268224   75.9016099   -35.8259576    11.38051683\n",
            "    9.63311853  130.80627893   84.95358453  -42.84015701  -53.05284309\n",
            "  -56.74031348   16.84128396   79.7802302   179.44385759   54.35449287\n",
            "   -3.53030102   16.35339446  -63.50024115   57.61926089   35.94821828\n",
            "   22.25570297   -4.81564767    2.30602185    1.59810365   31.45916995\n",
            "  -64.51028036   55.84157332   -6.95099268   74.79541903  -20.87423621\n",
            "  -63.23975908   21.86524205   50.82687892  -93.23523502    5.6362068\n",
            "  -28.11135349  -18.10857655   40.49227861  -31.60841924   81.9171741\n",
            "   14.55187188   59.69096932   37.08631737    8.45295123  -23.63045574\n",
            "    0.7083506   -41.63358102   -2.00111641    1.33711834  114.7063621\n",
            "   10.91472658  -36.07990099    4.89715548   86.20286971  -53.67770513\n",
            "   19.81096119   41.39244751    3.9073143    -2.97845301   -5.12824257\n",
            "  -48.30041326   -5.87643306  -18.9976039    65.65462736  -98.57697138]\n"
          ],
          "name": "stdout"
        }
      ]
    },
    {
      "cell_type": "markdown",
      "metadata": {
        "id": "vBFWzeY3Fpyp"
      },
      "source": [
        "#### Load and visualize data"
      ]
    },
    {
      "cell_type": "code",
      "metadata": {
        "colab": {
          "base_uri": "https://localhost:8080/",
          "height": 265
        },
        "id": "4BpxLtG3Fpyq",
        "outputId": "a2956a6b-8be1-4381-e6d1-f1a23c658c70"
      },
      "source": [
        "# Visualize data \n",
        "plt.plot(X, y, 'ro')\n",
        "plt.show()\n"
      ],
      "execution_count": 3,
      "outputs": [
        {
          "output_type": "display_data",
          "data": {
            "image/png": "[encoded data removed]",
            "text/plain": [
              "<Figure size 432x288 with 1 Axes>"
            ]
          },
          "metadata": {
            "tags": [],
            "needs_background": "light"
          }
        }
      ]
    },
    {
      "cell_type": "markdown",
      "metadata": {
        "id": "PLDAEVR8Fpyx"
      },
      "source": [
        "**TODO:** \n",
        "\n",
        "- Nhận xét dữ liệu:\n",
        "  Từ đồ thị này ta thấy rằng dữ liệu được sắp xếp gần như theo 1 đường thẳng, vậy mô hình Linear Regression nhiều khả năng sẽ cho kết quả tốt:"
      ]
    },
    {
      "cell_type": "markdown",
      "metadata": {
        "id": "mrb7peM1Fpyz"
      },
      "source": [
        "#### Training function"
      ]
    },
    {
      "cell_type": "code",
      "metadata": {
        "id": "DdPXTgoAFpyz"
      },
      "source": [
        "def train_linear_regression(X, y):\n",
        "    '''\n",
        "    Trains Linear Regression on the dataset (X, y).\n",
        "    \n",
        "    Parameters\n",
        "    ----------\n",
        "    X : numpy array, shape (m, d + 1)\n",
        "        The matrix of input vectors (each row corresponds to an input vector); \n",
        "        the first column of this matrix is all ones (corresponding to x_0).\n",
        "    y : numpy array, shape (m, 1)\n",
        "        The vector of outputs.\n",
        "    \n",
        "    Returns\n",
        "    -------\n",
        "    w : numpy array, shape (d + 1, 1)\n",
        "        The vector of parameters of Linear Regression after training.\n",
        "    '''\n",
        "    # TODO\n",
        "    learning_rate = 1e-3\n",
        "    n_steps = 1000\n",
        "       \n",
        "    # random initialization of the model weights\n",
        "    w = np.random.rand((X.shape[1]))\n",
        "        \n",
        "    # iteratively updating W for n_steps\n",
        "    for i in range(n_steps):\n",
        "      w = w - learning_rate * (2/X.shape[0] * np.dot(X.T, (np.dot(X, w) - y)))\n",
        "\n",
        "    return w"
      ],
      "execution_count": 4,
      "outputs": []
    },
    {
      "cell_type": "code",
      "metadata": {
        "colab": {
          "base_uri": "https://localhost:8080/"
        },
        "id": "wDgQ-5EDFpy5",
        "outputId": "28d85cb4-9868-4baf-dbb7-04d620e94119"
      },
      "source": [
        "# Construct one_added_X \n",
        "# TODO:\n",
        "# First column of one_added_X is all ones (corresponding to x_0).\n",
        "one_added_X = np.c_[np.ones(X.shape[0]), X]\n",
        "print ('one_added_X.shape =', one_added_X.shape)\n",
        "print ('y.shape =', y.shape)\n",
        "print(one_added_X)\n",
        "print(y)\n"
      ],
      "execution_count": 5,
      "outputs": [
        {
          "output_type": "stream",
          "text": [
            "one_added_X.shape = (100, 2)\n",
            "y.shape = (100,)\n",
            "[[ 1.         -2.29250814]\n",
            " [ 1.         -1.29157507]\n",
            " [ 1.         -0.32153181]\n",
            " [ 1.          1.98027464]\n",
            " [ 1.          0.88090163]\n",
            " [ 1.         -0.62103524]\n",
            " [ 1.          1.44472375]\n",
            " [ 1.          0.00810879]\n",
            " [ 1.         -0.86476101]\n",
            " [ 1.          0.01600379]\n",
            " [ 1.          1.86789794]\n",
            " [ 1.          0.2354154 ]\n",
            " [ 1.          0.03162885]\n",
            " [ 1.          0.61104124]\n",
            " [ 1.         -0.05756288]\n",
            " [ 1.          2.46132283]\n",
            " [ 1.          0.70979452]\n",
            " [ 1.          0.00822018]\n",
            " [ 1.         -0.89209925]\n",
            " [ 1.         -0.33298361]\n",
            " [ 1.         -1.42446895]\n",
            " [ 1.          0.38748468]\n",
            " [ 1.          2.10585294]\n",
            " [ 1.          0.75036293]\n",
            " [ 1.         -1.20824455]\n",
            " [ 1.         -1.0042929 ]\n",
            " [ 1.         -1.37695728]\n",
            " [ 1.         -0.38699292]\n",
            " [ 1.          0.60563435]\n",
            " [ 1.          0.20057402]\n",
            " [ 1.         -0.25030051]\n",
            " [ 1.         -0.19365685]\n",
            " [ 1.         -0.24628007]\n",
            " [ 1.          1.33289582]\n",
            " [ 1.          0.90197932]\n",
            " [ 1.          0.1664547 ]\n",
            " [ 1.         -1.02503482]\n",
            " [ 1.          1.5603364 ]\n",
            " [ 1.         -0.81424096]\n",
            " [ 1.          0.23305679]\n",
            " [ 1.          0.24232292]\n",
            " [ 1.          2.75589426]\n",
            " [ 1.          1.74371596]\n",
            " [ 1.         -1.09933754]\n",
            " [ 1.         -1.15587733]\n",
            " [ 1.         -1.28204213]\n",
            " [ 1.          0.34791311]\n",
            " [ 1.          1.62316696]\n",
            " [ 1.          3.6228186 ]\n",
            " [ 1.          1.07010036]\n",
            " [ 1.         -0.21196585]\n",
            " [ 1.          0.26010676]\n",
            " [ 1.         -1.2462868 ]\n",
            " [ 1.          1.23642899]\n",
            " [ 1.          0.74287751]\n",
            " [ 1.          0.579219  ]\n",
            " [ 1.         -0.07672633]\n",
            " [ 1.          0.02148495]\n",
            " [ 1.         -0.02496202]\n",
            " [ 1.          0.73270128]\n",
            " [ 1.         -1.26638935]\n",
            " [ 1.          1.38572852]\n",
            " [ 1.         -0.07888382]\n",
            " [ 1.          1.48937273]\n",
            " [ 1.         -0.54767846]\n",
            " [ 1.         -1.39219517]\n",
            " [ 1.          0.43011709]\n",
            " [ 1.          0.81880137]\n",
            " [ 1.         -1.66170243]\n",
            " [ 1.          0.06805436]\n",
            " [ 1.         -0.73708886]\n",
            " [ 1.         -0.33552194]\n",
            " [ 1.          0.86803406]\n",
            " [ 1.         -0.70872923]\n",
            " [ 1.          1.71094348]\n",
            " [ 1.          0.2559512 ]\n",
            " [ 1.          1.30464626]\n",
            " [ 1.          0.87343926]\n",
            " [ 1.         -0.03079224]\n",
            " [ 1.         -0.50384245]\n",
            " [ 1.         -0.10442092]\n",
            " [ 1.         -0.83615252]\n",
            " [ 1.          0.17757912]\n",
            " [ 1.         -0.025182  ]\n",
            " [ 1.          2.33198166]\n",
            " [ 1.          0.20980708]\n",
            " [ 1.         -0.87495875]\n",
            " [ 1.          0.19206809]\n",
            " [ 1.          1.81071116]\n",
            " [ 1.         -0.97087714]\n",
            " [ 1.          0.47216312]\n",
            " [ 1.          0.76856819]\n",
            " [ 1.          0.17006552]\n",
            " [ 1.         -0.30495484]\n",
            " [ 1.         -0.15904573]\n",
            " [ 1.         -0.93739458]\n",
            " [ 1.         -0.26026167]\n",
            " [ 1.         -0.42951913]\n",
            " [ 1.          1.42431666]\n",
            " [ 1.         -2.01840752]]\n",
            "[-111.3720104   -65.08589248  -15.78797182  110.67127289   32.33677881\n",
            "  -24.08252536   71.98931511    3.68316081  -42.40831709   -1.84546321\n",
            "   94.35376246   13.48035654    2.5380661    27.31047327    0.58453145\n",
            "  123.17099366   29.65368143    2.29184625  -47.22353331  -21.62895602\n",
            "  -67.33572107   17.84177711  101.38324682   23.42683502  -60.11507949\n",
            "  -50.09504813  -72.98357712  -17.69180093   28.05072822    2.09418588\n",
            "  -14.57151746  -13.02522912   -8.49046574   65.47717556   44.99722439\n",
            "    2.81161156  -49.34268224   75.9016099   -35.8259576    11.38051683\n",
            "    9.63311853  130.80627893   84.95358453  -42.84015701  -53.05284309\n",
            "  -56.74031348   16.84128396   79.7802302   179.44385759   54.35449287\n",
            "   -3.53030102   16.35339446  -63.50024115   57.61926089   35.94821828\n",
            "   22.25570297   -4.81564767    2.30602185    1.59810365   31.45916995\n",
            "  -64.51028036   55.84157332   -6.95099268   74.79541903  -20.87423621\n",
            "  -63.23975908   21.86524205   50.82687892  -93.23523502    5.6362068\n",
            "  -28.11135349  -18.10857655   40.49227861  -31.60841924   81.9171741\n",
            "   14.55187188   59.69096932   37.08631737    8.45295123  -23.63045574\n",
            "    0.7083506   -41.63358102   -2.00111641    1.33711834  114.7063621\n",
            "   10.91472658  -36.07990099    4.89715548   86.20286971  -53.67770513\n",
            "   19.81096119   41.39244751    3.9073143    -2.97845301   -5.12824257\n",
            "  -48.30041326   -5.87643306  -18.9976039    65.65462736  -98.57697138]\n"
          ],
          "name": "stdout"
        }
      ]
    },
    {
      "cell_type": "markdown",
      "metadata": {
        "id": "nVhd2dvCFpzE"
      },
      "source": [
        "#### Train our model and visualize result"
      ]
    },
    {
      "cell_type": "code",
      "metadata": {
        "colab": {
          "base_uri": "https://localhost:8080/",
          "height": 299
        },
        "id": "y3YvmkEEFpzE",
        "outputId": "15bb4eb4-e75b-444a-cadb-c7b728db0786"
      },
      "source": [
        "w = train_linear_regression(one_added_X, y)\n",
        "print(w)\n",
        "# Visualize result\n",
        "predicted_ys = one_added_X.dot(w)\n",
        "\n",
        "plt.plot(X,y,'ro')\n",
        "\n",
        "x_min, x_max = plt.xlim()\n",
        "xs = np.array([x_min, x_max]).reshape(-1, 1)\n",
        "\n",
        "# Construct one_added_xs \n",
        "# TODO:\n",
        "# First column of one_added_xs is all ones (corresponding to x_0).\n",
        "ones_added_xs =  np.c_[np.ones(xs.shape[0]), xs]\n",
        "\n",
        "predicted_ys = ones_added_xs.dot(w)\n",
        "plt.plot(xs, predicted_ys)\n",
        "plt.xlim(x_min, x_max)\n",
        "\n",
        "\n"
      ],
      "execution_count": 6,
      "outputs": [
        {
          "output_type": "stream",
          "text": [
            "[ 1.97848242 43.89861803]\n"
          ],
          "name": "stdout"
        },
        {
          "output_type": "execute_result",
          "data": {
            "text/plain": [
              "(-2.588274476790586, 3.918584936078892)"
            ]
          },
          "metadata": {
            "tags": []
          },
          "execution_count": 6
        },
        {
          "output_type": "display_data",
          "data": {
            "image/png": "[encoded data removed]",
            "text/plain": [
              "<Figure size 432x288 with 1 Axes>"
            ]
          },
          "metadata": {
            "tags": [],
            "needs_background": "light"
          }
        }
      ]
    },
    {
      "cell_type": "markdown",
      "metadata": {
        "id": "lTO6ilruFpzH"
      },
      "source": [
        "- **TODO**: Điểm mạnh và điểm yếu của `Hồi quy tuyến tính`:\n",
        "\n",
        "Điểm mạnh:\n",
        " - Mô hình đơn giản: Mô hình hồi quy tuyến tính là phương trình đơn giản nhất sử dụng để biểu diễn mối quan hệ giữa nhiều biến dự báo và biến dự đoán.\n",
        " - Hiệu quả về mặt tính toán: Tốc độ lập mô hình của hồi quy tuyến tính nhanh vì nó không yêu cầu tính toán phức tạp và chạy dự đoán nhanh khi lượng dữ liệu lớn.\n",
        " - Khả năng diễn giải của đầu ra: Diễn giải được ảnh hưởng tương đối của một hoặc nhiều biến dự báo đến giá trị dự đoán khi các yếu tố dự báo độc lập với nhau. Có thể thể hiện sự thay đổi nào trong biến dự báo gây ra thay đổi nào trong biến dự đoán hoặc biến mục tiêu\n",
        "\n",
        "Điểm yếu:\n",
        " - Quá đơn giản: Mô hình hồi quy tuyến tính quá đơn giản để nắm bắt được độ phức tạp của thế giới thực.\n",
        " - Giả định tuyến tính: Hồi quy tuyến tính đưa ra giả định mạnh mẽ rằng có các biến Dự đoán (độc lập) và Dự đoán (phụ thuộc) có quan hệ tuyến tính với nhau, điều này không hợp lý, vì trong thế giới thực, có rất nhiều mối quan hệ không có sự phự thuộc tuyến tính (phụ thuộc phi tuyến).\n",
        " - Bị ảnh hưởng nghiêm trọng bởi các điểm ngoại lệ: Các điểm ngoại lệ có thể có ảnh hưởng lớn đến kết quả đầu ra.\n",
        " - Tính độc lập của các biến: Giả định rằng các biến dự báo không tương quan với nhau, điều này hiếm (hoặc không có) trong thực tế.\n",
        " - Hồi quy tuyến tính xem xét mối quan hệ giữa giá trị trung bình của biến dự đoán/ phụ thuộc và các biến dự đoán/ độc lập và giả định phương sai không đổi xung quanh giá trị trung bình.\n"
      ]
    },
    {
      "cell_type": "code",
      "metadata": {
        "id": "BehaTobaFpzI"
      },
      "source": [
        ""
      ],
      "execution_count": null,
      "outputs": []
    }
  ]
}