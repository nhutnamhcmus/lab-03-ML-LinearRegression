{
  "nbformat": 4,
  "nbformat_minor": 0,
  "metadata": {
    "colab": {
      "name": "Lab03-LinearRegression.ipynb",
      "provenance": [],
      "collapsed_sections": []
    },
    "kernelspec": {
      "display_name": "Python 3",
      "language": "python",
      "name": "python3"
    },
    "language_info": {
      "codemirror_mode": {
        "name": "ipython",
        "version": 3
      },
      "file_extension": ".py",
      "mimetype": "text/x-python",
      "name": "python",
      "nbconvert_exporter": "python",
      "pygments_lexer": "ipython3",
      "version": "3.7.9-final"
    }
  },
  "cells": [
    {
      "cell_type": "markdown",
      "metadata": {
        "id": "dw29NSYmFpyS"
      },
      "source": [
        "# Lab03: Hồi quy tuyến tính.\n",
        "\n",
        "- MSSV: 18120061\n",
        "- Họ và tên: Lê Nhựt Nam"
      ]
    },
    {
      "cell_type": "markdown",
      "metadata": {
        "id": "oHR1Zj5GFpyT"
      },
      "source": [
        "## Yêu cầu bài tập\n",
        "\n",
        "**Cách làm bài**\n",
        "\n",
        "\n",
        "Bạn sẽ làm trực tiếp trên file notebook này; trong file, từ `TODO` để cho biết những phần mà bạn cần phải làm.\n",
        "\n",
        "Bạn có thể thảo luận ý tưởng cũng như tham khảo các tài liệu, nhưng *code và bài làm phải là của bạn*. \n",
        "\n",
        "Nếu vi phạm thì sẽ bị 0 điểm cho bài tập này.\n",
        "\n",
        "**Cách nộp bài**\n",
        "\n",
        "Trước khi nộp bài, rerun lại notebook (`Kernel` -> `Restart & Run All`).\n",
        "\n",
        "Sau đó, tạo thư mục có tên `MSSV` của bạn (vd, nếu bạn có MSSV là 1234567 thì bạn đặt tên thư mục là `1234567`). Chép file notebook vào, rồi nén thư mục `MSSV` này lại và nộp ở link trên moodle.\n",
        "\n",
        "**Nội dung bài tập**\n",
        "\n",
        "Bài tập 3 là bài tập cá nhân. Trong bài này, bạn sẽ cài đặt thuật toán học máy `Hồi quy tuyến tính`. \n"
      ]
    },
    {
      "cell_type": "markdown",
      "metadata": {
        "id": "REHkv-y8FpyU"
      },
      "source": [
        "### 1. Tập giả định"
      ]
    },
    {
      "cell_type": "markdown",
      "metadata": {
        "id": "e75OMY0KFpyU"
      },
      "source": [
        "- Hồi quy tuyến tính là một mô hình **tuyến tính**, mô hình này giả định tồn tại một mối liên hệ tuyến tính giữa các biến đầu vào (x) và một biến đầu ra (y). Cụ thể hơn, y có thể được tính bằng một tổ hợp tuyến tính của các biến đầu vào (x).\n",
        "- Một cách tổng quát, một mô hình tuyến tính dự đoán kết quả bằng cách tính tổng trọng số của các đặc trưng đầu vào (hay các biến độc lập). \n",
        "$$ \\hat{y}=w_0+w_1x_1+w_2x_2+...+w_nx_n $$\n",
        "    - $\\hat{y}$ là giá trị dự đoán.\n",
        "    - $n$ là số lượng đặc trưng.\n",
        "    - $x_i$ là giá trị đặc trưng thứ $i$.\n",
        "    - $w_j$ là tham số thứ $j$ của mô hình.\n",
        "$$\\hat{y}=h_{\\mathbf{w}}\\left(\\mathbf{x}\\right)=\\mathbf{w}^{T}\\cdot\\mathbf{x}$$\n",
        "    - $\\mathbf{w}$ **vector trọng số** của mô hình (bao gốm cả $w_0$ và các trọng số đặc trưng $w_1,w_2,...w_n$).\n",
        "    - $\\mathbf{w}^T$ là chuyển vị của $\\mathbf{w}$ (vector hàng thay vì vector cột).\n",
        "    - $\\mathbf{x}$ là **vector đầu vào** của các mẫu dữ liệu, *bao gồm* $x_0$ đến $x_n$, với $x_0$ *luôn có giá trị là* 1.\n",
        "    - $\\mathbf{w}^{T}\\cdot\\mathbf{x}$ là tích vô hướng của 2 vector $\\mathbf{w}^T$ và $\\mathbf{x}$.\n",
        "    - $h_{\\mathbf{w}}$ là hàm giả thiết, biểu diễn bằng các tham số $\\mathbf{w}$.\n"
      ]
    },
    {
      "cell_type": "markdown",
      "metadata": {
        "id": "5l8F4lnjFpyV"
      },
      "source": [
        "### 2. Đánh giá hiệu suất và mục tiêu học"
      ]
    },
    {
      "cell_type": "markdown",
      "metadata": {
        "id": "fdJNZ2q6FpyX"
      },
      "source": [
        "- Trước khi huấn luyện dữ liệu, ta cần phải đánh giá mô hình của chúng ta khớp với dữ liệu huấn luyện như thế nào. Cách đánh giá thường được sử dụng nhất là trung bình bình phương độ lỗi **MSE** (Mean Square Error) $\\Rightarrow$ ta cần phải tìm $\\mathbf{w}$ tối thiểu hóa MSE:\n",
        "$$\\mathbf{w}=\\arg\\min MSE_{\\mathcal{D}_{train}}$$\n",
        "\n",
        "\n",
        "- MSE trên tập huấn luyện $\\mathcal{D}_{train}$ ký hiệu $\\left(\\mathbf{X},\\mathbf{y}\\right)$ bao gồm m mẫu $\\left\\{\\left(\\mathbf{x}_1,y_1\\right),\\left(\\mathbf{x}_2,y_2\\right),...\\left(\\mathbf{x}_m,y_m\\right)\\right\\}$"
      ]
    },
    {
      "cell_type": "markdown",
      "metadata": {
        "id": "GTOZj7HfFpyY"
      },
      "source": [
        "$$MSE\\left(X,h_{\\mathbf{w}}\\right)=\\dfrac{1}{m}\\sum_{i=1}^{m}\\left(\\mathbf{w}^T\\cdot\\mathbf{x}_i - y_i\\right )^2$$\n",
        "$$MSE\\left(X,h_{\\mathbf{w}}\\right)=\\dfrac{1}{m}\\Vert\\mathbf{X}\\mathbf{w}-\\mathbf{y}\\Vert^2$$"
      ]
    },
    {
      "cell_type": "markdown",
      "metadata": {
        "id": "ORU-9tCxFpyZ"
      },
      "source": [
        "- Để tìm $\\mathbf{w}$ sao cho hàm lỗi MSE tối thiểu ta tìm điểm đạo hàm của MSE có giá trị 0. \n",
        "$$\\mathbf{\\hat{w}}=\\left(\\mathbf{X}^T  \\mathbf{X}\\right)^{\\dagger}  \\mathbf{X}^T  \\mathbf{y}$$\n",
        "  - $\\mathbf{\\hat{w}}$ là giá trị của $\\mathbf{w}$ để giảm thiểu độ lỗi. \n",
        "  - **Chú ý** $\\mathbf{X}^T  \\mathbf{X}$ không phải luôn **khả nghịch**. $\\left(\\mathbf{X}^T  \\mathbf{X}\\right)^{\\dagger}$ là nghịch đảo giả của $\\left(\\mathbf{X}^T  \\mathbf{X}\\right)$ - trường hợp nghịch đảo tổng quát kể cả khi ma trận không vuông cũng như không khả nghịch."
      ]
    },
    {
      "cell_type": "markdown",
      "metadata": {
        "id": "6Tgy-tRYFpyZ"
      },
      "source": [
        "### 3. Cài đặt"
      ]
    },
    {
      "cell_type": "markdown",
      "metadata": {
        "id": "qauCdk7LFpya"
      },
      "source": [
        "#### Import Library"
      ]
    },
    {
      "cell_type": "code",
      "metadata": {
        "id": "70Mis-p9Fpyd"
      },
      "source": [
        "import numpy as np\n",
        "import matplotlib.pyplot as plt \n",
        "import sklearn.datasets as datasets\n",
        "%matplotlib inline"
      ],
      "execution_count": 1,
      "outputs": []
    },
    {
      "cell_type": "markdown",
      "metadata": {
        "id": "nRr06hARFpyk"
      },
      "source": [
        "#### Create data"
      ]
    },
    {
      "cell_type": "code",
      "metadata": {
        "id": "g0K3G_SOFpyk",
        "outputId": "d08a1507-a676-4d16-a227-6084ed27f63e",
        "colab": {
          "base_uri": "https://localhost:8080/"
        }
      },
      "source": [
        "X,y=datasets.make_regression(n_samples=100,n_features=1, noise=5)\n",
        "print(\"Show data X\\n\")\n",
        "print(X)\n",
        "print(\"Show data y\\n\")\n",
        "print(y)"
      ],
      "execution_count": 2,
      "outputs": [
        {
          "output_type": "stream",
          "text": [
            "Show data X\n",
            "\n",
            "[[ 0.97951114]\n",
            " [ 1.14184588]\n",
            " [ 0.67364088]\n",
            " [ 0.10790556]\n",
            " [ 0.38031427]\n",
            " [ 1.59955926]\n",
            " [-0.27696573]\n",
            " [ 0.04431075]\n",
            " [-1.24541953]\n",
            " [-0.73759244]\n",
            " [ 1.11351564]\n",
            " [ 1.04134621]\n",
            " [ 1.44592561]\n",
            " [-0.65675532]\n",
            " [-0.60326549]\n",
            " [-1.29967017]\n",
            " [ 0.7023907 ]\n",
            " [-1.18275723]\n",
            " [-0.97594771]\n",
            " [ 0.18638995]\n",
            " [-1.03745461]\n",
            " [ 0.3628971 ]\n",
            " [ 0.38901644]\n",
            " [-1.31520786]\n",
            " [-0.0268465 ]\n",
            " [ 1.15871324]\n",
            " [-0.03430779]\n",
            " [ 1.18928516]\n",
            " [-0.04906073]\n",
            " [-0.25126631]\n",
            " [-1.27717537]\n",
            " [ 0.14747845]\n",
            " [-0.98265024]\n",
            " [-0.64967553]\n",
            " [-1.13646174]\n",
            " [ 1.3998228 ]\n",
            " [-0.49989074]\n",
            " [-0.2287303 ]\n",
            " [-1.26396046]\n",
            " [ 1.73049619]\n",
            " [-1.00190114]\n",
            " [-0.23234264]\n",
            " [-0.57614474]\n",
            " [-0.77670753]\n",
            " [-0.89935559]\n",
            " [ 0.69545303]\n",
            " [ 0.28616649]\n",
            " [ 0.07739777]\n",
            " [-0.75816362]\n",
            " [ 2.63938616]\n",
            " [-1.93544844]\n",
            " [ 1.72749828]\n",
            " [-1.50429273]\n",
            " [ 1.57317213]\n",
            " [ 1.514816  ]\n",
            " [ 0.1320432 ]\n",
            " [-0.59520419]\n",
            " [-0.17502828]\n",
            " [ 0.94718565]\n",
            " [-1.79950779]\n",
            " [-1.52190418]\n",
            " [-1.37789855]\n",
            " [ 0.45814536]\n",
            " [-1.03516754]\n",
            " [ 0.55215519]\n",
            " [-1.08818046]\n",
            " [-1.62217039]\n",
            " [ 0.86760355]\n",
            " [ 0.56609636]\n",
            " [-0.29682675]\n",
            " [ 0.53467979]\n",
            " [ 0.79714847]\n",
            " [ 1.16343033]\n",
            " [-0.22764101]\n",
            " [ 0.3948071 ]\n",
            " [-0.00853154]\n",
            " [ 0.16184619]\n",
            " [ 0.3588758 ]\n",
            " [ 1.1352308 ]\n",
            " [-1.01870169]\n",
            " [ 1.16603241]\n",
            " [-0.2220981 ]\n",
            " [-0.6976234 ]\n",
            " [-2.46584573]\n",
            " [ 0.95205046]\n",
            " [ 1.00930869]\n",
            " [-1.33838451]\n",
            " [-0.63615642]\n",
            " [ 1.21127442]\n",
            " [-0.40068697]\n",
            " [ 0.90703392]\n",
            " [ 0.34882651]\n",
            " [ 1.44609843]\n",
            " [ 0.02473575]\n",
            " [ 1.10798751]\n",
            " [-1.65969559]\n",
            " [-0.44233873]\n",
            " [-2.29409234]\n",
            " [ 1.10312054]\n",
            " [-0.12528952]]\n",
            "Show data y\n",
            "\n",
            "[ 19.21808912  32.02984858  21.02030474  10.8370904   17.85358394\n",
            "  45.64137363 -11.21526906  -6.70214142 -32.95921768 -14.4663491\n",
            "  27.04675645  36.83755831  37.34997043 -17.01236696 -21.94317418\n",
            " -34.93229714  32.22975297 -29.41796196 -34.18387472   8.88475855\n",
            " -31.10080991   6.07017451  10.34856213 -35.79303203  -8.11614244\n",
            "  36.87774846   0.46937694  29.91654392   5.87030391  -6.75664938\n",
            " -36.88871987   6.77784037 -28.32328244 -20.21885363 -20.26608923\n",
            "  32.12717573 -23.32898828  -2.37735722 -46.29452173  51.97906106\n",
            " -24.2578917  -19.33532403 -14.07438442 -17.09361378 -23.29486801\n",
            "  23.76693952   7.63183324   3.91974909 -19.88887957  68.99845801\n",
            " -56.98263237  53.34581624 -41.87037744  43.73340144  44.78855778\n",
            "   8.57254552  -9.70297354   3.68050171  33.52974605 -48.27718548\n",
            " -44.59619742 -39.45239097   9.77616618 -32.13314501  22.10193638\n",
            " -21.35567379 -53.58868321  22.05038539  22.48491975  -9.89841985\n",
            "  18.96587433  27.44721091  30.2488824   -7.09299034  10.27451416\n",
            "   2.50658246   1.24052485   2.17769623  40.51756319 -33.08424465\n",
            "  30.10535238  -7.5424958  -16.65288184 -76.61802009  33.78307811\n",
            "  27.98619669 -44.86054349 -21.19252706  30.80879134 -13.97782385\n",
            "  29.69169114  11.62663929  40.57762759  -5.40040639  36.19532463\n",
            " -43.38337651 -10.02309135 -54.68644268  20.75063021  -4.66278614]\n"
          ],
          "name": "stdout"
        }
      ]
    },
    {
      "cell_type": "markdown",
      "metadata": {
        "id": "vBFWzeY3Fpyp"
      },
      "source": [
        "#### Load and visualize data"
      ]
    },
    {
      "cell_type": "code",
      "metadata": {
        "id": "4BpxLtG3Fpyq",
        "outputId": "064b86a4-7edb-4fff-a209-8b1fee72d067",
        "colab": {
          "base_uri": "https://localhost:8080/",
          "height": 265
        }
      },
      "source": [
        "# Visualize data \n",
        "\n",
        "plt.plot(X, y, 'ro')\n",
        "plt.show()\n"
      ],
      "execution_count": 3,
      "outputs": [
        {
          "output_type": "display_data",
          "data": {
            "image/png": "[encoded data removed]",
            "text/plain": [
              "<Figure size 432x288 with 1 Axes>"
            ]
          },
          "metadata": {
            "tags": [],
            "needs_background": "light"
          }
        }
      ]
    },
    {
      "cell_type": "markdown",
      "metadata": {
        "id": "PLDAEVR8Fpyx"
      },
      "source": [
        "**TODO:** \n",
        "\n",
        "- Nhận xét dữ liệu: Từ đồ thị này ta thấy rằng dữ liệu được sắp xếp gần như theo 1 đường thẳng, vậy mô hình Linear Regression nhiều khả năng sẽ cho kết quả tốt"
      ]
    },
    {
      "cell_type": "markdown",
      "metadata": {
        "id": "mrb7peM1Fpyz"
      },
      "source": [
        "#### Training function"
      ]
    },
    {
      "cell_type": "code",
      "metadata": {
        "id": "DdPXTgoAFpyz"
      },
      "source": [
        "def train_linear_regression(X, y):\n",
        "    '''\n",
        "    Trains Linear Regression on the dataset (X, y).\n",
        "    \n",
        "    Parameters\n",
        "    ----------\n",
        "    X : numpy array, shape (m, d + 1)\n",
        "        The matrix of input vectors (each row corresponds to an input vector); \n",
        "        the first column of this matrix is all ones (corresponding to x_0).\n",
        "    y : numpy array, shape (m, 1)\n",
        "        The vector of outputs.\n",
        "    \n",
        "    Returns\n",
        "    -------\n",
        "    w : numpy array, shape (d + 1, 1)\n",
        "        The vector of parameters of Linear Regression after training.\n",
        "    '''\n",
        "    # TODO\n",
        "    # X.T là chuyển vị của mảng X\n",
        "    A = np.dot(X.T, X)\n",
        "    b = np.dot(X.T, y)\n",
        "    # Giả nghịch đảo của một ma trận A trong Python sẽ được tính bằng numpy.linalg.pinv(A), pinv là từ viết tắt của pseudo inverse.\n",
        "    w = np.dot(np.linalg.pinv(A), b)\n",
        "    return w"
      ],
      "execution_count": 4,
      "outputs": []
    },
    {
      "cell_type": "code",
      "metadata": {
        "id": "wDgQ-5EDFpy5",
        "outputId": "8ed72fb5-b9a9-4b6c-8de8-c2d72c1a76fb",
        "colab": {
          "base_uri": "https://localhost:8080/"
        }
      },
      "source": [
        "# Construct one_added_X \n",
        "# TODO:\n",
        "# First column of one_added_X is all ones (corresponding to x_0).\n",
        "one_added_X = np.c_[np.ones(X.shape[0]), X]\n",
        "print ('one_added_X.shape =', one_added_X.shape)\n",
        "print ('y.shape =', y.shape)\n",
        "\n",
        "print(one_added_X)\n",
        "print(y)"
      ],
      "execution_count": 5,
      "outputs": [
        {
          "output_type": "stream",
          "text": [
            "one_added_X.shape = (100, 2)\n",
            "y.shape = (100,)\n",
            "[[ 1.          0.97951114]\n",
            " [ 1.          1.14184588]\n",
            " [ 1.          0.67364088]\n",
            " [ 1.          0.10790556]\n",
            " [ 1.          0.38031427]\n",
            " [ 1.          1.59955926]\n",
            " [ 1.         -0.27696573]\n",
            " [ 1.          0.04431075]\n",
            " [ 1.         -1.24541953]\n",
            " [ 1.         -0.73759244]\n",
            " [ 1.          1.11351564]\n",
            " [ 1.          1.04134621]\n",
            " [ 1.          1.44592561]\n",
            " [ 1.         -0.65675532]\n",
            " [ 1.         -0.60326549]\n",
            " [ 1.         -1.29967017]\n",
            " [ 1.          0.7023907 ]\n",
            " [ 1.         -1.18275723]\n",
            " [ 1.         -0.97594771]\n",
            " [ 1.          0.18638995]\n",
            " [ 1.         -1.03745461]\n",
            " [ 1.          0.3628971 ]\n",
            " [ 1.          0.38901644]\n",
            " [ 1.         -1.31520786]\n",
            " [ 1.         -0.0268465 ]\n",
            " [ 1.          1.15871324]\n",
            " [ 1.         -0.03430779]\n",
            " [ 1.          1.18928516]\n",
            " [ 1.         -0.04906073]\n",
            " [ 1.         -0.25126631]\n",
            " [ 1.         -1.27717537]\n",
            " [ 1.          0.14747845]\n",
            " [ 1.         -0.98265024]\n",
            " [ 1.         -0.64967553]\n",
            " [ 1.         -1.13646174]\n",
            " [ 1.          1.3998228 ]\n",
            " [ 1.         -0.49989074]\n",
            " [ 1.         -0.2287303 ]\n",
            " [ 1.         -1.26396046]\n",
            " [ 1.          1.73049619]\n",
            " [ 1.         -1.00190114]\n",
            " [ 1.         -0.23234264]\n",
            " [ 1.         -0.57614474]\n",
            " [ 1.         -0.77670753]\n",
            " [ 1.         -0.89935559]\n",
            " [ 1.          0.69545303]\n",
            " [ 1.          0.28616649]\n",
            " [ 1.          0.07739777]\n",
            " [ 1.         -0.75816362]\n",
            " [ 1.          2.63938616]\n",
            " [ 1.         -1.93544844]\n",
            " [ 1.          1.72749828]\n",
            " [ 1.         -1.50429273]\n",
            " [ 1.          1.57317213]\n",
            " [ 1.          1.514816  ]\n",
            " [ 1.          0.1320432 ]\n",
            " [ 1.         -0.59520419]\n",
            " [ 1.         -0.17502828]\n",
            " [ 1.          0.94718565]\n",
            " [ 1.         -1.79950779]\n",
            " [ 1.         -1.52190418]\n",
            " [ 1.         -1.37789855]\n",
            " [ 1.          0.45814536]\n",
            " [ 1.         -1.03516754]\n",
            " [ 1.          0.55215519]\n",
            " [ 1.         -1.08818046]\n",
            " [ 1.         -1.62217039]\n",
            " [ 1.          0.86760355]\n",
            " [ 1.          0.56609636]\n",
            " [ 1.         -0.29682675]\n",
            " [ 1.          0.53467979]\n",
            " [ 1.          0.79714847]\n",
            " [ 1.          1.16343033]\n",
            " [ 1.         -0.22764101]\n",
            " [ 1.          0.3948071 ]\n",
            " [ 1.         -0.00853154]\n",
            " [ 1.          0.16184619]\n",
            " [ 1.          0.3588758 ]\n",
            " [ 1.          1.1352308 ]\n",
            " [ 1.         -1.01870169]\n",
            " [ 1.          1.16603241]\n",
            " [ 1.         -0.2220981 ]\n",
            " [ 1.         -0.6976234 ]\n",
            " [ 1.         -2.46584573]\n",
            " [ 1.          0.95205046]\n",
            " [ 1.          1.00930869]\n",
            " [ 1.         -1.33838451]\n",
            " [ 1.         -0.63615642]\n",
            " [ 1.          1.21127442]\n",
            " [ 1.         -0.40068697]\n",
            " [ 1.          0.90703392]\n",
            " [ 1.          0.34882651]\n",
            " [ 1.          1.44609843]\n",
            " [ 1.          0.02473575]\n",
            " [ 1.          1.10798751]\n",
            " [ 1.         -1.65969559]\n",
            " [ 1.         -0.44233873]\n",
            " [ 1.         -2.29409234]\n",
            " [ 1.          1.10312054]\n",
            " [ 1.         -0.12528952]]\n",
            "[ 19.21808912  32.02984858  21.02030474  10.8370904   17.85358394\n",
            "  45.64137363 -11.21526906  -6.70214142 -32.95921768 -14.4663491\n",
            "  27.04675645  36.83755831  37.34997043 -17.01236696 -21.94317418\n",
            " -34.93229714  32.22975297 -29.41796196 -34.18387472   8.88475855\n",
            " -31.10080991   6.07017451  10.34856213 -35.79303203  -8.11614244\n",
            "  36.87774846   0.46937694  29.91654392   5.87030391  -6.75664938\n",
            " -36.88871987   6.77784037 -28.32328244 -20.21885363 -20.26608923\n",
            "  32.12717573 -23.32898828  -2.37735722 -46.29452173  51.97906106\n",
            " -24.2578917  -19.33532403 -14.07438442 -17.09361378 -23.29486801\n",
            "  23.76693952   7.63183324   3.91974909 -19.88887957  68.99845801\n",
            " -56.98263237  53.34581624 -41.87037744  43.73340144  44.78855778\n",
            "   8.57254552  -9.70297354   3.68050171  33.52974605 -48.27718548\n",
            " -44.59619742 -39.45239097   9.77616618 -32.13314501  22.10193638\n",
            " -21.35567379 -53.58868321  22.05038539  22.48491975  -9.89841985\n",
            "  18.96587433  27.44721091  30.2488824   -7.09299034  10.27451416\n",
            "   2.50658246   1.24052485   2.17769623  40.51756319 -33.08424465\n",
            "  30.10535238  -7.5424958  -16.65288184 -76.61802009  33.78307811\n",
            "  27.98619669 -44.86054349 -21.19252706  30.80879134 -13.97782385\n",
            "  29.69169114  11.62663929  40.57762759  -5.40040639  36.19532463\n",
            " -43.38337651 -10.02309135 -54.68644268  20.75063021  -4.66278614]\n"
          ],
          "name": "stdout"
        }
      ]
    },
    {
      "cell_type": "code",
      "metadata": {
        "id": "nVhd2dvCFpzE"
      },
      "source": [
        "#### Train our model and visualize result"
      ],
      "execution_count": 6,
      "outputs": []
    },
    {
      "cell_type": "code",
      "metadata": {
        "id": "y3YvmkEEFpzE",
        "outputId": "8df6dd08-8854-481f-82eb-aeece612404e",
        "colab": {
          "base_uri": "https://localhost:8080/",
          "height": 299
        }
      },
      "source": [
        "w = train_linear_regression(one_added_X, y)\n",
        "print(w)\n",
        "# Visualize result\n",
        "predicted_ys = one_added_X.dot(w)\n",
        "\n",
        "plt.plot(X,y,'ro')\n",
        "\n",
        "x_min, x_max = plt.xlim()\n",
        "xs = np.array([x_min, x_max]).reshape(-1, 1)\n",
        "\n",
        "# Construct one_added_xs \n",
        "# TODO:\n",
        "# First column of one_added_xs is all ones (corresponding to x_0).\n",
        "ones_added_xs =  np.c_[np.ones(xs.shape[0]), xs]\n",
        "\n",
        "predicted_ys = ones_added_xs.dot(w)\n",
        "plt.plot(xs, predicted_ys)\n",
        "plt.xlim(x_min, x_max)\n",
        "\n",
        "\n"
      ],
      "execution_count": 7,
      "outputs": [
        {
          "output_type": "stream",
          "text": [
            "[ 0.35023782 28.33388949]\n"
          ],
          "name": "stdout"
        },
        {
          "output_type": "execute_result",
          "data": {
            "text/plain": [
              "(-2.7211073288520966, 2.894647756054926)"
            ]
          },
          "metadata": {
            "tags": []
          },
          "execution_count": 7
        },
        {
          "output_type": "display_data",
          "data": {
            "image/png": "[encoded data removed]",
            "text/plain": [
              "<Figure size 432x288 with 1 Axes>"
            ]
          },
          "metadata": {
            "tags": [],
            "needs_background": "light"
          }
        }
      ]
    },
    {
      "cell_type": "markdown",
      "metadata": {
        "id": "0VzwTTHd5Qy8"
      },
      "source": [
        "#### Tính MSE (Tính thử)\n"
      ]
    },
    {
      "cell_type": "code",
      "metadata": {
        "id": "GIcBBW7k5Qy8",
        "outputId": "41238bcb-6a20-4840-b928-b9db2db2380d",
        "colab": {
          "base_uri": "https://localhost:8080/"
        }
      },
      "source": [
        "w_0 = w[0]\n",
        "print('w0 = {0}'.format(w_0))\n",
        "w_1 = w[1]\n",
        "print('w1 = {0}'.format(w_1))\n",
        "predicted_y = y * w_0 + w_1\n",
        "\n",
        "mse = (np.square(y - predicted_y)).mean(axis=0)\n",
        "print('MSE = {0}'.format(mse / len(y)))"
      ],
      "execution_count": 8,
      "outputs": [
        {
          "output_type": "stream",
          "text": [
            "w0 = 0.35023781816202826\n",
            "w1 = 28.333889489366715\n",
            "MSE = 11.92748897564119\n"
          ],
          "name": "stdout"
        }
      ]
    },
    {
      "cell_type": "markdown",
      "metadata": {
        "id": "lTO6ilruFpzH"
      },
      "source": [
        "- **TODO**: Điểm mạnh và điểm yếu của `Hồi quy tuyến tính`:\n",
        "\n",
        "Điểm mạnh:\n",
        " - Mô hình đơn giản: Mô hình hồi quy tuyến tính là phương trình đơn giản nhất sử dụng để biểu diễn mối quan hệ giữa nhiều biến dự báo và biến dự đoán.\n",
        " - Hiệu quả về mặt tính toán: Tốc độ lập mô hình của hồi quy tuyến tính nhanh vì nó không yêu cầu tính toán phức tạp và chạy dự đoán nhanh khi lượng dữ liệu lớn.\n",
        " - Khả năng diễn giải của đầu ra: Diễn giải được ảnh hưởng tương đối của một hoặc nhiều biến dự báo đến giá trị dự đoán khi các yếu tố dự báo độc lập với nhau. Có thể thể hiện sự thay đổi nào trong biến dự báo gây ra thay đổi nào trong biến dự đoán hoặc biến mục tiêu\n",
        "\n",
        "Điểm yếu:\n",
        " - Quá đơn giản: Mô hình hồi quy tuyến tính quá đơn giản để nắm bắt được độ phức tạp của thế giới thực.\n",
        " - Giả định tuyến tính: Hồi quy tuyến tính đưa ra giả định mạnh mẽ rằng có các biến Dự đoán (độc lập) và Dự đoán (phụ thuộc) có quan hệ tuyến tính với nhau, điều này không hợp lý, vì trong thế giới thực, có rất nhiều mối quan hệ không có sự phự thuộc tuyến tính (phụ thuộc phi tuyến).\n",
        " - Bị ảnh hưởng nghiêm trọng bởi các điểm ngoại lệ: Các điểm ngoại lệ có thể có ảnh hưởng lớn đến kết quả đầu ra.\n",
        " - Tính độc lập của các biến: Giả định rằng các biến dự báo không tương quan với nhau, điều này hiếm (hoặc không có) trong thực tế.\n",
        " - Hồi quy tuyến tính xem xét mối quan hệ giữa giá trị trung bình của biến dự đoán/ phụ thuộc và các biến dự đoán/ độc lập và giả định phương sai không đổi xung quanh giá trị trung bình."
      ]
    },
    {
      "cell_type": "markdown",
      "metadata": {
        "id": "4uPpFq9T6lCW"
      },
      "source": [
        "### Thử nghiệm với Sklean"
      ]
    },
    {
      "cell_type": "code",
      "metadata": {
        "id": "BehaTobaFpzI"
      },
      "source": [
        "from sklearn import datasets, linear_model"
      ],
      "execution_count": 9,
      "outputs": []
    },
    {
      "cell_type": "code",
      "metadata": {
        "id": "tlvPImru6n-y",
        "outputId": "e8571115-3507-43b4-efcf-9dfc495ef605",
        "colab": {
          "base_uri": "https://localhost:8080/",
          "height": 266
        }
      },
      "source": [
        "# fit the model by Linear Regression\r\n",
        "regr = linear_model.LinearRegression(fit_intercept=False) # fit_intercept = False for calculating the bias\r\n",
        "regr.fit(X, y)\r\n",
        "\r\n",
        "plt.scatter(X, y,color='g')\r\n",
        "plt.plot(X, regr.predict(X),color='k')\r\n",
        "\r\n",
        "plt.show()"
      ],
      "execution_count": 10,
      "outputs": [
        {
          "output_type": "display_data",
          "data": {
            "image/png": "[encoded data removed]",
            "text/plain": [
              "<Figure size 432x288 with 1 Axes>"
            ]
          },
          "metadata": {
            "tags": [],
            "needs_background": "light"
          }
        }
      ]
    }
  ]
}