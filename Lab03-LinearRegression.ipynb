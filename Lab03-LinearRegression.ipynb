{
  "nbformat": 4,
  "nbformat_minor": 0,
  "metadata": {
    "colab": {
      "name": "Lab01-LinearRegression.ipynb",
      "provenance": [],
      "collapsed_sections": []
    },
    "kernelspec": {
      "display_name": "Python 3",
      "language": "python",
      "name": "python3"
    },
    "language_info": {
      "codemirror_mode": {
        "name": "ipython",
        "version": 3
      },
      "file_extension": ".py",
      "mimetype": "text/x-python",
      "name": "python",
      "nbconvert_exporter": "python",
      "pygments_lexer": "ipython3",
      "version": "3.7.9-final"
    }
  },
  "cells": [
    {
      "cell_type": "markdown",
      "metadata": {
        "id": "dw29NSYmFpyS"
      },
      "source": [
        "# Lab03: Hồi quy tuyến tính.\n",
        "\n",
        "- MSSV: 18120061\n",
        "- Họ và tên: Lê Nhựt Nam"
      ]
    },
    {
      "cell_type": "markdown",
      "metadata": {
        "id": "oHR1Zj5GFpyT"
      },
      "source": [
        "## Yêu cầu bài tập\n",
        "\n",
        "**Cách làm bài**\n",
        "\n",
        "\n",
        "Bạn sẽ làm trực tiếp trên file notebook này; trong file, từ `TODO` để cho biết những phần mà bạn cần phải làm.\n",
        "\n",
        "Bạn có thể thảo luận ý tưởng cũng như tham khảo các tài liệu, nhưng *code và bài làm phải là của bạn*. \n",
        "\n",
        "Nếu vi phạm thì sẽ bị 0 điểm cho bài tập này.\n",
        "\n",
        "**Cách nộp bài**\n",
        "\n",
        "Trước khi nộp bài, rerun lại notebook (`Kernel` -> `Restart & Run All`).\n",
        "\n",
        "Sau đó, tạo thư mục có tên `MSSV` của bạn (vd, nếu bạn có MSSV là 1234567 thì bạn đặt tên thư mục là `1234567`) Chép file `Lab03-Clustering.ipynb` vào, rồi nén thư mục `MSSV` này lại và nộp ở link trên moodle.\n",
        "\n",
        "**Nội dung bài tập**\n",
        "\n",
        "Bài tập 3 là bài tập cá nhân. Trong bài này, bạn sẽ cài đặt thuật toán học máy `Hồi quy tuyến tính`. \n"
      ]
    },
    {
      "cell_type": "markdown",
      "metadata": {
        "id": "REHkv-y8FpyU"
      },
      "source": [
        "### 1. Tập giả định"
      ]
    },
    {
      "cell_type": "markdown",
      "metadata": {
        "id": "e75OMY0KFpyU"
      },
      "source": [
        "- Hồi quy tuyến tính là một mô hình **tuyến tính**, mô hình này giả định tồn tại một mối liên hệ tuyến tính giữa các biến đầu vào (x) và một biến đầu ra (y). Cụ thể hơn, y có thể được tính bằng một tổ hợp tuyến tính của các biến đầu vào (x).\n",
        "- Một cách tổng quát, một mô hình tuyến tính dự đoán kết quả bằng cách tính tổng trọng số của các đặc trưng đầu vào (hay các biến độc lập). \n",
        "$$ \\hat{y}=w_0+w_1x_1+w_2x_2+...+w_nx_n $$\n",
        "    - $\\hat{y}$ là giá trị dự đoán.\n",
        "    - $n$ là số lượng đặc trưng.\n",
        "    - $x_i$ là giá trị đặc trưng thứ $i$.\n",
        "    - $w_j$ là tham số thứ $j$ của mô hình.\n",
        "$$\\hat{y}=h_{\\mathbf{w}}\\left(\\mathbf{x}\\right)=\\mathbf{w}^{T}\\cdot\\mathbf{x}$$\n",
        "    - $\\mathbf{w}$ **vector trọng số** của mô hình (bao gốm cả $w_0$ và các trọng số đặc trưng $w_1,w_2,...w_n$).\n",
        "    - $\\mathbf{w}^T$ là chuyển vị của $\\mathbf{w}$ (vector hàng thay vì vector cột).\n",
        "    - $\\mathbf{x}$ là **vector đầu vào** của các mẫu dữ liệu, *bao gồm* $x_0$ đến $x_n$, với $x_0$ *luôn có giá trị là* 1.\n",
        "    - $\\mathbf{w}^{T}\\cdot\\mathbf{x}$ là tích vô hướng của 2 vector $\\mathbf{w}^T$ và $\\mathbf{x}$.\n",
        "    - $h_{\\mathbf{w}}$ là hàm giả thiết, biểu diễn bằng các tham số $\\mathbf{w}$.\n"
      ]
    },
    {
      "cell_type": "markdown",
      "metadata": {
        "id": "5l8F4lnjFpyV"
      },
      "source": [
        "### 2. Đánh giá hiệu suất và mục tiêu học"
      ]
    },
    {
      "cell_type": "markdown",
      "metadata": {
        "id": "fdJNZ2q6FpyX"
      },
      "source": [
        "- Trước khi huấn luyện dữ liệu, ta cần phải đánh giá mô hình của chúng ta khớp với dữ liệu huấn luyện như thế nào. Cách đánh giá thường được sử dụng nhất là trung bình bình phương độ lỗi **MSE** (Mean Square Error) $\\Rightarrow$ ta cần phải tìm $\\mathbf{w}$ tối thiểu hóa MSE:\n",
        "$$\\mathbf{w}=\\arg\\min MSE_{\\mathcal{D}_{train}}$$\n",
        "\n",
        "\n",
        "- MSE trên tập huấn luyện $\\mathcal{D}_{train}$ ký hiệu $\\left(\\mathbf{X},\\mathbf{y}\\right)$ bao gồm m mẫu $\\left\\{\\left(\\mathbf{x}_1,y_1\\right),\\left(\\mathbf{x}_2,y_2\\right),...\\left(\\mathbf{x}_m,y_m\\right)\\right\\}$"
      ]
    },
    {
      "cell_type": "markdown",
      "metadata": {
        "id": "GTOZj7HfFpyY"
      },
      "source": [
        "$$MSE\\left(X,h_{\\mathbf{w}}\\right)=\\dfrac{1}{m}\\sum_{i=1}^{m}\\left(\\mathbf{w}^T\\cdot\\mathbf{x}_i - y_i\\right )^2$$\n",
        "$$MSE\\left(X,h_{\\mathbf{w}}\\right)=\\dfrac{1}{m}\\Vert\\mathbf{X}\\mathbf{w}-\\mathbf{y}\\Vert^2$$"
      ]
    },
    {
      "cell_type": "markdown",
      "metadata": {
        "id": "ORU-9tCxFpyZ"
      },
      "source": [
        "- Để tìm $\\mathbf{w}$ sao cho hàm lỗi MSE tối thiểu ta tìm điểm đạo hàm của MSE có giá trị 0. \n",
        "$$\\mathbf{\\hat{w}}=\\left(\\mathbf{X}^T \\cdot \\mathbf{X}\\right)^{\\dagger} \\cdot \\mathbf{X}^T \\cdot \\mathbf{y}$$\n",
        "  - $\\mathbf{\\hat{w}}$ là giá trị của $\\mathbf{w}$ để giảm thiểu độ lỗi. \n",
        "  - **Chú ý** $\\mathbf{X}^T \\cdot \\mathbf{X}$ không phải luôn **khả nghịch**. $\\left(\\mathbf{X}^T \\cdot \\mathbf{X}\\right)^{\\dagger}$ là nghịch đảo giả của $\\left(\\mathbf{X}^T \\cdot \\mathbf{X}\\right)$ - trường hợp nghịch đảo tổng quát kể cả khi ma trận không vuông cũng như không khả nghịch."
      ]
    },
    {
      "cell_type": "markdown",
      "metadata": {
        "id": "6Tgy-tRYFpyZ"
      },
      "source": [
        "### 3. Cài đặt"
      ]
    },
    {
      "cell_type": "markdown",
      "metadata": {
        "id": "qauCdk7LFpya"
      },
      "source": [
        "#### Import Library"
      ]
    },
    {
      "cell_type": "code",
      "metadata": {
        "id": "70Mis-p9Fpyd"
      },
      "source": [
        "import numpy as np\n",
        "import matplotlib.pyplot as plt \n",
        "import sklearn.datasets as datasets\n",
        "%matplotlib inline"
      ],
      "execution_count": 2,
      "outputs": []
    },
    {
      "cell_type": "markdown",
      "metadata": {
        "id": "nRr06hARFpyk"
      },
      "source": [
        "#### Create data"
      ]
    },
    {
      "cell_type": "code",
      "metadata": {
        "id": "g0K3G_SOFpyk"
      },
      "source": [
        "X,y=datasets.make_regression(n_samples=100,n_features=1, noise=5)"
      ],
      "execution_count": 8,
      "outputs": []
    },
    {
      "cell_type": "markdown",
      "metadata": {
        "id": "vBFWzeY3Fpyp"
      },
      "source": [
        "#### Load and visualize data"
      ]
    },
    {
      "cell_type": "code",
      "metadata": {
        "colab": {
          "base_uri": "https://localhost:8080/",
          "height": 265
        },
        "id": "4BpxLtG3Fpyq",
        "outputId": "bba95069-78f1-4ff7-fb78-91db7cbfdf09"
      },
      "source": [
        "# Visualize data \n",
        "\n",
        "plt.plot(X, y, 'ro')\n",
        "plt.show()\n"
      ],
      "execution_count": 9,
      "outputs": [
        {
          "output_type": "display_data",
          "data": {
            "image/png": "[encoded data removed]",
            "text/plain": [
              "<Figure size 432x288 with 1 Axes>"
            ]
          },
          "metadata": {
            "tags": [],
            "needs_background": "light"
          }
        }
      ]
    },
    {
      "cell_type": "markdown",
      "metadata": {
        "id": "PLDAEVR8Fpyx"
      },
      "source": [
        "**TODO:** \n",
        "\n",
        "- Nhận xét dữ liệu:"
      ]
    },
    {
      "cell_type": "markdown",
      "metadata": {
        "id": "mrb7peM1Fpyz"
      },
      "source": [
        "#### Training function"
      ]
    },
    {
      "cell_type": "code",
      "metadata": {
        "id": "DdPXTgoAFpyz"
      },
      "source": [
        "def train_linear_regression(X, y):\n",
        "    '''\n",
        "    Trains Linear Regression on the dataset (X, y).\n",
        "    \n",
        "    Parameters\n",
        "    ----------\n",
        "    X : numpy array, shape (m, d + 1)\n",
        "        The matrix of input vectors (each row corresponds to an input vector); \n",
        "        the first column of this matrix is all ones (corresponding to x_0).\n",
        "    y : numpy array, shape (m, 1)\n",
        "        The vector of outputs.\n",
        "    \n",
        "    Returns\n",
        "    -------\n",
        "    w : numpy array, shape (d + 1, 1)\n",
        "        The vector of parameters of Linear Regression after training.\n",
        "    '''\n",
        "    # TODO\n",
        "    learning_rate = 1e-3\n",
        "    n_steps = 1000\n",
        "       \n",
        "    # random initialization of the model weights\n",
        "    w = np.random.rand((X.shape[1]))\n",
        "        \n",
        "    # iteratively updating W for n_steps\n",
        "    for i in range(n_steps):\n",
        "      w = w - learning_rate * (2/X.shape[0] * np.dot(X.T, (np.dot(X, w) - y)))\n",
        "\n",
        "    return w"
      ],
      "execution_count": 10,
      "outputs": []
    },
    {
      "cell_type": "code",
      "metadata": {
        "colab": {
          "base_uri": "https://localhost:8080/"
        },
        "id": "wDgQ-5EDFpy5",
        "outputId": "419042d9-9a32-41b4-9fa2-330773baf800"
      },
      "source": [
        "# Construct one_added_X \n",
        "# TODO:\n",
        "# First column of one_added_X is all ones (corresponding to x_0).\n",
        "one_added_X = np.c_[np.ones(X.shape[0]), X]\n",
        "print ('one_added_X.shape =', one_added_X.shape)\n",
        "print ('y.shape =', y.shape)\n",
        "print(one_added_X)\n",
        "print(y)\n"
      ],
      "execution_count": 11,
      "outputs": [
        {
          "output_type": "stream",
          "text": [
            "one_added_X.shape = (100, 2)\n",
            "y.shape = (100,)\n",
            "[[ 1.         -0.03100121]\n",
            " [ 1.         -0.81099997]\n",
            " [ 1.         -1.27231802]\n",
            " [ 1.         -1.70878471]\n",
            " [ 1.         -0.01329733]\n",
            " [ 1.          0.38511554]\n",
            " [ 1.         -1.02212621]\n",
            " [ 1.         -0.29385451]\n",
            " [ 1.         -0.08751916]\n",
            " [ 1.          1.17591179]\n",
            " [ 1.         -0.17263344]\n",
            " [ 1.         -0.34645756]\n",
            " [ 1.          0.65365894]\n",
            " [ 1.          1.74552332]\n",
            " [ 1.          0.10891663]\n",
            " [ 1.         -1.42785769]\n",
            " [ 1.         -0.819944  ]\n",
            " [ 1.          0.76848669]\n",
            " [ 1.         -0.95453065]\n",
            " [ 1.          1.04579174]\n",
            " [ 1.          1.86988842]\n",
            " [ 1.          0.01018955]\n",
            " [ 1.         -1.37087439]\n",
            " [ 1.          0.61196909]\n",
            " [ 1.          2.55591326]\n",
            " [ 1.          0.38562473]\n",
            " [ 1.         -1.21802711]\n",
            " [ 1.          0.50307389]\n",
            " [ 1.         -0.97118134]\n",
            " [ 1.         -0.65318279]\n",
            " [ 1.         -0.40004984]\n",
            " [ 1.          0.99681314]\n",
            " [ 1.          0.41541498]\n",
            " [ 1.          0.94105781]\n",
            " [ 1.          0.76331189]\n",
            " [ 1.         -0.3497839 ]\n",
            " [ 1.          0.36892051]\n",
            " [ 1.          2.05971596]\n",
            " [ 1.         -0.6560555 ]\n",
            " [ 1.         -1.93468652]\n",
            " [ 1.         -0.92178443]\n",
            " [ 1.          0.48617737]\n",
            " [ 1.          0.31149687]\n",
            " [ 1.          0.64487291]\n",
            " [ 1.         -2.1814119 ]\n",
            " [ 1.         -1.00644431]\n",
            " [ 1.          0.58063781]\n",
            " [ 1.         -2.06501333]\n",
            " [ 1.         -2.59820285]\n",
            " [ 1.         -1.7969662 ]\n",
            " [ 1.          0.79042729]\n",
            " [ 1.          1.18853591]\n",
            " [ 1.         -0.88526391]\n",
            " [ 1.         -0.33672203]\n",
            " [ 1.          0.44921736]\n",
            " [ 1.          1.64736874]\n",
            " [ 1.          1.88449518]\n",
            " [ 1.          0.41745816]\n",
            " [ 1.         -0.35233427]\n",
            " [ 1.         -0.81774253]\n",
            " [ 1.          0.405258  ]\n",
            " [ 1.         -0.40510987]\n",
            " [ 1.          0.5114252 ]\n",
            " [ 1.         -2.00899793]\n",
            " [ 1.         -2.54330156]\n",
            " [ 1.          2.35439874]\n",
            " [ 1.          0.40155181]\n",
            " [ 1.          0.20422528]\n",
            " [ 1.          0.17210976]\n",
            " [ 1.          0.55216936]\n",
            " [ 1.         -0.99945148]\n",
            " [ 1.          1.57965618]\n",
            " [ 1.          0.11694827]\n",
            " [ 1.         -0.4218181 ]\n",
            " [ 1.         -1.2549506 ]\n",
            " [ 1.          1.18785342]\n",
            " [ 1.          1.25620794]\n",
            " [ 1.          0.22961774]\n",
            " [ 1.         -0.93753143]\n",
            " [ 1.         -0.82566441]\n",
            " [ 1.         -1.96047271]\n",
            " [ 1.         -1.10352616]\n",
            " [ 1.         -0.02379321]\n",
            " [ 1.         -0.11987232]\n",
            " [ 1.         -0.05977527]\n",
            " [ 1.          1.24374365]\n",
            " [ 1.          1.83073412]\n",
            " [ 1.         -0.9156888 ]\n",
            " [ 1.         -0.08623269]\n",
            " [ 1.          1.19628293]\n",
            " [ 1.          0.35484169]\n",
            " [ 1.          0.4042544 ]\n",
            " [ 1.         -0.20938832]\n",
            " [ 1.         -0.24260964]\n",
            " [ 1.          0.36290098]\n",
            " [ 1.         -0.05330339]\n",
            " [ 1.         -1.32541936]\n",
            " [ 1.          1.85827597]\n",
            " [ 1.         -0.36146682]\n",
            " [ 1.          0.51064415]]\n",
            "[   1.74538514  -47.25050673  -84.48995037 -118.85620032   -1.24839717\n",
            "   22.98500665  -75.18155623  -19.67881393   -0.93835215   73.77945398\n",
            "  -14.26373229  -24.51266532   43.42550251  112.47704294   15.13531621\n",
            "  -93.77793768  -54.68089896   42.31428937  -67.63553129   71.30394334\n",
            "  125.68245513    2.69326317  -98.8425114    38.23429612  180.65325506\n",
            "   34.90596311  -75.72937862   26.82285128  -68.33548122  -40.78468915\n",
            "  -30.51903459   66.44661809   24.91250853   55.19243539   53.4064904\n",
            "  -19.35881079   27.56824963  139.78983278  -43.10889839 -130.95679049\n",
            "  -62.85968018   28.77195735   23.90428556   36.52046223 -148.40783607\n",
            "  -73.59108968   46.05856473 -138.31531932 -173.220883   -113.54642505\n",
            "   51.14255278   77.41199291  -54.44654981  -27.26508543   36.38253856\n",
            "  113.64084365  126.89827725   28.07208555  -25.65552089  -56.53852023\n",
            "   23.01655752  -25.53523559   35.12588391 -133.54324331 -179.54529314\n",
            "  155.02646151   30.21877036   11.5183201     6.79306365   37.90997355\n",
            "  -63.21043094  109.77379775    0.81724835  -36.45281341  -81.64940962\n",
            "   71.81737812   85.23262545   16.02810817  -60.86011666  -55.23129537\n",
            " -129.6232721   -74.89671604   -1.76323628   -2.97650298  -13.42055187\n",
            "   82.77936184  118.71159869  -65.18072155    4.33582551   92.20545336\n",
            "   22.25926692   30.71113386  -17.06996339  -11.38997161   25.70036721\n",
            "   -7.83409046  -92.48919441  129.53727096  -18.50300941   28.44496542]\n"
          ],
          "name": "stdout"
        }
      ]
    },
    {
      "cell_type": "markdown",
      "metadata": {
        "id": "nVhd2dvCFpzE"
      },
      "source": [
        "#### Train our model and visualize result"
      ]
    },
    {
      "cell_type": "code",
      "metadata": {
        "colab": {
          "base_uri": "https://localhost:8080/",
          "height": 299
        },
        "id": "y3YvmkEEFpzE",
        "outputId": "1107f3bf-19ee-4040-e59d-f7655b101d5d"
      },
      "source": [
        "w = train_linear_regression(one_added_X, y)\n",
        "print(w)\n",
        "# Visualize result\n",
        "predicted_ys = one_added_X.dot(w)\n",
        "\n",
        "plt.plot(X,y,'ro')\n",
        "\n",
        "x_min, x_max = plt.xlim()\n",
        "xs = np.array([x_min, x_max]).reshape(-1, 1)\n",
        "\n",
        "# Construct one_added_xs \n",
        "# TODO:\n",
        "# First column of one_added_xs is all ones (corresponding to x_0).\n",
        "ones_added_xs =  np.c_[np.ones(xs.shape[0]), xs]\n",
        "\n",
        "predicted_ys = ones_added_xs.dot(w)\n",
        "plt.plot(xs, predicted_ys)\n",
        "plt.xlim(x_min, x_max)\n",
        "\n",
        "\n"
      ],
      "execution_count": 14,
      "outputs": [
        {
          "output_type": "stream",
          "text": [
            "[-0.50083097 61.45674422]\n"
          ],
          "name": "stdout"
        },
        {
          "output_type": "execute_result",
          "data": {
            "text/plain": [
              "(-2.855908656660591, 2.813619065251332)"
            ]
          },
          "metadata": {
            "tags": []
          },
          "execution_count": 14
        },
        {
          "output_type": "display_data",
          "data": {
            "image/png": "[encoded data removed]",
            "text/plain": [
              "<Figure size 432x288 with 1 Axes>"
            ]
          },
          "metadata": {
            "tags": [],
            "needs_background": "light"
          }
        }
      ]
    },
    {
      "cell_type": "markdown",
      "metadata": {
        "id": "lTO6ilruFpzH"
      },
      "source": [
        "- **TODO**: Điểm mạnh và điểm yếu của `Hồi quy tuyến tính`:"
      ]
    },
    {
      "cell_type": "code",
      "metadata": {
        "id": "BehaTobaFpzI"
      },
      "source": [
        ""
      ],
      "execution_count": null,
      "outputs": []
    }
  ]
}