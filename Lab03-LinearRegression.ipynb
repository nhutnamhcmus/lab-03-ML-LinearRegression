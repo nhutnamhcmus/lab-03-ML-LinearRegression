{
  "nbformat": 4,
  "nbformat_minor": 0,
  "metadata": {
    "colab": {
      "name": "Lab01-LinearRegression.ipynb",
      "provenance": [],
      "collapsed_sections": []
    },
    "kernelspec": {
      "display_name": "Python 3",
      "language": "python",
      "name": "python3"
    },
    "language_info": {
      "codemirror_mode": {
        "name": "ipython",
        "version": 3
      },
      "file_extension": ".py",
      "mimetype": "text/x-python",
      "name": "python",
      "nbconvert_exporter": "python",
      "pygments_lexer": "ipython3",
      "version": "3.7.9-final"
    }
  },
  "cells": [
    {
      "cell_type": "markdown",
      "metadata": {
        "id": "dw29NSYmFpyS"
      },
      "source": [
        "# Lab03: Hồi quy tuyến tính.\n",
        "\n",
        "- MSSV: 18120061\n",
        "- Họ và tên: Lê Nhựt Nam"
      ]
    },
    {
      "cell_type": "markdown",
      "metadata": {
        "id": "oHR1Zj5GFpyT"
      },
      "source": [
        "## Yêu cầu bài tập\n",
        "\n",
        "**Cách làm bài**\n",
        "\n",
        "\n",
        "Bạn sẽ làm trực tiếp trên file notebook này; trong file, từ `TODO` để cho biết những phần mà bạn cần phải làm.\n",
        "\n",
        "Bạn có thể thảo luận ý tưởng cũng như tham khảo các tài liệu, nhưng *code và bài làm phải là của bạn*. \n",
        "\n",
        "Nếu vi phạm thì sẽ bị 0 điểm cho bài tập này.\n",
        "\n",
        "**Cách nộp bài**\n",
        "\n",
        "Trước khi nộp bài, rerun lại notebook (`Kernel` -> `Restart & Run All`).\n",
        "\n",
        "Sau đó, tạo thư mục có tên `MSSV` của bạn (vd, nếu bạn có MSSV là 1234567 thì bạn đặt tên thư mục là `1234567`) Chép file `Lab03-Clustering.ipynb` vào, rồi nén thư mục `MSSV` này lại và nộp ở link trên moodle.\n",
        "\n",
        "**Nội dung bài tập**\n",
        "\n",
        "Bài tập 3 là bài tập cá nhân. Trong bài này, bạn sẽ cài đặt thuật toán học máy `Hồi quy tuyến tính`. \n"
      ]
    },
    {
      "cell_type": "markdown",
      "metadata": {
        "id": "REHkv-y8FpyU"
      },
      "source": [
        "### 1. Tập giả định"
      ]
    },
    {
      "cell_type": "markdown",
      "metadata": {
        "id": "e75OMY0KFpyU"
      },
      "source": [
        "- Hồi quy tuyến tính là một mô hình **tuyến tính**, mô hình này giả định tồn tại một mối liên hệ tuyến tính giữa các biến đầu vào (x) và một biến đầu ra (y). Cụ thể hơn, y có thể được tính bằng một tổ hợp tuyến tính của các biến đầu vào (x).\n",
        "- Một cách tổng quát, một mô hình tuyến tính dự đoán kết quả bằng cách tính tổng trọng số của các đặc trưng đầu vào (hay các biến độc lập). \n",
        "$$ \\hat{y}=w_0+w_1x_1+w_2x_2+...+w_nx_n $$\n",
        "    - $\\hat{y}$ là giá trị dự đoán.\n",
        "    - $n$ là số lượng đặc trưng.\n",
        "    - $x_i$ là giá trị đặc trưng thứ $i$.\n",
        "    - $w_j$ là tham số thứ $j$ của mô hình.\n",
        "$$\\hat{y}=h_{\\mathbf{w}}\\left(\\mathbf{x}\\right)=\\mathbf{w}^{T}\\cdot\\mathbf{x}$$\n",
        "    - $\\mathbf{w}$ **vector trọng số** của mô hình (bao gốm cả $w_0$ và các trọng số đặc trưng $w_1,w_2,...w_n$).\n",
        "    - $\\mathbf{w}^T$ là chuyển vị của $\\mathbf{w}$ (vector hàng thay vì vector cột).\n",
        "    - $\\mathbf{x}$ là **vector đầu vào** của các mẫu dữ liệu, *bao gồm* $x_0$ đến $x_n$, với $x_0$ *luôn có giá trị là* 1.\n",
        "    - $\\mathbf{w}^{T}\\cdot\\mathbf{x}$ là tích vô hướng của 2 vector $\\mathbf{w}^T$ và $\\mathbf{x}$.\n",
        "    - $h_{\\mathbf{w}}$ là hàm giả thiết, biểu diễn bằng các tham số $\\mathbf{w}$.\n"
      ]
    },
    {
      "cell_type": "markdown",
      "metadata": {
        "id": "5l8F4lnjFpyV"
      },
      "source": [
        "### 2. Đánh giá hiệu suất và mục tiêu học"
      ]
    },
    {
      "cell_type": "markdown",
      "metadata": {
        "id": "fdJNZ2q6FpyX"
      },
      "source": [
        "- Trước khi huấn luyện dữ liệu, ta cần phải đánh giá mô hình của chúng ta khớp với dữ liệu huấn luyện như thế nào. Cách đánh giá thường được sử dụng nhất là trung bình bình phương độ lỗi **MSE** (Mean Square Error) $\\Rightarrow$ ta cần phải tìm $\\mathbf{w}$ tối thiểu hóa MSE:\n",
        "$$\\mathbf{w}=\\arg\\min MSE_{\\mathcal{D}_{train}}$$\n",
        "\n",
        "\n",
        "- MSE trên tập huấn luyện $\\mathcal{D}_{train}$ ký hiệu $\\left(\\mathbf{X},\\mathbf{y}\\right)$ bao gồm m mẫu $\\left\\{\\left(\\mathbf{x}_1,y_1\\right),\\left(\\mathbf{x}_2,y_2\\right),...\\left(\\mathbf{x}_m,y_m\\right)\\right\\}$"
      ]
    },
    {
      "cell_type": "markdown",
      "metadata": {
        "id": "GTOZj7HfFpyY"
      },
      "source": [
        "$$MSE\\left(X,h_{\\mathbf{w}}\\right)=\\dfrac{1}{m}\\sum_{i=1}^{m}\\left(\\mathbf{w}^T\\cdot\\mathbf{x}_i - y_i\\right )^2$$\n",
        "$$MSE\\left(X,h_{\\mathbf{w}}\\right)=\\dfrac{1}{m}\\Vert\\mathbf{X}\\mathbf{w}-\\mathbf{y}\\Vert^2$$"
      ]
    },
    {
      "cell_type": "markdown",
      "metadata": {
        "id": "ORU-9tCxFpyZ"
      },
      "source": [
        "- Để tìm $\\mathbf{w}$ sao cho hàm lỗi MSE tối thiểu ta tìm điểm đạo hàm của MSE có giá trị 0. \n",
        "$$\\mathbf{\\hat{w}}=\\left(\\mathbf{X}^T \\cdot \\mathbf{X}\\right)^{\\dagger} \\cdot \\mathbf{X}^T \\cdot \\mathbf{y}$$\n",
        "  - $\\mathbf{\\hat{w}}$ là giá trị của $\\mathbf{w}$ để giảm thiểu độ lỗi. \n",
        "  - **Chú ý** $\\mathbf{X}^T \\cdot \\mathbf{X}$ không phải luôn **khả nghịch**. $\\left(\\mathbf{X}^T \\cdot \\mathbf{X}\\right)^{\\dagger}$ là nghịch đảo giả của $\\left(\\mathbf{X}^T \\cdot \\mathbf{X}\\right)$ - trường hợp nghịch đảo tổng quát kể cả khi ma trận không vuông cũng như không khả nghịch."
      ]
    },
    {
      "cell_type": "markdown",
      "metadata": {
        "id": "6Tgy-tRYFpyZ"
      },
      "source": [
        "### 3. Cài đặt"
      ]
    },
    {
      "cell_type": "markdown",
      "metadata": {
        "id": "qauCdk7LFpya"
      },
      "source": [
        "#### Import Library"
      ]
    },
    {
      "cell_type": "code",
      "metadata": {
        "id": "70Mis-p9Fpyd"
      },
      "source": [
        "import numpy as np\n",
        "import matplotlib.pyplot as plt \n",
        "import sklearn.datasets as datasets\n",
        "%matplotlib inline"
      ],
      "execution_count": 2,
      "outputs": []
    },
    {
      "cell_type": "markdown",
      "metadata": {
        "id": "nRr06hARFpyk"
      },
      "source": [
        "#### Create data"
      ]
    },
    {
      "cell_type": "code",
      "metadata": {
        "id": "g0K3G_SOFpyk",
        "outputId": "bf428d70-5de9-433e-bc16-94b8d7c546a9",
        "colab": {
          "base_uri": "https://localhost:8080/"
        }
      },
      "source": [
        "X,y=datasets.make_regression(n_samples=100,n_features=1, noise=5)\n",
        "# Show X\n",
        "print(X)\n",
        "\n",
        "# Show y\n",
        "print(y)"
      ],
      "execution_count": 3,
      "outputs": [
        {
          "output_type": "stream",
          "name": "stdout",
          "text": [
            "[[-1.77218765]\n [ 0.4860915 ]\n [ 0.57697539]\n [-0.96170958]\n [ 2.1456917 ]\n [ 0.36339906]\n [ 1.21272958]\n [ 0.29471536]\n [ 0.43891338]\n [-0.97079735]\n [ 1.80318899]\n [ 2.1993003 ]\n [ 2.10206114]\n [-1.21892285]\n [ 1.54300927]\n [ 0.32047281]\n [ 0.52771957]\n [-1.32016576]\n [-0.07599859]\n [ 0.72328954]\n [ 0.89420774]\n [-1.8656125 ]\n [-0.53577916]\n [-0.23652548]\n [ 0.30271974]\n [ 1.11301427]\n [-0.25085468]\n [ 0.30410078]\n [ 1.2169948 ]\n [-1.1870537 ]\n [-0.08140788]\n [-0.15606278]\n [ 1.08008551]\n [ 1.28174686]\n [-0.352292  ]\n [-0.85496621]\n [ 0.10780018]\n [-0.4297226 ]\n [ 0.60404784]\n [-2.05979391]\n [ 1.10012437]\n [-0.28500184]\n [ 0.71195565]\n [ 1.12934079]\n [ 0.41828055]\n [ 0.9647982 ]\n [ 0.68683957]\n [ 0.19297672]\n [ 0.1151407 ]\n [ 0.15235982]\n [-1.95689683]\n [ 0.59334452]\n [-2.13172874]\n [ 0.38148419]\n [-0.24826698]\n [ 1.37015161]\n [ 0.40134493]\n [-0.5749254 ]\n [-0.14357959]\n [-0.50828211]\n [ 0.20328365]\n [ 0.20709051]\n [ 0.05245089]\n [-1.74915196]\n [-1.20980828]\n [-0.45458953]\n [ 0.09480496]\n [ 1.21273995]\n [-2.16653847]\n [ 0.24579802]\n [ 0.78810283]\n [ 0.02369861]\n [ 0.21653451]\n [-2.34462373]\n [-0.56810223]\n [ 0.76663287]\n [-0.55195118]\n [-1.29468406]\n [ 0.15306421]\n [-0.27061447]\n [-0.34812023]\n [ 0.3984199 ]\n [ 0.17107087]\n [ 0.23462654]\n [ 0.80435416]\n [-0.40891701]\n [ 0.53094446]\n [ 0.86158104]\n [ 1.02070878]\n [ 0.44826188]\n [ 0.26635488]\n [-1.71900515]\n [-0.5108347 ]\n [ 0.11025071]\n [-0.67700853]\n [-0.1180234 ]\n [ 1.08549418]\n [-0.47893934]\n [ 0.92137769]\n [-0.19635699]]\n[ -86.10225468   25.78430971   22.39829255  -49.98647699  108.36529883\n   15.13240926   57.15907301   20.08284657   22.4036452   -50.51211433\n   97.3886824   110.58649507  110.09886252  -57.5855881    71.32423469\n    8.9813673    24.56661946  -68.30160176   -6.09260922   29.86916999\n   47.48021137  -82.20645877  -24.09906181  -13.85750825   12.72521177\n   55.4962332   -15.67032173   17.92534083   59.26533931  -68.72334244\n    0.17212773   -3.96386737   47.79393055   62.37753801  -25.11865626\n  -37.33020685    8.20415403  -14.44877284   25.48511133  -97.71013833\n   51.2384096   -15.45482876   36.26546667   53.61954327   20.83895949\n   52.54179259   36.48961681    2.82966386   -2.66944936    9.48779542\n -100.17985533   29.559184   -103.61951042   21.29414506   -8.49641845\n   65.72094244   19.62903846  -27.4946277   -13.37334705  -27.54253745\n   14.18203247   14.67699319    6.1269095   -85.54028196  -53.24071475\n  -26.14733526    0.3206544    59.60936211 -106.29429906   16.33699537\n   35.94933785   -0.5277074     8.07404605 -116.65730858  -23.2943988\n   35.75391698  -32.40640768  -70.70076054   12.4685427    -9.06146641\n  -16.73663385   23.56884437   12.68195063   11.82520163   39.90398892\n  -36.25585197   28.97090149   40.86746514   41.84153038   22.05397128\n   15.32042455  -87.51370883  -29.3213557    -1.6323841   -22.01822919\n   -2.45074977   56.22044785  -31.00286478   54.12100949  -12.38068572]\n"
          ]
        }
      ]
    },
    {
      "cell_type": "markdown",
      "metadata": {
        "id": "vBFWzeY3Fpyp"
      },
      "source": [
        "#### Load and visualize data"
      ]
    },
    {
      "cell_type": "code",
      "metadata": {
        "colab": {
          "base_uri": "https://localhost:8080/",
          "height": 265
        },
        "id": "4BpxLtG3Fpyq",
        "outputId": "a2956a6b-8be1-4381-e6d1-f1a23c658c70"
      },
      "source": [
        "# Visualize data \n",
        "plt.plot(X, y, 'ro')\n",
        "plt.show()\n"
      ],
      "execution_count": 4,
      "outputs": [
        {
          "output_type": "display_data",
          "data": {
            "text/plain": "<Figure size 432x288 with 1 Axes>",
            "image/svg+xml": "<?xml version=\"1.0\" encoding=\"utf-8\" standalone=\"no\"?>\r\n<!DOCTYPE svg PUBLIC \"-//W3C//DTD SVG 1.1//EN\"\r\n  \"http://www.w3.org/Graphics/SVG/1.1/DTD/svg11.dtd\">\r\n<!-- Created with matplotlib (https://matplotlib.org/) -->\r\n<svg height=\"248.518125pt\" version=\"1.1\" viewBox=\"0 0 383.667187 248.518125\" width=\"383.667187pt\" xmlns=\"http://www.w3.org/2000/svg\" xmlns:xlink=\"http://www.w3.org/1999/xlink\">\r\n <metadata>\r\n  <rdf:RDF xmlns:cc=\"http://creativecommons.org/ns#\" xmlns:dc=\"http://purl.org/dc/elements/1.1/\" xmlns:rdf=\"http://www.w3.org/1999/02/22-rdf-syntax-ns#\">\r\n   <cc:Work>\r\n    <dc:type rdf:resource=\"http://purl.org/dc/dcmitype/StillImage\"/>\r\n    <dc:date>2020-12-15T11:11:13.738160</dc:date>\r\n    <dc:format>image/svg+xml</dc:format>\r\n    <dc:creator>\r\n     <cc:Agent>\r\n      <dc:title>Matplotlib v3.3.3, https://matplotlib.org/</dc:title>\r\n     </cc:Agent>\r\n    </dc:creator>\r\n   </cc:Work>\r\n  </rdf:RDF>\r\n </metadata>\r\n <defs>\r\n  <style type=\"text/css\">*{stroke-linecap:butt;stroke-linejoin:round;}</style>\r\n </defs>\r\n <g id=\"figure_1\">\r\n  <g id=\"patch_1\">\r\n   <path d=\"M 0 248.518125 \r\nL 383.667187 248.518125 \r\nL 383.667187 0 \r\nL 0 0 \r\nz\r\n\" style=\"fill:none;\"/>\r\n  </g>\r\n  <g id=\"axes_1\">\r\n   <g id=\"patch_2\">\r\n    <path d=\"M 41.667188 224.64 \r\nL 376.467188 224.64 \r\nL 376.467188 7.2 \r\nL 41.667188 7.2 \r\nz\r\n\" style=\"fill:#ffffff;\"/>\r\n   </g>\r\n   <g id=\"matplotlib.axis_1\">\r\n    <g id=\"xtick_1\">\r\n     <g id=\"line2d_1\">\r\n      <defs>\r\n       <path d=\"M 0 0 \r\nL 0 3.5 \r\n\" id=\"md7a7e694d7\" style=\"stroke:#000000;stroke-width:0.8;\"/>\r\n      </defs>\r\n      <g>\r\n       <use style=\"stroke:#000000;stroke-width:0.8;\" x=\"79.969147\" xlink:href=\"#md7a7e694d7\" y=\"224.64\"/>\r\n      </g>\r\n     </g>\r\n     <g id=\"text_1\">\r\n      <!-- −2 -->\r\n      <g transform=\"translate(72.598053 239.238438)scale(0.1 -0.1)\">\r\n       <defs>\r\n        <path d=\"M 10.59375 35.5 \r\nL 73.1875 35.5 \r\nL 73.1875 27.203125 \r\nL 10.59375 27.203125 \r\nz\r\n\" id=\"DejaVuSans-8722\"/>\r\n        <path d=\"M 19.1875 8.296875 \r\nL 53.609375 8.296875 \r\nL 53.609375 0 \r\nL 7.328125 0 \r\nL 7.328125 8.296875 \r\nQ 12.9375 14.109375 22.625 23.890625 \r\nQ 32.328125 33.6875 34.8125 36.53125 \r\nQ 39.546875 41.84375 41.421875 45.53125 \r\nQ 43.3125 49.21875 43.3125 52.78125 \r\nQ 43.3125 58.59375 39.234375 62.25 \r\nQ 35.15625 65.921875 28.609375 65.921875 \r\nQ 23.96875 65.921875 18.8125 64.3125 \r\nQ 13.671875 62.703125 7.8125 59.421875 \r\nL 7.8125 69.390625 \r\nQ 13.765625 71.78125 18.9375 73 \r\nQ 24.125 74.21875 28.421875 74.21875 \r\nQ 39.75 74.21875 46.484375 68.546875 \r\nQ 53.21875 62.890625 53.21875 53.421875 \r\nQ 53.21875 48.921875 51.53125 44.890625 \r\nQ 49.859375 40.875 45.40625 35.40625 \r\nQ 44.1875 33.984375 37.640625 27.21875 \r\nQ 31.109375 20.453125 19.1875 8.296875 \r\nz\r\n\" id=\"DejaVuSans-50\"/>\r\n       </defs>\r\n       <use xlink:href=\"#DejaVuSans-8722\"/>\r\n       <use x=\"83.789062\" xlink:href=\"#DejaVuSans-50\"/>\r\n      </g>\r\n     </g>\r\n    </g>\r\n    <g id=\"xtick_2\">\r\n     <g id=\"line2d_2\">\r\n      <g>\r\n       <use style=\"stroke:#000000;stroke-width:0.8;\" x=\"146.951701\" xlink:href=\"#md7a7e694d7\" y=\"224.64\"/>\r\n      </g>\r\n     </g>\r\n     <g id=\"text_2\">\r\n      <!-- −1 -->\r\n      <g transform=\"translate(139.580607 239.238438)scale(0.1 -0.1)\">\r\n       <defs>\r\n        <path d=\"M 12.40625 8.296875 \r\nL 28.515625 8.296875 \r\nL 28.515625 63.921875 \r\nL 10.984375 60.40625 \r\nL 10.984375 69.390625 \r\nL 28.421875 72.90625 \r\nL 38.28125 72.90625 \r\nL 38.28125 8.296875 \r\nL 54.390625 8.296875 \r\nL 54.390625 0 \r\nL 12.40625 0 \r\nz\r\n\" id=\"DejaVuSans-49\"/>\r\n       </defs>\r\n       <use xlink:href=\"#DejaVuSans-8722\"/>\r\n       <use x=\"83.789062\" xlink:href=\"#DejaVuSans-49\"/>\r\n      </g>\r\n     </g>\r\n    </g>\r\n    <g id=\"xtick_3\">\r\n     <g id=\"line2d_3\">\r\n      <g>\r\n       <use style=\"stroke:#000000;stroke-width:0.8;\" x=\"213.934255\" xlink:href=\"#md7a7e694d7\" y=\"224.64\"/>\r\n      </g>\r\n     </g>\r\n     <g id=\"text_3\">\r\n      <!-- 0 -->\r\n      <g transform=\"translate(210.753005 239.238438)scale(0.1 -0.1)\">\r\n       <defs>\r\n        <path d=\"M 31.78125 66.40625 \r\nQ 24.171875 66.40625 20.328125 58.90625 \r\nQ 16.5 51.421875 16.5 36.375 \r\nQ 16.5 21.390625 20.328125 13.890625 \r\nQ 24.171875 6.390625 31.78125 6.390625 \r\nQ 39.453125 6.390625 43.28125 13.890625 \r\nQ 47.125 21.390625 47.125 36.375 \r\nQ 47.125 51.421875 43.28125 58.90625 \r\nQ 39.453125 66.40625 31.78125 66.40625 \r\nz\r\nM 31.78125 74.21875 \r\nQ 44.046875 74.21875 50.515625 64.515625 \r\nQ 56.984375 54.828125 56.984375 36.375 \r\nQ 56.984375 17.96875 50.515625 8.265625 \r\nQ 44.046875 -1.421875 31.78125 -1.421875 \r\nQ 19.53125 -1.421875 13.0625 8.265625 \r\nQ 6.59375 17.96875 6.59375 36.375 \r\nQ 6.59375 54.828125 13.0625 64.515625 \r\nQ 19.53125 74.21875 31.78125 74.21875 \r\nz\r\n\" id=\"DejaVuSans-48\"/>\r\n       </defs>\r\n       <use xlink:href=\"#DejaVuSans-48\"/>\r\n      </g>\r\n     </g>\r\n    </g>\r\n    <g id=\"xtick_4\">\r\n     <g id=\"line2d_4\">\r\n      <g>\r\n       <use style=\"stroke:#000000;stroke-width:0.8;\" x=\"280.916809\" xlink:href=\"#md7a7e694d7\" y=\"224.64\"/>\r\n      </g>\r\n     </g>\r\n     <g id=\"text_4\">\r\n      <!-- 1 -->\r\n      <g transform=\"translate(277.735559 239.238438)scale(0.1 -0.1)\">\r\n       <use xlink:href=\"#DejaVuSans-49\"/>\r\n      </g>\r\n     </g>\r\n    </g>\r\n    <g id=\"xtick_5\">\r\n     <g id=\"line2d_5\">\r\n      <g>\r\n       <use style=\"stroke:#000000;stroke-width:0.8;\" x=\"347.899363\" xlink:href=\"#md7a7e694d7\" y=\"224.64\"/>\r\n      </g>\r\n     </g>\r\n     <g id=\"text_5\">\r\n      <!-- 2 -->\r\n      <g transform=\"translate(344.718113 239.238438)scale(0.1 -0.1)\">\r\n       <use xlink:href=\"#DejaVuSans-50\"/>\r\n      </g>\r\n     </g>\r\n    </g>\r\n   </g>\r\n   <g id=\"matplotlib.axis_2\">\r\n    <g id=\"ytick_1\">\r\n     <g id=\"line2d_6\">\r\n      <defs>\r\n       <path d=\"M 0 0 \r\nL -3.5 0 \r\n\" id=\"m8ebea08a8d\" style=\"stroke:#000000;stroke-width:0.8;\"/>\r\n      </defs>\r\n      <g>\r\n       <use style=\"stroke:#000000;stroke-width:0.8;\" x=\"41.667188\" xlink:href=\"#m8ebea08a8d\" y=\"200.266659\"/>\r\n      </g>\r\n     </g>\r\n     <g id=\"text_6\">\r\n      <!-- −100 -->\r\n      <g transform=\"translate(7.2 204.065878)scale(0.1 -0.1)\">\r\n       <use xlink:href=\"#DejaVuSans-8722\"/>\r\n       <use x=\"83.789062\" xlink:href=\"#DejaVuSans-49\"/>\r\n       <use x=\"147.412109\" xlink:href=\"#DejaVuSans-48\"/>\r\n       <use x=\"211.035156\" xlink:href=\"#DejaVuSans-48\"/>\r\n      </g>\r\n     </g>\r\n    </g>\r\n    <g id=\"ytick_2\">\r\n     <g id=\"line2d_7\">\r\n      <g>\r\n       <use style=\"stroke:#000000;stroke-width:0.8;\" x=\"41.667188\" xlink:href=\"#m8ebea08a8d\" y=\"156.773124\"/>\r\n      </g>\r\n     </g>\r\n     <g id=\"text_7\">\r\n      <!-- −50 -->\r\n      <g transform=\"translate(13.5625 160.572343)scale(0.1 -0.1)\">\r\n       <defs>\r\n        <path d=\"M 10.796875 72.90625 \r\nL 49.515625 72.90625 \r\nL 49.515625 64.59375 \r\nL 19.828125 64.59375 \r\nL 19.828125 46.734375 \r\nQ 21.96875 47.46875 24.109375 47.828125 \r\nQ 26.265625 48.1875 28.421875 48.1875 \r\nQ 40.625 48.1875 47.75 41.5 \r\nQ 54.890625 34.8125 54.890625 23.390625 \r\nQ 54.890625 11.625 47.5625 5.09375 \r\nQ 40.234375 -1.421875 26.90625 -1.421875 \r\nQ 22.3125 -1.421875 17.546875 -0.640625 \r\nQ 12.796875 0.140625 7.71875 1.703125 \r\nL 7.71875 11.625 \r\nQ 12.109375 9.234375 16.796875 8.0625 \r\nQ 21.484375 6.890625 26.703125 6.890625 \r\nQ 35.15625 6.890625 40.078125 11.328125 \r\nQ 45.015625 15.765625 45.015625 23.390625 \r\nQ 45.015625 31 40.078125 35.4375 \r\nQ 35.15625 39.890625 26.703125 39.890625 \r\nQ 22.75 39.890625 18.8125 39.015625 \r\nQ 14.890625 38.140625 10.796875 36.28125 \r\nz\r\n\" id=\"DejaVuSans-53\"/>\r\n       </defs>\r\n       <use xlink:href=\"#DejaVuSans-8722\"/>\r\n       <use x=\"83.789062\" xlink:href=\"#DejaVuSans-53\"/>\r\n       <use x=\"147.412109\" xlink:href=\"#DejaVuSans-48\"/>\r\n      </g>\r\n     </g>\r\n    </g>\r\n    <g id=\"ytick_3\">\r\n     <g id=\"line2d_8\">\r\n      <g>\r\n       <use style=\"stroke:#000000;stroke-width:0.8;\" x=\"41.667188\" xlink:href=\"#m8ebea08a8d\" y=\"113.279589\"/>\r\n      </g>\r\n     </g>\r\n     <g id=\"text_8\">\r\n      <!-- 0 -->\r\n      <g transform=\"translate(28.304688 117.078807)scale(0.1 -0.1)\">\r\n       <use xlink:href=\"#DejaVuSans-48\"/>\r\n      </g>\r\n     </g>\r\n    </g>\r\n    <g id=\"ytick_4\">\r\n     <g id=\"line2d_9\">\r\n      <g>\r\n       <use style=\"stroke:#000000;stroke-width:0.8;\" x=\"41.667188\" xlink:href=\"#m8ebea08a8d\" y=\"69.786053\"/>\r\n      </g>\r\n     </g>\r\n     <g id=\"text_9\">\r\n      <!-- 50 -->\r\n      <g transform=\"translate(21.942188 73.585272)scale(0.1 -0.1)\">\r\n       <use xlink:href=\"#DejaVuSans-53\"/>\r\n       <use x=\"63.623047\" xlink:href=\"#DejaVuSans-48\"/>\r\n      </g>\r\n     </g>\r\n    </g>\r\n    <g id=\"ytick_5\">\r\n     <g id=\"line2d_10\">\r\n      <g>\r\n       <use style=\"stroke:#000000;stroke-width:0.8;\" x=\"41.667188\" xlink:href=\"#m8ebea08a8d\" y=\"26.292518\"/>\r\n      </g>\r\n     </g>\r\n     <g id=\"text_10\">\r\n      <!-- 100 -->\r\n      <g transform=\"translate(15.579688 30.091737)scale(0.1 -0.1)\">\r\n       <use xlink:href=\"#DejaVuSans-49\"/>\r\n       <use x=\"63.623047\" xlink:href=\"#DejaVuSans-48\"/>\r\n       <use x=\"127.246094\" xlink:href=\"#DejaVuSans-48\"/>\r\n      </g>\r\n     </g>\r\n    </g>\r\n   </g>\r\n   <g id=\"line2d_11\">\r\n    <defs>\r\n     <path d=\"M 0 3 \r\nC 0.795609 3 1.55874 2.683901 2.12132 2.12132 \r\nC 2.683901 1.55874 3 0.795609 3 0 \r\nC 3 -0.795609 2.683901 -1.55874 2.12132 -2.12132 \r\nC 1.55874 -2.683901 0.795609 -3 0 -3 \r\nC -0.795609 -3 -1.55874 -2.683901 -2.12132 -2.12132 \r\nC -2.683901 -1.55874 -3 -0.795609 -3 0 \r\nC -3 0.795609 -2.683901 1.55874 -2.12132 2.12132 \r\nC -1.55874 2.683901 -0.795609 3 0 3 \r\nz\r\n\" id=\"mbc20a36518\" style=\"stroke:#ff0000;\"/>\r\n    </defs>\r\n    <g clip-path=\"url(#pb660be72ec)\">\r\n     <use style=\"fill:#ff0000;stroke:#ff0000;\" x=\"95.2286\" xlink:href=\"#mbc20a36518\" y=\"188.177417\"/>\r\n     <use style=\"fill:#ff0000;stroke:#ff0000;\" x=\"246.493905\" xlink:href=\"#mbc20a36518\" y=\"90.850573\"/>\r\n     <use style=\"fill:#ff0000;stroke:#ff0000;\" x=\"252.58154\" xlink:href=\"#mbc20a36518\" y=\"93.79597\"/>\r\n     <use style=\"fill:#ff0000;stroke:#ff0000;\" x=\"149.516491\" xlink:href=\"#mbc20a36518\" y=\"156.76136\"/>\r\n     <use style=\"fill:#ff0000;stroke:#ff0000;\" x=\"357.658165\" xlink:href=\"#mbc20a36518\" y=\"19.01579\"/>\r\n     <use style=\"fill:#ff0000;stroke:#ff0000;\" x=\"238.275652\" xlink:href=\"#mbc20a36518\" y=\"100.116349\"/>\r\n     <use style=\"fill:#ff0000;stroke:#ff0000;\" x=\"295.165979\" xlink:href=\"#mbc20a36518\" y=\"63.558586\"/>\r\n     <use style=\"fill:#ff0000;stroke:#ff0000;\" x=\"233.675042\" xlink:href=\"#mbc20a36518\" y=\"95.810109\"/>\r\n     <use style=\"fill:#ff0000;stroke:#ff0000;\" x=\"243.333794\" xlink:href=\"#mbc20a36518\" y=\"93.791314\"/>\r\n     <use style=\"fill:#ff0000;stroke:#ff0000;\" x=\"148.907769\" xlink:href=\"#mbc20a36518\" y=\"157.218597\"/>\r\n     <use style=\"fill:#ff0000;stroke:#ff0000;\" x=\"334.716459\" xlink:href=\"#mbc20a36518\" y=\"28.564027\"/>\r\n     <use style=\"fill:#ff0000;stroke:#ff0000;\" x=\"361.249006\" xlink:href=\"#mbc20a36518\" y=\"17.083636\"/>\r\n     <use style=\"fill:#ff0000;stroke:#ff0000;\" x=\"354.735679\" xlink:href=\"#mbc20a36518\" y=\"17.507814\"/>\r\n     <use style=\"fill:#ff0000;stroke:#ff0000;\" x=\"132.287689\" xlink:href=\"#mbc20a36518\" y=\"163.371605\"/>\r\n     <use style=\"fill:#ff0000;stroke:#ff0000;\" x=\"317.288957\" xlink:href=\"#mbc20a36518\" y=\"51.236726\"/>\r\n     <use style=\"fill:#ff0000;stroke:#ff0000;\" x=\"235.400342\" xlink:href=\"#mbc20a36518\" y=\"105.46696\"/>\r\n     <use style=\"fill:#ff0000;stroke:#ff0000;\" x=\"249.28226\" xlink:href=\"#mbc20a36518\" y=\"91.909806\"/>\r\n     <use style=\"fill:#ff0000;stroke:#ff0000;\" x=\"125.50618\" xlink:href=\"#mbc20a36518\" y=\"172.693151\"/>\r\n     <use style=\"fill:#ff0000;stroke:#ff0000;\" x=\"208.843675\" xlink:href=\"#mbc20a36518\" y=\"118.579371\"/>\r\n     <use style=\"fill:#ff0000;stroke:#ff0000;\" x=\"262.382036\" xlink:href=\"#mbc20a36518\" y=\"87.297273\"/>\r\n     <use style=\"fill:#ff0000;stroke:#ff0000;\" x=\"273.830573\" xlink:href=\"#mbc20a36518\" y=\"71.977944\"/>\r\n     <use style=\"fill:#ff0000;stroke:#ff0000;\" x=\"88.970765\" xlink:href=\"#mbc20a36518\" y=\"184.788579\"/>\r\n     <use style=\"fill:#ff0000;stroke:#ff0000;\" x=\"178.046398\" xlink:href=\"#mbc20a36518\" y=\"134.242656\"/>\r\n     <use style=\"fill:#ff0000;stroke:#ff0000;\" x=\"198.091174\" xlink:href=\"#mbc20a36518\" y=\"125.333829\"/>\r\n     <use style=\"fill:#ff0000;stroke:#ff0000;\" x=\"234.211196\" xlink:href=\"#mbc20a36518\" y=\"102.2103\"/>\r\n     <use style=\"fill:#ff0000;stroke:#ff0000;\" x=\"288.486793\" xlink:href=\"#mbc20a36518\" y=\"65.005041\"/>\r\n     <use style=\"fill:#ff0000;stroke:#ff0000;\" x=\"197.131368\" xlink:href=\"#mbc20a36518\" y=\"126.910742\"/>\r\n     <use style=\"fill:#ff0000;stroke:#ff0000;\" x=\"234.303702\" xlink:href=\"#mbc20a36518\" y=\"97.68686\"/>\r\n     <use style=\"fill:#ff0000;stroke:#ff0000;\" x=\"295.451675\" xlink:href=\"#mbc20a36518\" y=\"61.726406\"/>\r\n     <use style=\"fill:#ff0000;stroke:#ff0000;\" x=\"134.422366\" xlink:href=\"#mbc20a36518\" y=\"173.060011\"/>\r\n     <use style=\"fill:#ff0000;stroke:#ff0000;\" x=\"208.481347\" xlink:href=\"#mbc20a36518\" y=\"113.12986\"/>\r\n     <use style=\"fill:#ff0000;stroke:#ff0000;\" x=\"203.480771\" xlink:href=\"#mbc20a36518\" y=\"116.727641\"/>\r\n     <use style=\"fill:#ff0000;stroke:#ff0000;\" x=\"286.281141\" xlink:href=\"#mbc20a36518\" y=\"71.705049\"/>\r\n     <use style=\"fill:#ff0000;stroke:#ff0000;\" x=\"299.788933\" xlink:href=\"#mbc20a36518\" y=\"59.019196\"/>\r\n     <use style=\"fill:#ff0000;stroke:#ff0000;\" x=\"190.336837\" xlink:href=\"#mbc20a36518\" y=\"135.129572\"/>\r\n     <use style=\"fill:#ff0000;stroke:#ff0000;\" x=\"156.666434\" xlink:href=\"#mbc20a36518\" y=\"145.752042\"/>\r\n     <use style=\"fill:#ff0000;stroke:#ff0000;\" x=\"221.154986\" xlink:href=\"#mbc20a36518\" y=\"106.143035\"/>\r\n     <use style=\"fill:#ff0000;stroke:#ff0000;\" x=\"185.150337\" xlink:href=\"#mbc20a36518\" y=\"125.848153\"/>\r\n     <use style=\"fill:#ff0000;stroke:#ff0000;\" x=\"254.394922\" xlink:href=\"#mbc20a36518\" y=\"91.110837\"/>\r\n     <use style=\"fill:#ff0000;stroke:#ff0000;\" x=\"75.963998\" xlink:href=\"#mbc20a36518\" y=\"198.274775\"/>\r\n     <use style=\"fill:#ff0000;stroke:#ff0000;\" x=\"287.623395\" xlink:href=\"#mbc20a36518\" y=\"68.708797\"/>\r\n     <use style=\"fill:#ff0000;stroke:#ff0000;\" x=\"194.844104\" xlink:href=\"#mbc20a36518\" y=\"126.723291\"/>\r\n     <use style=\"fill:#ff0000;stroke:#ff0000;\" x=\"261.622863\" xlink:href=\"#mbc20a36518\" y=\"81.733322\"/>\r\n     <use style=\"fill:#ff0000;stroke:#ff0000;\" x=\"289.580385\" xlink:href=\"#mbc20a36518\" y=\"66.637519\"/>\r\n     <use style=\"fill:#ff0000;stroke:#ff0000;\" x=\"241.951754\" xlink:href=\"#mbc20a36518\" y=\"95.152388\"/>\r\n     <use style=\"fill:#ff0000;stroke:#ff0000;\" x=\"278.558902\" xlink:href=\"#mbc20a36518\" y=\"67.575023\"/>\r\n     <use style=\"fill:#ff0000;stroke:#ff0000;\" x=\"259.940524\" xlink:href=\"#mbc20a36518\" y=\"81.53834\"/>\r\n     <use style=\"fill:#ff0000;stroke:#ff0000;\" x=\"226.860329\" xlink:href=\"#mbc20a36518\" y=\"110.818147\"/>\r\n     <use style=\"fill:#ff0000;stroke:#ff0000;\" x=\"221.646673\" xlink:href=\"#mbc20a36518\" y=\"115.601664\"/>\r\n     <use style=\"fill:#ff0000;stroke:#ff0000;\" x=\"224.139705\" xlink:href=\"#mbc20a36518\" y=\"105.026433\"/>\r\n     <use style=\"fill:#ff0000;stroke:#ff0000;\" x=\"82.856307\" xlink:href=\"#mbc20a36518\" y=\"200.42311\"/>\r\n     <use style=\"fill:#ff0000;stroke:#ff0000;\" x=\"253.677986\" xlink:href=\"#mbc20a36518\" y=\"87.56692\"/>\r\n     <use style=\"fill:#ff0000;stroke:#ff0000;\" x=\"71.145619\" xlink:href=\"#mbc20a36518\" y=\"203.415165\"/>\r\n     <use style=\"fill:#ff0000;stroke:#ff0000;\" x=\"239.48704\" xlink:href=\"#mbc20a36518\" y=\"94.756436\"/>\r\n     <use style=\"fill:#ff0000;stroke:#ff0000;\" x=\"197.304698\" xlink:href=\"#mbc20a36518\" y=\"120.670374\"/>\r\n     <use style=\"fill:#ff0000;stroke:#ff0000;\" x=\"305.710509\" xlink:href=\"#mbc20a36518\" y=\"56.110866\"/>\r\n     <use style=\"fill:#ff0000;stroke:#ff0000;\" x=\"240.817363\" xlink:href=\"#mbc20a36518\" y=\"96.204863\"/>\r\n     <use style=\"fill:#ff0000;stroke:#ff0000;\" x=\"175.424283\" xlink:href=\"#mbc20a36518\" y=\"137.19636\"/>\r\n     <use style=\"fill:#ff0000;stroke:#ff0000;\" x=\"204.316927\" xlink:href=\"#mbc20a36518\" y=\"124.912671\"/>\r\n     <use style=\"fill:#ff0000;stroke:#ff0000;\" x=\"179.888221\" xlink:href=\"#mbc20a36518\" y=\"137.238035\"/>\r\n     <use style=\"fill:#ff0000;stroke:#ff0000;\" x=\"227.550713\" xlink:href=\"#mbc20a36518\" y=\"100.943054\"/>\r\n     <use style=\"fill:#ff0000;stroke:#ff0000;\" x=\"227.805706\" xlink:href=\"#mbc20a36518\" y=\"100.512502\"/>\r\n     <use style=\"fill:#ff0000;stroke:#ff0000;\" x=\"217.447549\" xlink:href=\"#mbc20a36518\" y=\"107.94997\"/>\r\n     <use style=\"fill:#ff0000;stroke:#ff0000;\" x=\"96.771589\" xlink:href=\"#mbc20a36518\" y=\"187.688574\"/>\r\n     <use style=\"fill:#ff0000;stroke:#ff0000;\" x=\"132.898207\" xlink:href=\"#mbc20a36518\" y=\"159.592127\"/>\r\n     <use style=\"fill:#ff0000;stroke:#ff0000;\" x=\"183.484687\" xlink:href=\"#mbc20a36518\" y=\"136.02439\"/>\r\n     <use style=\"fill:#ff0000;stroke:#ff0000;\" x=\"220.284533\" xlink:href=\"#mbc20a36518\" y=\"113.000661\"/>\r\n     <use style=\"fill:#ff0000;stroke:#ff0000;\" x=\"295.166674\" xlink:href=\"#mbc20a36518\" y=\"61.427151\"/>\r\n     <use style=\"fill:#ff0000;stroke:#ff0000;\" x=\"68.813974\" xlink:href=\"#mbc20a36518\" y=\"205.741885\"/>\r\n     <use style=\"fill:#ff0000;stroke:#ff0000;\" x=\"230.398434\" xlink:href=\"#mbc20a36518\" y=\"99.068515\"/>\r\n     <use style=\"fill:#ff0000;stroke:#ff0000;\" x=\"266.723395\" xlink:href=\"#mbc20a36518\" y=\"82.008313\"/>\r\n     <use style=\"fill:#ff0000;stroke:#ff0000;\" x=\"215.521648\" xlink:href=\"#mbc20a36518\" y=\"113.738626\"/>\r\n     <use style=\"fill:#ff0000;stroke:#ff0000;\" x=\"228.438289\" xlink:href=\"#mbc20a36518\" y=\"106.256212\"/>\r\n     <use style=\"fill:#ff0000;stroke:#ff0000;\" x=\"56.885369\" xlink:href=\"#mbc20a36518\" y=\"214.756364\"/>\r\n     <use style=\"fill:#ff0000;stroke:#ff0000;\" x=\"175.881317\" xlink:href=\"#mbc20a36518\" y=\"133.542704\"/>\r\n     <use style=\"fill:#ff0000;stroke:#ff0000;\" x=\"265.285283\" xlink:href=\"#mbc20a36518\" y=\"82.178304\"/>\r\n     <use style=\"fill:#ff0000;stroke:#ff0000;\" x=\"176.963155\" xlink:href=\"#mbc20a36518\" y=\"141.468973\"/>\r\n     <use style=\"fill:#ff0000;stroke:#ff0000;\" x=\"127.21301\" xlink:href=\"#mbc20a36518\" y=\"174.780109\"/>\r\n     <use style=\"fill:#ff0000;stroke:#ff0000;\" x=\"224.186887\" xlink:href=\"#mbc20a36518\" y=\"102.433569\"/>\r\n     <use style=\"fill:#ff0000;stroke:#ff0000;\" x=\"195.807806\" xlink:href=\"#mbc20a36518\" y=\"121.161893\"/>\r\n     <use style=\"fill:#ff0000;stroke:#ff0000;\" x=\"190.616273\" xlink:href=\"#mbc20a36518\" y=\"127.838296\"/>\r\n     <use style=\"fill:#ff0000;stroke:#ff0000;\" x=\"240.621437\" xlink:href=\"#mbc20a36518\" y=\"92.777741\"/>\r\n     <use style=\"fill:#ff0000;stroke:#ff0000;\" x=\"225.393018\" xlink:href=\"#mbc20a36518\" y=\"102.247931\"/>\r\n     <use style=\"fill:#ff0000;stroke:#ff0000;\" x=\"229.65014\" xlink:href=\"#mbc20a36518\" y=\"102.993192\"/>\r\n     <use style=\"fill:#ff0000;stroke:#ff0000;\" x=\"267.811951\" xlink:href=\"#mbc20a36518\" y=\"78.568278\"/>\r\n     <use style=\"fill:#ff0000;stroke:#ff0000;\" x=\"186.543949\" xlink:href=\"#mbc20a36518\" y=\"144.817492\"/>\r\n     <use style=\"fill:#ff0000;stroke:#ff0000;\" x=\"249.498271\" xlink:href=\"#mbc20a36518\" y=\"88.07865\"/>\r\n     <use style=\"fill:#ff0000;stroke:#ff0000;\" x=\"271.645153\" xlink:href=\"#mbc20a36518\" y=\"77.730178\"/>\r\n     <use style=\"fill:#ff0000;stroke:#ff0000;\" x=\"282.303935\" xlink:href=\"#mbc20a36518\" y=\"76.882867\"/>\r\n     <use style=\"fill:#ff0000;stroke:#ff0000;\" x=\"243.959981\" xlink:href=\"#mbc20a36518\" y=\"94.095485\"/>\r\n     <use style=\"fill:#ff0000;stroke:#ff0000;\" x=\"231.775385\" xlink:href=\"#mbc20a36518\" y=\"99.9528\"/>\r\n     <use style=\"fill:#ff0000;stroke:#ff0000;\" x=\"98.790899\" xlink:href=\"#mbc20a36518\" y=\"189.4052\"/>\r\n     <use style=\"fill:#ff0000;stroke:#ff0000;\" x=\"179.717242\" xlink:href=\"#mbc20a36518\" y=\"138.785377\"/>\r\n     <use style=\"fill:#ff0000;stroke:#ff0000;\" x=\"221.319129\" xlink:href=\"#mbc20a36518\" y=\"114.699552\"/>\r\n     <use style=\"fill:#ff0000;stroke:#ff0000;\" x=\"168.586495\" xlink:href=\"#mbc20a36518\" y=\"132.432601\"/>\r\n     <use style=\"fill:#ff0000;stroke:#ff0000;\" x=\"206.028746\" xlink:href=\"#mbc20a36518\" y=\"115.411424\"/>\r\n     <use style=\"fill:#ff0000;stroke:#ff0000;\" x=\"286.643428\" xlink:href=\"#mbc20a36518\" y=\"64.375068\"/>\r\n     <use style=\"fill:#ff0000;stroke:#ff0000;\" x=\"181.853675\" xlink:href=\"#mbc20a36518\" y=\"140.248072\"/>\r\n     <use style=\"fill:#ff0000;stroke:#ff0000;\" x=\"275.650486\" xlink:href=\"#mbc20a36518\" y=\"66.201308\"/>\r\n     <use style=\"fill:#ff0000;stroke:#ff0000;\" x=\"200.781762\" xlink:href=\"#mbc20a36518\" y=\"124.049184\"/>\r\n    </g>\r\n   </g>\r\n   <g id=\"patch_3\">\r\n    <path d=\"M 41.667188 224.64 \r\nL 41.667188 7.2 \r\n\" style=\"fill:none;stroke:#000000;stroke-linecap:square;stroke-linejoin:miter;stroke-width:0.8;\"/>\r\n   </g>\r\n   <g id=\"patch_4\">\r\n    <path d=\"M 376.467188 224.64 \r\nL 376.467188 7.2 \r\n\" style=\"fill:none;stroke:#000000;stroke-linecap:square;stroke-linejoin:miter;stroke-width:0.8;\"/>\r\n   </g>\r\n   <g id=\"patch_5\">\r\n    <path d=\"M 41.667187 224.64 \r\nL 376.467188 224.64 \r\n\" style=\"fill:none;stroke:#000000;stroke-linecap:square;stroke-linejoin:miter;stroke-width:0.8;\"/>\r\n   </g>\r\n   <g id=\"patch_6\">\r\n    <path d=\"M 41.667187 7.2 \r\nL 376.467188 7.2 \r\n\" style=\"fill:none;stroke:#000000;stroke-linecap:square;stroke-linejoin:miter;stroke-width:0.8;\"/>\r\n   </g>\r\n  </g>\r\n </g>\r\n <defs>\r\n  <clipPath id=\"pb660be72ec\">\r\n   <rect height=\"217.44\" width=\"334.8\" x=\"41.667188\" y=\"7.2\"/>\r\n  </clipPath>\r\n </defs>\r\n</svg>\r\n",
            "image/png": "[encoded data removed]"
          },
          "metadata": {
            "needs_background": "light"
          }
        }
      ]
    },
    {
      "cell_type": "markdown",
      "metadata": {
        "id": "PLDAEVR8Fpyx"
      },
      "source": [
        "**TODO:** \n",
        "\n",
        "- Nhận xét dữ liệu:\n",
        "  Từ đồ thị này ta thấy rằng dữ liệu được sắp xếp gần như theo 1 đường thẳng, vậy mô hình Linear Regression nhiều khả năng sẽ cho kết quả tốt:"
      ]
    },
    {
      "cell_type": "markdown",
      "metadata": {
        "id": "mrb7peM1Fpyz"
      },
      "source": [
        "#### Training function"
      ]
    },
    {
      "cell_type": "code",
      "metadata": {
        "id": "DdPXTgoAFpyz"
      },
      "source": [
        "def train_linear_regression(X, y):\n",
        "    '''\n",
        "    Trains Linear Regression on the dataset (X, y).\n",
        "    \n",
        "    Parameters\n",
        "    ----------\n",
        "    X : numpy array, shape (m, d + 1)\n",
        "        The matrix of input vectors (each row corresponds to an input vector); \n",
        "        the first column of this matrix is all ones (corresponding to x_0).\n",
        "    y : numpy array, shape (m, 1)\n",
        "        The vector of outputs.\n",
        "    \n",
        "    Returns\n",
        "    -------\n",
        "    w : numpy array, shape (d + 1, 1)\n",
        "        The vector of parameters of Linear Regression after training.\n",
        "    '''\n",
        "    # TODO\n",
        "    learning_rate = 1e-3\n",
        "    n_steps = 1000\n",
        "       \n",
        "    # random initialization of the model weights\n",
        "    w = np.random.rand((X.shape[1]))\n",
        "        \n",
        "    # iteratively updating W for n_steps\n",
        "    for i in range(n_steps):\n",
        "      w = w - learning_rate * (2/X.shape[0] * np.dot(X.T, (np.dot(X, w) - y)))\n",
        "\n",
        "    return w"
      ],
      "execution_count": 5,
      "outputs": []
    },
    {
      "cell_type": "code",
      "metadata": {
        "colab": {
          "base_uri": "https://localhost:8080/"
        },
        "id": "wDgQ-5EDFpy5",
        "outputId": "28d85cb4-9868-4baf-dbb7-04d620e94119"
      },
      "source": [
        "# Construct one_added_X \n",
        "# TODO:\n",
        "# First column of one_added_X is all ones (corresponding to x_0).\n",
        "one_added_X = np.c_[np.ones(X.shape[0]), X]\n",
        "print ('one_added_X.shape =', one_added_X.shape)\n",
        "print ('y.shape =', y.shape)\n",
        "print(one_added_X)\n",
        "print(y)\n"
      ],
      "execution_count": 6,
      "outputs": [
        {
          "output_type": "stream",
          "name": "stdout",
          "text": [
            "one_added_X.shape = (100, 2)\ny.shape = (100,)\n[[ 1.         -1.77218765]\n [ 1.          0.4860915 ]\n [ 1.          0.57697539]\n [ 1.         -0.96170958]\n [ 1.          2.1456917 ]\n [ 1.          0.36339906]\n [ 1.          1.21272958]\n [ 1.          0.29471536]\n [ 1.          0.43891338]\n [ 1.         -0.97079735]\n [ 1.          1.80318899]\n [ 1.          2.1993003 ]\n [ 1.          2.10206114]\n [ 1.         -1.21892285]\n [ 1.          1.54300927]\n [ 1.          0.32047281]\n [ 1.          0.52771957]\n [ 1.         -1.32016576]\n [ 1.         -0.07599859]\n [ 1.          0.72328954]\n [ 1.          0.89420774]\n [ 1.         -1.8656125 ]\n [ 1.         -0.53577916]\n [ 1.         -0.23652548]\n [ 1.          0.30271974]\n [ 1.          1.11301427]\n [ 1.         -0.25085468]\n [ 1.          0.30410078]\n [ 1.          1.2169948 ]\n [ 1.         -1.1870537 ]\n [ 1.         -0.08140788]\n [ 1.         -0.15606278]\n [ 1.          1.08008551]\n [ 1.          1.28174686]\n [ 1.         -0.352292  ]\n [ 1.         -0.85496621]\n [ 1.          0.10780018]\n [ 1.         -0.4297226 ]\n [ 1.          0.60404784]\n [ 1.         -2.05979391]\n [ 1.          1.10012437]\n [ 1.         -0.28500184]\n [ 1.          0.71195565]\n [ 1.          1.12934079]\n [ 1.          0.41828055]\n [ 1.          0.9647982 ]\n [ 1.          0.68683957]\n [ 1.          0.19297672]\n [ 1.          0.1151407 ]\n [ 1.          0.15235982]\n [ 1.         -1.95689683]\n [ 1.          0.59334452]\n [ 1.         -2.13172874]\n [ 1.          0.38148419]\n [ 1.         -0.24826698]\n [ 1.          1.37015161]\n [ 1.          0.40134493]\n [ 1.         -0.5749254 ]\n [ 1.         -0.14357959]\n [ 1.         -0.50828211]\n [ 1.          0.20328365]\n [ 1.          0.20709051]\n [ 1.          0.05245089]\n [ 1.         -1.74915196]\n [ 1.         -1.20980828]\n [ 1.         -0.45458953]\n [ 1.          0.09480496]\n [ 1.          1.21273995]\n [ 1.         -2.16653847]\n [ 1.          0.24579802]\n [ 1.          0.78810283]\n [ 1.          0.02369861]\n [ 1.          0.21653451]\n [ 1.         -2.34462373]\n [ 1.         -0.56810223]\n [ 1.          0.76663287]\n [ 1.         -0.55195118]\n [ 1.         -1.29468406]\n [ 1.          0.15306421]\n [ 1.         -0.27061447]\n [ 1.         -0.34812023]\n [ 1.          0.3984199 ]\n [ 1.          0.17107087]\n [ 1.          0.23462654]\n [ 1.          0.80435416]\n [ 1.         -0.40891701]\n [ 1.          0.53094446]\n [ 1.          0.86158104]\n [ 1.          1.02070878]\n [ 1.          0.44826188]\n [ 1.          0.26635488]\n [ 1.         -1.71900515]\n [ 1.         -0.5108347 ]\n [ 1.          0.11025071]\n [ 1.         -0.67700853]\n [ 1.         -0.1180234 ]\n [ 1.          1.08549418]\n [ 1.         -0.47893934]\n [ 1.          0.92137769]\n [ 1.         -0.19635699]]\n[ -86.10225468   25.78430971   22.39829255  -49.98647699  108.36529883\n   15.13240926   57.15907301   20.08284657   22.4036452   -50.51211433\n   97.3886824   110.58649507  110.09886252  -57.5855881    71.32423469\n    8.9813673    24.56661946  -68.30160176   -6.09260922   29.86916999\n   47.48021137  -82.20645877  -24.09906181  -13.85750825   12.72521177\n   55.4962332   -15.67032173   17.92534083   59.26533931  -68.72334244\n    0.17212773   -3.96386737   47.79393055   62.37753801  -25.11865626\n  -37.33020685    8.20415403  -14.44877284   25.48511133  -97.71013833\n   51.2384096   -15.45482876   36.26546667   53.61954327   20.83895949\n   52.54179259   36.48961681    2.82966386   -2.66944936    9.48779542\n -100.17985533   29.559184   -103.61951042   21.29414506   -8.49641845\n   65.72094244   19.62903846  -27.4946277   -13.37334705  -27.54253745\n   14.18203247   14.67699319    6.1269095   -85.54028196  -53.24071475\n  -26.14733526    0.3206544    59.60936211 -106.29429906   16.33699537\n   35.94933785   -0.5277074     8.07404605 -116.65730858  -23.2943988\n   35.75391698  -32.40640768  -70.70076054   12.4685427    -9.06146641\n  -16.73663385   23.56884437   12.68195063   11.82520163   39.90398892\n  -36.25585197   28.97090149   40.86746514   41.84153038   22.05397128\n   15.32042455  -87.51370883  -29.3213557    -1.6323841   -22.01822919\n   -2.45074977   56.22044785  -31.00286478   54.12100949  -12.38068572]\n"
          ]
        }
      ]
    },
    {
      "cell_type": "markdown",
      "metadata": {
        "id": "nVhd2dvCFpzE"
      },
      "source": [
        "#### Train our model and visualize result"
      ]
    },
    {
      "cell_type": "code",
      "metadata": {
        "colab": {
          "base_uri": "https://localhost:8080/",
          "height": 299
        },
        "id": "y3YvmkEEFpzE",
        "outputId": "15bb4eb4-e75b-444a-cadb-c7b728db0786"
      },
      "source": [
        "w = train_linear_regression(one_added_X, y)\n",
        "print(w)\n",
        "# Visualize result\n",
        "predicted_ys = one_added_X.dot(w)\n",
        "\n",
        "plt.plot(X,y,'ro')\n",
        "\n",
        "x_min, x_max = plt.xlim()\n",
        "xs = np.array([x_min, x_max]).reshape(-1, 1)\n",
        "\n",
        "# Construct one_added_xs \n",
        "# TODO:\n",
        "# First column of one_added_xs is all ones (corresponding to x_0).\n",
        "ones_added_xs =  np.c_[np.ones(xs.shape[0]), xs]\n",
        "\n",
        "predicted_ys = ones_added_xs.dot(w)\n",
        "plt.plot(xs, predicted_ys)\n",
        "plt.xlim(x_min, x_max)\n",
        "\n",
        "\n"
      ],
      "execution_count": 7,
      "outputs": [
        {
          "output_type": "stream",
          "name": "stdout",
          "text": [
            "[ 0.69994574 42.0473808 ]\n"
          ]
        },
        {
          "output_type": "execute_result",
          "data": {
            "text/plain": [
              "(-2.5718199304563965, 2.426496498734992)"
            ]
          },
          "metadata": {},
          "execution_count": 7
        },
        {
          "output_type": "display_data",
          "data": {
            "text/plain": "<Figure size 432x288 with 1 Axes>",
            "image/svg+xml": "<?xml version=\"1.0\" encoding=\"utf-8\" standalone=\"no\"?>\r\n<!DOCTYPE svg PUBLIC \"-//W3C//DTD SVG 1.1//EN\"\r\n  \"http://www.w3.org/Graphics/SVG/1.1/DTD/svg11.dtd\">\r\n<!-- Created with matplotlib (https://matplotlib.org/) -->\r\n<svg height=\"248.518125pt\" version=\"1.1\" viewBox=\"0 0 383.667187 248.518125\" width=\"383.667187pt\" xmlns=\"http://www.w3.org/2000/svg\" xmlns:xlink=\"http://www.w3.org/1999/xlink\">\r\n <metadata>\r\n  <rdf:RDF xmlns:cc=\"http://creativecommons.org/ns#\" xmlns:dc=\"http://purl.org/dc/elements/1.1/\" xmlns:rdf=\"http://www.w3.org/1999/02/22-rdf-syntax-ns#\">\r\n   <cc:Work>\r\n    <dc:type rdf:resource=\"http://purl.org/dc/dcmitype/StillImage\"/>\r\n    <dc:date>2020-12-15T11:11:14.036140</dc:date>\r\n    <dc:format>image/svg+xml</dc:format>\r\n    <dc:creator>\r\n     <cc:Agent>\r\n      <dc:title>Matplotlib v3.3.3, https://matplotlib.org/</dc:title>\r\n     </cc:Agent>\r\n    </dc:creator>\r\n   </cc:Work>\r\n  </rdf:RDF>\r\n </metadata>\r\n <defs>\r\n  <style type=\"text/css\">*{stroke-linecap:butt;stroke-linejoin:round;}</style>\r\n </defs>\r\n <g id=\"figure_1\">\r\n  <g id=\"patch_1\">\r\n   <path d=\"M 0 248.518125 \r\nL 383.667187 248.518125 \r\nL 383.667187 0 \r\nL 0 0 \r\nz\r\n\" style=\"fill:none;\"/>\r\n  </g>\r\n  <g id=\"axes_1\">\r\n   <g id=\"patch_2\">\r\n    <path d=\"M 41.667188 224.64 \r\nL 376.467188 224.64 \r\nL 376.467188 7.2 \r\nL 41.667188 7.2 \r\nz\r\n\" style=\"fill:#ffffff;\"/>\r\n   </g>\r\n   <g id=\"matplotlib.axis_1\">\r\n    <g id=\"xtick_1\">\r\n     <g id=\"line2d_1\">\r\n      <defs>\r\n       <path d=\"M 0 0 \r\nL 0 3.5 \r\n\" id=\"mcaafef1715\" style=\"stroke:#000000;stroke-width:0.8;\"/>\r\n      </defs>\r\n      <g>\r\n       <use style=\"stroke:#000000;stroke-width:0.8;\" x=\"79.969147\" xlink:href=\"#mcaafef1715\" y=\"224.64\"/>\r\n      </g>\r\n     </g>\r\n     <g id=\"text_1\">\r\n      <!-- −2 -->\r\n      <g transform=\"translate(72.598053 239.238438)scale(0.1 -0.1)\">\r\n       <defs>\r\n        <path d=\"M 10.59375 35.5 \r\nL 73.1875 35.5 \r\nL 73.1875 27.203125 \r\nL 10.59375 27.203125 \r\nz\r\n\" id=\"DejaVuSans-8722\"/>\r\n        <path d=\"M 19.1875 8.296875 \r\nL 53.609375 8.296875 \r\nL 53.609375 0 \r\nL 7.328125 0 \r\nL 7.328125 8.296875 \r\nQ 12.9375 14.109375 22.625 23.890625 \r\nQ 32.328125 33.6875 34.8125 36.53125 \r\nQ 39.546875 41.84375 41.421875 45.53125 \r\nQ 43.3125 49.21875 43.3125 52.78125 \r\nQ 43.3125 58.59375 39.234375 62.25 \r\nQ 35.15625 65.921875 28.609375 65.921875 \r\nQ 23.96875 65.921875 18.8125 64.3125 \r\nQ 13.671875 62.703125 7.8125 59.421875 \r\nL 7.8125 69.390625 \r\nQ 13.765625 71.78125 18.9375 73 \r\nQ 24.125 74.21875 28.421875 74.21875 \r\nQ 39.75 74.21875 46.484375 68.546875 \r\nQ 53.21875 62.890625 53.21875 53.421875 \r\nQ 53.21875 48.921875 51.53125 44.890625 \r\nQ 49.859375 40.875 45.40625 35.40625 \r\nQ 44.1875 33.984375 37.640625 27.21875 \r\nQ 31.109375 20.453125 19.1875 8.296875 \r\nz\r\n\" id=\"DejaVuSans-50\"/>\r\n       </defs>\r\n       <use xlink:href=\"#DejaVuSans-8722\"/>\r\n       <use x=\"83.789062\" xlink:href=\"#DejaVuSans-50\"/>\r\n      </g>\r\n     </g>\r\n    </g>\r\n    <g id=\"xtick_2\">\r\n     <g id=\"line2d_2\">\r\n      <g>\r\n       <use style=\"stroke:#000000;stroke-width:0.8;\" x=\"146.951701\" xlink:href=\"#mcaafef1715\" y=\"224.64\"/>\r\n      </g>\r\n     </g>\r\n     <g id=\"text_2\">\r\n      <!-- −1 -->\r\n      <g transform=\"translate(139.580607 239.238438)scale(0.1 -0.1)\">\r\n       <defs>\r\n        <path d=\"M 12.40625 8.296875 \r\nL 28.515625 8.296875 \r\nL 28.515625 63.921875 \r\nL 10.984375 60.40625 \r\nL 10.984375 69.390625 \r\nL 28.421875 72.90625 \r\nL 38.28125 72.90625 \r\nL 38.28125 8.296875 \r\nL 54.390625 8.296875 \r\nL 54.390625 0 \r\nL 12.40625 0 \r\nz\r\n\" id=\"DejaVuSans-49\"/>\r\n       </defs>\r\n       <use xlink:href=\"#DejaVuSans-8722\"/>\r\n       <use x=\"83.789062\" xlink:href=\"#DejaVuSans-49\"/>\r\n      </g>\r\n     </g>\r\n    </g>\r\n    <g id=\"xtick_3\">\r\n     <g id=\"line2d_3\">\r\n      <g>\r\n       <use style=\"stroke:#000000;stroke-width:0.8;\" x=\"213.934255\" xlink:href=\"#mcaafef1715\" y=\"224.64\"/>\r\n      </g>\r\n     </g>\r\n     <g id=\"text_3\">\r\n      <!-- 0 -->\r\n      <g transform=\"translate(210.753005 239.238438)scale(0.1 -0.1)\">\r\n       <defs>\r\n        <path d=\"M 31.78125 66.40625 \r\nQ 24.171875 66.40625 20.328125 58.90625 \r\nQ 16.5 51.421875 16.5 36.375 \r\nQ 16.5 21.390625 20.328125 13.890625 \r\nQ 24.171875 6.390625 31.78125 6.390625 \r\nQ 39.453125 6.390625 43.28125 13.890625 \r\nQ 47.125 21.390625 47.125 36.375 \r\nQ 47.125 51.421875 43.28125 58.90625 \r\nQ 39.453125 66.40625 31.78125 66.40625 \r\nz\r\nM 31.78125 74.21875 \r\nQ 44.046875 74.21875 50.515625 64.515625 \r\nQ 56.984375 54.828125 56.984375 36.375 \r\nQ 56.984375 17.96875 50.515625 8.265625 \r\nQ 44.046875 -1.421875 31.78125 -1.421875 \r\nQ 19.53125 -1.421875 13.0625 8.265625 \r\nQ 6.59375 17.96875 6.59375 36.375 \r\nQ 6.59375 54.828125 13.0625 64.515625 \r\nQ 19.53125 74.21875 31.78125 74.21875 \r\nz\r\n\" id=\"DejaVuSans-48\"/>\r\n       </defs>\r\n       <use xlink:href=\"#DejaVuSans-48\"/>\r\n      </g>\r\n     </g>\r\n    </g>\r\n    <g id=\"xtick_4\">\r\n     <g id=\"line2d_4\">\r\n      <g>\r\n       <use style=\"stroke:#000000;stroke-width:0.8;\" x=\"280.916809\" xlink:href=\"#mcaafef1715\" y=\"224.64\"/>\r\n      </g>\r\n     </g>\r\n     <g id=\"text_4\">\r\n      <!-- 1 -->\r\n      <g transform=\"translate(277.735559 239.238438)scale(0.1 -0.1)\">\r\n       <use xlink:href=\"#DejaVuSans-49\"/>\r\n      </g>\r\n     </g>\r\n    </g>\r\n    <g id=\"xtick_5\">\r\n     <g id=\"line2d_5\">\r\n      <g>\r\n       <use style=\"stroke:#000000;stroke-width:0.8;\" x=\"347.899363\" xlink:href=\"#mcaafef1715\" y=\"224.64\"/>\r\n      </g>\r\n     </g>\r\n     <g id=\"text_5\">\r\n      <!-- 2 -->\r\n      <g transform=\"translate(344.718113 239.238438)scale(0.1 -0.1)\">\r\n       <use xlink:href=\"#DejaVuSans-50\"/>\r\n      </g>\r\n     </g>\r\n    </g>\r\n   </g>\r\n   <g id=\"matplotlib.axis_2\">\r\n    <g id=\"ytick_1\">\r\n     <g id=\"line2d_6\">\r\n      <defs>\r\n       <path d=\"M 0 0 \r\nL -3.5 0 \r\n\" id=\"me1a1ce606b\" style=\"stroke:#000000;stroke-width:0.8;\"/>\r\n      </defs>\r\n      <g>\r\n       <use style=\"stroke:#000000;stroke-width:0.8;\" x=\"41.667188\" xlink:href=\"#me1a1ce606b\" y=\"200.266659\"/>\r\n      </g>\r\n     </g>\r\n     <g id=\"text_6\">\r\n      <!-- −100 -->\r\n      <g transform=\"translate(7.2 204.065878)scale(0.1 -0.1)\">\r\n       <use xlink:href=\"#DejaVuSans-8722\"/>\r\n       <use x=\"83.789062\" xlink:href=\"#DejaVuSans-49\"/>\r\n       <use x=\"147.412109\" xlink:href=\"#DejaVuSans-48\"/>\r\n       <use x=\"211.035156\" xlink:href=\"#DejaVuSans-48\"/>\r\n      </g>\r\n     </g>\r\n    </g>\r\n    <g id=\"ytick_2\">\r\n     <g id=\"line2d_7\">\r\n      <g>\r\n       <use style=\"stroke:#000000;stroke-width:0.8;\" x=\"41.667188\" xlink:href=\"#me1a1ce606b\" y=\"156.773124\"/>\r\n      </g>\r\n     </g>\r\n     <g id=\"text_7\">\r\n      <!-- −50 -->\r\n      <g transform=\"translate(13.5625 160.572343)scale(0.1 -0.1)\">\r\n       <defs>\r\n        <path d=\"M 10.796875 72.90625 \r\nL 49.515625 72.90625 \r\nL 49.515625 64.59375 \r\nL 19.828125 64.59375 \r\nL 19.828125 46.734375 \r\nQ 21.96875 47.46875 24.109375 47.828125 \r\nQ 26.265625 48.1875 28.421875 48.1875 \r\nQ 40.625 48.1875 47.75 41.5 \r\nQ 54.890625 34.8125 54.890625 23.390625 \r\nQ 54.890625 11.625 47.5625 5.09375 \r\nQ 40.234375 -1.421875 26.90625 -1.421875 \r\nQ 22.3125 -1.421875 17.546875 -0.640625 \r\nQ 12.796875 0.140625 7.71875 1.703125 \r\nL 7.71875 11.625 \r\nQ 12.109375 9.234375 16.796875 8.0625 \r\nQ 21.484375 6.890625 26.703125 6.890625 \r\nQ 35.15625 6.890625 40.078125 11.328125 \r\nQ 45.015625 15.765625 45.015625 23.390625 \r\nQ 45.015625 31 40.078125 35.4375 \r\nQ 35.15625 39.890625 26.703125 39.890625 \r\nQ 22.75 39.890625 18.8125 39.015625 \r\nQ 14.890625 38.140625 10.796875 36.28125 \r\nz\r\n\" id=\"DejaVuSans-53\"/>\r\n       </defs>\r\n       <use xlink:href=\"#DejaVuSans-8722\"/>\r\n       <use x=\"83.789062\" xlink:href=\"#DejaVuSans-53\"/>\r\n       <use x=\"147.412109\" xlink:href=\"#DejaVuSans-48\"/>\r\n      </g>\r\n     </g>\r\n    </g>\r\n    <g id=\"ytick_3\">\r\n     <g id=\"line2d_8\">\r\n      <g>\r\n       <use style=\"stroke:#000000;stroke-width:0.8;\" x=\"41.667188\" xlink:href=\"#me1a1ce606b\" y=\"113.279589\"/>\r\n      </g>\r\n     </g>\r\n     <g id=\"text_8\">\r\n      <!-- 0 -->\r\n      <g transform=\"translate(28.304688 117.078807)scale(0.1 -0.1)\">\r\n       <use xlink:href=\"#DejaVuSans-48\"/>\r\n      </g>\r\n     </g>\r\n    </g>\r\n    <g id=\"ytick_4\">\r\n     <g id=\"line2d_9\">\r\n      <g>\r\n       <use style=\"stroke:#000000;stroke-width:0.8;\" x=\"41.667188\" xlink:href=\"#me1a1ce606b\" y=\"69.786053\"/>\r\n      </g>\r\n     </g>\r\n     <g id=\"text_9\">\r\n      <!-- 50 -->\r\n      <g transform=\"translate(21.942188 73.585272)scale(0.1 -0.1)\">\r\n       <use xlink:href=\"#DejaVuSans-53\"/>\r\n       <use x=\"63.623047\" xlink:href=\"#DejaVuSans-48\"/>\r\n      </g>\r\n     </g>\r\n    </g>\r\n    <g id=\"ytick_5\">\r\n     <g id=\"line2d_10\">\r\n      <g>\r\n       <use style=\"stroke:#000000;stroke-width:0.8;\" x=\"41.667188\" xlink:href=\"#me1a1ce606b\" y=\"26.292518\"/>\r\n      </g>\r\n     </g>\r\n     <g id=\"text_10\">\r\n      <!-- 100 -->\r\n      <g transform=\"translate(15.579688 30.091737)scale(0.1 -0.1)\">\r\n       <use xlink:href=\"#DejaVuSans-49\"/>\r\n       <use x=\"63.623047\" xlink:href=\"#DejaVuSans-48\"/>\r\n       <use x=\"127.246094\" xlink:href=\"#DejaVuSans-48\"/>\r\n      </g>\r\n     </g>\r\n    </g>\r\n   </g>\r\n   <g id=\"line2d_11\">\r\n    <defs>\r\n     <path d=\"M 0 3 \r\nC 0.795609 3 1.55874 2.683901 2.12132 2.12132 \r\nC 2.683901 1.55874 3 0.795609 3 0 \r\nC 3 -0.795609 2.683901 -1.55874 2.12132 -2.12132 \r\nC 1.55874 -2.683901 0.795609 -3 0 -3 \r\nC -0.795609 -3 -1.55874 -2.683901 -2.12132 -2.12132 \r\nC -2.683901 -1.55874 -3 -0.795609 -3 0 \r\nC -3 0.795609 -2.683901 1.55874 -2.12132 2.12132 \r\nC -1.55874 2.683901 -0.795609 3 0 3 \r\nz\r\n\" id=\"mca8983d0e7\" style=\"stroke:#ff0000;\"/>\r\n    </defs>\r\n    <g clip-path=\"url(#p4ebea78d71)\">\r\n     <use style=\"fill:#ff0000;stroke:#ff0000;\" x=\"95.2286\" xlink:href=\"#mca8983d0e7\" y=\"188.177417\"/>\r\n     <use style=\"fill:#ff0000;stroke:#ff0000;\" x=\"246.493905\" xlink:href=\"#mca8983d0e7\" y=\"90.850573\"/>\r\n     <use style=\"fill:#ff0000;stroke:#ff0000;\" x=\"252.58154\" xlink:href=\"#mca8983d0e7\" y=\"93.79597\"/>\r\n     <use style=\"fill:#ff0000;stroke:#ff0000;\" x=\"149.516491\" xlink:href=\"#mca8983d0e7\" y=\"156.76136\"/>\r\n     <use style=\"fill:#ff0000;stroke:#ff0000;\" x=\"357.658165\" xlink:href=\"#mca8983d0e7\" y=\"19.01579\"/>\r\n     <use style=\"fill:#ff0000;stroke:#ff0000;\" x=\"238.275652\" xlink:href=\"#mca8983d0e7\" y=\"100.116349\"/>\r\n     <use style=\"fill:#ff0000;stroke:#ff0000;\" x=\"295.165979\" xlink:href=\"#mca8983d0e7\" y=\"63.558586\"/>\r\n     <use style=\"fill:#ff0000;stroke:#ff0000;\" x=\"233.675042\" xlink:href=\"#mca8983d0e7\" y=\"95.810109\"/>\r\n     <use style=\"fill:#ff0000;stroke:#ff0000;\" x=\"243.333794\" xlink:href=\"#mca8983d0e7\" y=\"93.791314\"/>\r\n     <use style=\"fill:#ff0000;stroke:#ff0000;\" x=\"148.907769\" xlink:href=\"#mca8983d0e7\" y=\"157.218597\"/>\r\n     <use style=\"fill:#ff0000;stroke:#ff0000;\" x=\"334.716459\" xlink:href=\"#mca8983d0e7\" y=\"28.564027\"/>\r\n     <use style=\"fill:#ff0000;stroke:#ff0000;\" x=\"361.249006\" xlink:href=\"#mca8983d0e7\" y=\"17.083636\"/>\r\n     <use style=\"fill:#ff0000;stroke:#ff0000;\" x=\"354.735679\" xlink:href=\"#mca8983d0e7\" y=\"17.507814\"/>\r\n     <use style=\"fill:#ff0000;stroke:#ff0000;\" x=\"132.287689\" xlink:href=\"#mca8983d0e7\" y=\"163.371605\"/>\r\n     <use style=\"fill:#ff0000;stroke:#ff0000;\" x=\"317.288957\" xlink:href=\"#mca8983d0e7\" y=\"51.236726\"/>\r\n     <use style=\"fill:#ff0000;stroke:#ff0000;\" x=\"235.400342\" xlink:href=\"#mca8983d0e7\" y=\"105.46696\"/>\r\n     <use style=\"fill:#ff0000;stroke:#ff0000;\" x=\"249.28226\" xlink:href=\"#mca8983d0e7\" y=\"91.909806\"/>\r\n     <use style=\"fill:#ff0000;stroke:#ff0000;\" x=\"125.50618\" xlink:href=\"#mca8983d0e7\" y=\"172.693151\"/>\r\n     <use style=\"fill:#ff0000;stroke:#ff0000;\" x=\"208.843675\" xlink:href=\"#mca8983d0e7\" y=\"118.579371\"/>\r\n     <use style=\"fill:#ff0000;stroke:#ff0000;\" x=\"262.382036\" xlink:href=\"#mca8983d0e7\" y=\"87.297273\"/>\r\n     <use style=\"fill:#ff0000;stroke:#ff0000;\" x=\"273.830573\" xlink:href=\"#mca8983d0e7\" y=\"71.977944\"/>\r\n     <use style=\"fill:#ff0000;stroke:#ff0000;\" x=\"88.970765\" xlink:href=\"#mca8983d0e7\" y=\"184.788579\"/>\r\n     <use style=\"fill:#ff0000;stroke:#ff0000;\" x=\"178.046398\" xlink:href=\"#mca8983d0e7\" y=\"134.242656\"/>\r\n     <use style=\"fill:#ff0000;stroke:#ff0000;\" x=\"198.091174\" xlink:href=\"#mca8983d0e7\" y=\"125.333829\"/>\r\n     <use style=\"fill:#ff0000;stroke:#ff0000;\" x=\"234.211196\" xlink:href=\"#mca8983d0e7\" y=\"102.2103\"/>\r\n     <use style=\"fill:#ff0000;stroke:#ff0000;\" x=\"288.486793\" xlink:href=\"#mca8983d0e7\" y=\"65.005041\"/>\r\n     <use style=\"fill:#ff0000;stroke:#ff0000;\" x=\"197.131368\" xlink:href=\"#mca8983d0e7\" y=\"126.910742\"/>\r\n     <use style=\"fill:#ff0000;stroke:#ff0000;\" x=\"234.303702\" xlink:href=\"#mca8983d0e7\" y=\"97.68686\"/>\r\n     <use style=\"fill:#ff0000;stroke:#ff0000;\" x=\"295.451675\" xlink:href=\"#mca8983d0e7\" y=\"61.726406\"/>\r\n     <use style=\"fill:#ff0000;stroke:#ff0000;\" x=\"134.422366\" xlink:href=\"#mca8983d0e7\" y=\"173.060011\"/>\r\n     <use style=\"fill:#ff0000;stroke:#ff0000;\" x=\"208.481347\" xlink:href=\"#mca8983d0e7\" y=\"113.12986\"/>\r\n     <use style=\"fill:#ff0000;stroke:#ff0000;\" x=\"203.480771\" xlink:href=\"#mca8983d0e7\" y=\"116.727641\"/>\r\n     <use style=\"fill:#ff0000;stroke:#ff0000;\" x=\"286.281141\" xlink:href=\"#mca8983d0e7\" y=\"71.705049\"/>\r\n     <use style=\"fill:#ff0000;stroke:#ff0000;\" x=\"299.788933\" xlink:href=\"#mca8983d0e7\" y=\"59.019196\"/>\r\n     <use style=\"fill:#ff0000;stroke:#ff0000;\" x=\"190.336837\" xlink:href=\"#mca8983d0e7\" y=\"135.129572\"/>\r\n     <use style=\"fill:#ff0000;stroke:#ff0000;\" x=\"156.666434\" xlink:href=\"#mca8983d0e7\" y=\"145.752042\"/>\r\n     <use style=\"fill:#ff0000;stroke:#ff0000;\" x=\"221.154986\" xlink:href=\"#mca8983d0e7\" y=\"106.143035\"/>\r\n     <use style=\"fill:#ff0000;stroke:#ff0000;\" x=\"185.150337\" xlink:href=\"#mca8983d0e7\" y=\"125.848153\"/>\r\n     <use style=\"fill:#ff0000;stroke:#ff0000;\" x=\"254.394922\" xlink:href=\"#mca8983d0e7\" y=\"91.110837\"/>\r\n     <use style=\"fill:#ff0000;stroke:#ff0000;\" x=\"75.963998\" xlink:href=\"#mca8983d0e7\" y=\"198.274775\"/>\r\n     <use style=\"fill:#ff0000;stroke:#ff0000;\" x=\"287.623395\" xlink:href=\"#mca8983d0e7\" y=\"68.708797\"/>\r\n     <use style=\"fill:#ff0000;stroke:#ff0000;\" x=\"194.844104\" xlink:href=\"#mca8983d0e7\" y=\"126.723291\"/>\r\n     <use style=\"fill:#ff0000;stroke:#ff0000;\" x=\"261.622863\" xlink:href=\"#mca8983d0e7\" y=\"81.733322\"/>\r\n     <use style=\"fill:#ff0000;stroke:#ff0000;\" x=\"289.580385\" xlink:href=\"#mca8983d0e7\" y=\"66.637519\"/>\r\n     <use style=\"fill:#ff0000;stroke:#ff0000;\" x=\"241.951754\" xlink:href=\"#mca8983d0e7\" y=\"95.152388\"/>\r\n     <use style=\"fill:#ff0000;stroke:#ff0000;\" x=\"278.558902\" xlink:href=\"#mca8983d0e7\" y=\"67.575023\"/>\r\n     <use style=\"fill:#ff0000;stroke:#ff0000;\" x=\"259.940524\" xlink:href=\"#mca8983d0e7\" y=\"81.53834\"/>\r\n     <use style=\"fill:#ff0000;stroke:#ff0000;\" x=\"226.860329\" xlink:href=\"#mca8983d0e7\" y=\"110.818147\"/>\r\n     <use style=\"fill:#ff0000;stroke:#ff0000;\" x=\"221.646673\" xlink:href=\"#mca8983d0e7\" y=\"115.601664\"/>\r\n     <use style=\"fill:#ff0000;stroke:#ff0000;\" x=\"224.139705\" xlink:href=\"#mca8983d0e7\" y=\"105.026433\"/>\r\n     <use style=\"fill:#ff0000;stroke:#ff0000;\" x=\"82.856307\" xlink:href=\"#mca8983d0e7\" y=\"200.42311\"/>\r\n     <use style=\"fill:#ff0000;stroke:#ff0000;\" x=\"253.677986\" xlink:href=\"#mca8983d0e7\" y=\"87.56692\"/>\r\n     <use style=\"fill:#ff0000;stroke:#ff0000;\" x=\"71.145619\" xlink:href=\"#mca8983d0e7\" y=\"203.415165\"/>\r\n     <use style=\"fill:#ff0000;stroke:#ff0000;\" x=\"239.48704\" xlink:href=\"#mca8983d0e7\" y=\"94.756436\"/>\r\n     <use style=\"fill:#ff0000;stroke:#ff0000;\" x=\"197.304698\" xlink:href=\"#mca8983d0e7\" y=\"120.670374\"/>\r\n     <use style=\"fill:#ff0000;stroke:#ff0000;\" x=\"305.710509\" xlink:href=\"#mca8983d0e7\" y=\"56.110866\"/>\r\n     <use style=\"fill:#ff0000;stroke:#ff0000;\" x=\"240.817363\" xlink:href=\"#mca8983d0e7\" y=\"96.204863\"/>\r\n     <use style=\"fill:#ff0000;stroke:#ff0000;\" x=\"175.424283\" xlink:href=\"#mca8983d0e7\" y=\"137.19636\"/>\r\n     <use style=\"fill:#ff0000;stroke:#ff0000;\" x=\"204.316927\" xlink:href=\"#mca8983d0e7\" y=\"124.912671\"/>\r\n     <use style=\"fill:#ff0000;stroke:#ff0000;\" x=\"179.888221\" xlink:href=\"#mca8983d0e7\" y=\"137.238035\"/>\r\n     <use style=\"fill:#ff0000;stroke:#ff0000;\" x=\"227.550713\" xlink:href=\"#mca8983d0e7\" y=\"100.943054\"/>\r\n     <use style=\"fill:#ff0000;stroke:#ff0000;\" x=\"227.805706\" xlink:href=\"#mca8983d0e7\" y=\"100.512502\"/>\r\n     <use style=\"fill:#ff0000;stroke:#ff0000;\" x=\"217.447549\" xlink:href=\"#mca8983d0e7\" y=\"107.94997\"/>\r\n     <use style=\"fill:#ff0000;stroke:#ff0000;\" x=\"96.771589\" xlink:href=\"#mca8983d0e7\" y=\"187.688574\"/>\r\n     <use style=\"fill:#ff0000;stroke:#ff0000;\" x=\"132.898207\" xlink:href=\"#mca8983d0e7\" y=\"159.592127\"/>\r\n     <use style=\"fill:#ff0000;stroke:#ff0000;\" x=\"183.484687\" xlink:href=\"#mca8983d0e7\" y=\"136.02439\"/>\r\n     <use style=\"fill:#ff0000;stroke:#ff0000;\" x=\"220.284533\" xlink:href=\"#mca8983d0e7\" y=\"113.000661\"/>\r\n     <use style=\"fill:#ff0000;stroke:#ff0000;\" x=\"295.166674\" xlink:href=\"#mca8983d0e7\" y=\"61.427151\"/>\r\n     <use style=\"fill:#ff0000;stroke:#ff0000;\" x=\"68.813974\" xlink:href=\"#mca8983d0e7\" y=\"205.741885\"/>\r\n     <use style=\"fill:#ff0000;stroke:#ff0000;\" x=\"230.398434\" xlink:href=\"#mca8983d0e7\" y=\"99.068515\"/>\r\n     <use style=\"fill:#ff0000;stroke:#ff0000;\" x=\"266.723395\" xlink:href=\"#mca8983d0e7\" y=\"82.008313\"/>\r\n     <use style=\"fill:#ff0000;stroke:#ff0000;\" x=\"215.521648\" xlink:href=\"#mca8983d0e7\" y=\"113.738626\"/>\r\n     <use style=\"fill:#ff0000;stroke:#ff0000;\" x=\"228.438289\" xlink:href=\"#mca8983d0e7\" y=\"106.256212\"/>\r\n     <use style=\"fill:#ff0000;stroke:#ff0000;\" x=\"56.885369\" xlink:href=\"#mca8983d0e7\" y=\"214.756364\"/>\r\n     <use style=\"fill:#ff0000;stroke:#ff0000;\" x=\"175.881317\" xlink:href=\"#mca8983d0e7\" y=\"133.542704\"/>\r\n     <use style=\"fill:#ff0000;stroke:#ff0000;\" x=\"265.285283\" xlink:href=\"#mca8983d0e7\" y=\"82.178304\"/>\r\n     <use style=\"fill:#ff0000;stroke:#ff0000;\" x=\"176.963155\" xlink:href=\"#mca8983d0e7\" y=\"141.468973\"/>\r\n     <use style=\"fill:#ff0000;stroke:#ff0000;\" x=\"127.21301\" xlink:href=\"#mca8983d0e7\" y=\"174.780109\"/>\r\n     <use style=\"fill:#ff0000;stroke:#ff0000;\" x=\"224.186887\" xlink:href=\"#mca8983d0e7\" y=\"102.433569\"/>\r\n     <use style=\"fill:#ff0000;stroke:#ff0000;\" x=\"195.807806\" xlink:href=\"#mca8983d0e7\" y=\"121.161893\"/>\r\n     <use style=\"fill:#ff0000;stroke:#ff0000;\" x=\"190.616273\" xlink:href=\"#mca8983d0e7\" y=\"127.838296\"/>\r\n     <use style=\"fill:#ff0000;stroke:#ff0000;\" x=\"240.621437\" xlink:href=\"#mca8983d0e7\" y=\"92.777741\"/>\r\n     <use style=\"fill:#ff0000;stroke:#ff0000;\" x=\"225.393018\" xlink:href=\"#mca8983d0e7\" y=\"102.247931\"/>\r\n     <use style=\"fill:#ff0000;stroke:#ff0000;\" x=\"229.65014\" xlink:href=\"#mca8983d0e7\" y=\"102.993192\"/>\r\n     <use style=\"fill:#ff0000;stroke:#ff0000;\" x=\"267.811951\" xlink:href=\"#mca8983d0e7\" y=\"78.568278\"/>\r\n     <use style=\"fill:#ff0000;stroke:#ff0000;\" x=\"186.543949\" xlink:href=\"#mca8983d0e7\" y=\"144.817492\"/>\r\n     <use style=\"fill:#ff0000;stroke:#ff0000;\" x=\"249.498271\" xlink:href=\"#mca8983d0e7\" y=\"88.07865\"/>\r\n     <use style=\"fill:#ff0000;stroke:#ff0000;\" x=\"271.645153\" xlink:href=\"#mca8983d0e7\" y=\"77.730178\"/>\r\n     <use style=\"fill:#ff0000;stroke:#ff0000;\" x=\"282.303935\" xlink:href=\"#mca8983d0e7\" y=\"76.882867\"/>\r\n     <use style=\"fill:#ff0000;stroke:#ff0000;\" x=\"243.959981\" xlink:href=\"#mca8983d0e7\" y=\"94.095485\"/>\r\n     <use style=\"fill:#ff0000;stroke:#ff0000;\" x=\"231.775385\" xlink:href=\"#mca8983d0e7\" y=\"99.9528\"/>\r\n     <use style=\"fill:#ff0000;stroke:#ff0000;\" x=\"98.790899\" xlink:href=\"#mca8983d0e7\" y=\"189.4052\"/>\r\n     <use style=\"fill:#ff0000;stroke:#ff0000;\" x=\"179.717242\" xlink:href=\"#mca8983d0e7\" y=\"138.785377\"/>\r\n     <use style=\"fill:#ff0000;stroke:#ff0000;\" x=\"221.319129\" xlink:href=\"#mca8983d0e7\" y=\"114.699552\"/>\r\n     <use style=\"fill:#ff0000;stroke:#ff0000;\" x=\"168.586495\" xlink:href=\"#mca8983d0e7\" y=\"132.432601\"/>\r\n     <use style=\"fill:#ff0000;stroke:#ff0000;\" x=\"206.028746\" xlink:href=\"#mca8983d0e7\" y=\"115.411424\"/>\r\n     <use style=\"fill:#ff0000;stroke:#ff0000;\" x=\"286.643428\" xlink:href=\"#mca8983d0e7\" y=\"64.375068\"/>\r\n     <use style=\"fill:#ff0000;stroke:#ff0000;\" x=\"181.853675\" xlink:href=\"#mca8983d0e7\" y=\"140.248072\"/>\r\n     <use style=\"fill:#ff0000;stroke:#ff0000;\" x=\"275.650486\" xlink:href=\"#mca8983d0e7\" y=\"66.201308\"/>\r\n     <use style=\"fill:#ff0000;stroke:#ff0000;\" x=\"200.781762\" xlink:href=\"#mca8983d0e7\" y=\"124.049184\"/>\r\n    </g>\r\n   </g>\r\n   <g id=\"line2d_12\">\r\n    <path clip-path=\"url(#p4ebea78d71)\" d=\"M 41.667187 206.737058 \r\nL 376.467188 23.919713 \r\n\" style=\"fill:none;stroke:#1f77b4;stroke-linecap:square;stroke-width:1.5;\"/>\r\n   </g>\r\n   <g id=\"patch_3\">\r\n    <path d=\"M 41.667188 224.64 \r\nL 41.667188 7.2 \r\n\" style=\"fill:none;stroke:#000000;stroke-linecap:square;stroke-linejoin:miter;stroke-width:0.8;\"/>\r\n   </g>\r\n   <g id=\"patch_4\">\r\n    <path d=\"M 376.467188 224.64 \r\nL 376.467188 7.2 \r\n\" style=\"fill:none;stroke:#000000;stroke-linecap:square;stroke-linejoin:miter;stroke-width:0.8;\"/>\r\n   </g>\r\n   <g id=\"patch_5\">\r\n    <path d=\"M 41.667187 224.64 \r\nL 376.467188 224.64 \r\n\" style=\"fill:none;stroke:#000000;stroke-linecap:square;stroke-linejoin:miter;stroke-width:0.8;\"/>\r\n   </g>\r\n   <g id=\"patch_6\">\r\n    <path d=\"M 41.667187 7.2 \r\nL 376.467188 7.2 \r\n\" style=\"fill:none;stroke:#000000;stroke-linecap:square;stroke-linejoin:miter;stroke-width:0.8;\"/>\r\n   </g>\r\n  </g>\r\n </g>\r\n <defs>\r\n  <clipPath id=\"p4ebea78d71\">\r\n   <rect height=\"217.44\" width=\"334.8\" x=\"41.667188\" y=\"7.2\"/>\r\n  </clipPath>\r\n </defs>\r\n</svg>\r\n",
            "image/png": "[encoded data removed]"
          },
          "metadata": {
            "needs_background": "light"
          }
        }
      ]
    },
    {
      "source": [
        "Tính MSE"
      ],
      "cell_type": "markdown",
      "metadata": {}
    },
    {
      "cell_type": "code",
      "execution_count": 9,
      "metadata": {},
      "outputs": [
        {
          "output_type": "stream",
          "name": "stdout",
          "text": [
            "w0 = 0.69994573837501\nw1 = 42.04738079998549\nMSE = 19.15957662265904\n"
          ]
        }
      ],
      "source": [
        "w_0 = w[0]\n",
        "print('w0 = {0}'.format(w_0))\n",
        "w_1 = w[1]\n",
        "print('w1 = {0}'.format(w_1))\n",
        "predicted_y = y * w_0 + w_1\n",
        "\n",
        "mse_sum = (np.square(y - predicted_y)).mean(axis=0)\n",
        "mse = mse_sum / len(y)\n",
        "print('MSE = {0}'.format(mse))"
      ]
    },
    {
      "cell_type": "markdown",
      "metadata": {
        "id": "lTO6ilruFpzH"
      },
      "source": [
        "- **TODO**: Điểm mạnh và điểm yếu của `Hồi quy tuyến tính`:\n",
        "\n",
        "Điểm mạnh:\n",
        " - Mô hình đơn giản: Mô hình hồi quy tuyến tính là phương trình đơn giản nhất sử dụng để biểu diễn mối quan hệ giữa nhiều biến dự báo và biến dự đoán.\n",
        " - Hiệu quả về mặt tính toán: Tốc độ lập mô hình của hồi quy tuyến tính nhanh vì nó không yêu cầu tính toán phức tạp và chạy dự đoán nhanh khi lượng dữ liệu lớn.\n",
        " - Khả năng diễn giải của đầu ra: Diễn giải được ảnh hưởng tương đối của một hoặc nhiều biến dự báo đến giá trị dự đoán khi các yếu tố dự báo độc lập với nhau. Có thể thể hiện sự thay đổi nào trong biến dự báo gây ra thay đổi nào trong biến dự đoán hoặc biến mục tiêu\n",
        "\n",
        "Điểm yếu:\n",
        " - Quá đơn giản: Mô hình hồi quy tuyến tính quá đơn giản để nắm bắt được độ phức tạp của thế giới thực.\n",
        " - Giả định tuyến tính: Hồi quy tuyến tính đưa ra giả định mạnh mẽ rằng có các biến Dự đoán (độc lập) và Dự đoán (phụ thuộc) có quan hệ tuyến tính với nhau, điều này không hợp lý, vì trong thế giới thực, có rất nhiều mối quan hệ không có sự phự thuộc tuyến tính (phụ thuộc phi tuyến).\n",
        " - Bị ảnh hưởng nghiêm trọng bởi các điểm ngoại lệ: Các điểm ngoại lệ có thể có ảnh hưởng lớn đến kết quả đầu ra.\n",
        " - Tính độc lập của các biến: Giả định rằng các biến dự báo không tương quan với nhau, điều này hiếm (hoặc không có) trong thực tế.\n",
        " - Hồi quy tuyến tính xem xét mối quan hệ giữa giá trị trung bình của biến dự đoán/ phụ thuộc và các biến dự đoán/ độc lập và giả định phương sai không đổi xung quanh giá trị trung bình.\n"
      ]
    },
    {
      "cell_type": "code",
      "metadata": {
        "id": "BehaTobaFpzI"
      },
      "source": [],
      "execution_count": null,
      "outputs": []
    }
  ]
}