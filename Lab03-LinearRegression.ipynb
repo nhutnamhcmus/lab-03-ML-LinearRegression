{
 "cells": [
  {
   "cell_type": "markdown",
   "metadata": {
    "colab_type": "text",
    "id": "dw29NSYmFpyS"
   },
   "source": [
    "# Lab03: Hồi quy tuyến tính.\n",
    "\n",
    "- MSSV: 18120061\n",
    "- Họ và tên: Lê Nhựt Nam"
   ]
  },
  {
   "cell_type": "markdown",
   "metadata": {
    "colab_type": "text",
    "id": "oHR1Zj5GFpyT"
   },
   "source": [
    "## Yêu cầu bài tập\n",
    "\n",
    "**Cách làm bài**\n",
    "\n",
    "\n",
    "Bạn sẽ làm trực tiếp trên file notebook này; trong file, từ `TODO` để cho biết những phần mà bạn cần phải làm.\n",
    "\n",
    "Bạn có thể thảo luận ý tưởng cũng như tham khảo các tài liệu, nhưng *code và bài làm phải là của bạn*. \n",
    "\n",
    "Nếu vi phạm thì sẽ bị 0 điểm cho bài tập này.\n",
    "\n",
    "**Cách nộp bài**\n",
    "\n",
    "Trước khi nộp bài, rerun lại notebook (`Kernel` -> `Restart & Run All`).\n",
    "\n",
    "Sau đó, tạo thư mục có tên `MSSV` của bạn (vd, nếu bạn có MSSV là 1234567 thì bạn đặt tên thư mục là `1234567`) Chép file `Lab03-Clustering.ipynb` vào, rồi nén thư mục `MSSV` này lại và nộp ở link trên moodle.\n",
    "\n",
    "**Nội dung bài tập**\n",
    "\n",
    "Bài tập 3 là bài tập cá nhân. Trong bài này, bạn sẽ cài đặt thuật toán học máy `Hồi quy tuyến tính`. \n"
   ]
  },
  {
   "cell_type": "markdown",
   "metadata": {
    "colab_type": "text",
    "id": "REHkv-y8FpyU"
   },
   "source": [
    "### 1. Tập giả định"
   ]
  },
  {
   "cell_type": "markdown",
   "metadata": {
    "colab_type": "text",
    "id": "e75OMY0KFpyU"
   },
   "source": [
    "- Hồi quy tuyến tính là một mô hình **tuyến tính**, mô hình này giả định tồn tại một mối liên hệ tuyến tính giữa các biến đầu vào (x) và một biến đầu ra (y). Cụ thể hơn, y có thể được tính bằng một tổ hợp tuyến tính của các biến đầu vào (x).\n",
    "- Một cách tổng quát, một mô hình tuyến tính dự đoán kết quả bằng cách tính tổng trọng số của các đặc trưng đầu vào (hay các biến độc lập). \n",
    "$$ \\hat{y}=w_0+w_1x_1+w_2x_2+...+w_nx_n $$\n",
    "    - $\\hat{y}$ là giá trị dự đoán.\n",
    "    - $n$ là số lượng đặc trưng.\n",
    "    - $x_i$ là giá trị đặc trưng thứ $i$.\n",
    "    - $w_j$ là tham số thứ $j$ của mô hình.\n",
    "$$\\hat{y}=h_{\\mathbf{w}}\\left(\\mathbf{x}\\right)=\\mathbf{w}^{T}\\cdot\\mathbf{x}$$\n",
    "    - $\\mathbf{w}$ **vector trọng số** của mô hình (bao gốm cả $w_0$ và các trọng số đặc trưng $w_1,w_2,...w_n$).\n",
    "    - $\\mathbf{w}^T$ là chuyển vị của $\\mathbf{w}$ (vector hàng thay vì vector cột).\n",
    "    - $\\mathbf{x}$ là **vector đầu vào** của các mẫu dữ liệu, *bao gồm* $x_0$ đến $x_n$, với $x_0$ *luôn có giá trị là* 1.\n",
    "    - $\\mathbf{w}^{T}\\cdot\\mathbf{x}$ là tích vô hướng của 2 vector $\\mathbf{w}^T$ và $\\mathbf{x}$.\n",
    "    - $h_{\\mathbf{w}}$ là hàm giả thiết, biểu diễn bằng các tham số $\\mathbf{w}$.\n"
   ]
  },
  {
   "cell_type": "markdown",
   "metadata": {
    "colab_type": "text",
    "id": "5l8F4lnjFpyV"
   },
   "source": [
    "### 2. Đánh giá hiệu suất và mục tiêu học"
   ]
  },
  {
   "cell_type": "markdown",
   "metadata": {
    "colab_type": "text",
    "id": "fdJNZ2q6FpyX"
   },
   "source": [
    "- Trước khi huấn luyện dữ liệu, ta cần phải đánh giá mô hình của chúng ta khớp với dữ liệu huấn luyện như thế nào. Cách đánh giá thường được sử dụng nhất là trung bình bình phương độ lỗi **MSE** (Mean Square Error) $\\Rightarrow$ ta cần phải tìm $\\mathbf{w}$ tối thiểu hóa MSE:\n",
    "$$\\mathbf{w}=\\arg\\min MSE_{\\mathcal{D}_{train}}$$\n",
    "\n",
    "\n",
    "- MSE trên tập huấn luyện $\\mathcal{D}_{train}$ ký hiệu $\\left(\\mathbf{X},\\mathbf{y}\\right)$ bao gồm m mẫu $\\left\\{\\left(\\mathbf{x}_1,y_1\\right),\\left(\\mathbf{x}_2,y_2\\right),...\\left(\\mathbf{x}_m,y_m\\right)\\right\\}$"
   ]
  },
  {
   "cell_type": "markdown",
   "metadata": {
    "colab_type": "text",
    "id": "GTOZj7HfFpyY"
   },
   "source": [
    "$$MSE\\left(X,h_{\\mathbf{w}}\\right)=\\dfrac{1}{m}\\sum_{i=1}^{m}\\left(\\mathbf{w}^T\\cdot\\mathbf{x}_i - y_i\\right )^2$$\n",
    "$$MSE\\left(X,h_{\\mathbf{w}}\\right)=\\dfrac{1}{m}\\Vert\\mathbf{X}\\mathbf{w}-\\mathbf{y}\\Vert^2$$"
   ]
  },
  {
   "cell_type": "markdown",
   "metadata": {
    "colab_type": "text",
    "id": "ORU-9tCxFpyZ"
   },
   "source": [
    "- Để tìm $\\mathbf{w}$ sao cho hàm lỗi MSE tối thiểu ta tìm điểm đạo hàm của MSE có giá trị 0. \n",
    "$$\\mathbf{\\hat{w}}=\\left(\\mathbf{X}^T \\cdot \\mathbf{X}\\right)^{\\dagger} \\cdot \\mathbf{X}^T \\cdot \\mathbf{y}$$\n",
    "  - $\\mathbf{\\hat{w}}$ là giá trị của $\\mathbf{w}$ để giảm thiểu độ lỗi. \n",
    "  - **Chú ý** $\\mathbf{X}^T \\cdot \\mathbf{X}$ không phải luôn **khả nghịch**. $\\left(\\mathbf{X}^T \\cdot \\mathbf{X}\\right)^{\\dagger}$ là nghịch đảo giả của $\\left(\\mathbf{X}^T \\cdot \\mathbf{X}\\right)$ - trường hợp nghịch đảo tổng quát kể cả khi ma trận không vuông cũng như không khả nghịch."
   ]
  },
  {
   "cell_type": "markdown",
   "metadata": {
    "colab_type": "text",
    "id": "6Tgy-tRYFpyZ"
   },
   "source": [
    "### 3. Cài đặt"
   ]
  },
  {
   "cell_type": "markdown",
   "metadata": {
    "colab_type": "text",
    "id": "qauCdk7LFpya"
   },
   "source": [
    "#### Import Library"
   ]
  },
  {
   "cell_type": "code",
   "execution_count": 1,
   "metadata": {
    "colab": {},
    "colab_type": "code",
    "id": "70Mis-p9Fpyd"
   },
   "outputs": [],
   "source": [
    "import numpy as np\n",
    "import matplotlib.pyplot as plt \n",
    "import sklearn.datasets as datasets\n",
    "%matplotlib inline"
   ]
  },
  {
   "cell_type": "markdown",
   "metadata": {
    "colab_type": "text",
    "id": "nRr06hARFpyk"
   },
   "source": [
    "#### Create data"
   ]
  },
  {
   "cell_type": "code",
   "execution_count": 2,
   "metadata": {
    "colab": {},
    "colab_type": "code",
    "id": "g0K3G_SOFpyk"
   },
   "outputs": [],
   "source": [
    "X,y=datasets.make_regression(n_samples=100,n_features=1, noise=5)"
   ]
  },
  {
   "cell_type": "markdown",
   "metadata": {
    "colab_type": "text",
    "id": "vBFWzeY3Fpyp"
   },
   "source": [
    "#### Load and visualize data"
   ]
  },
  {
   "cell_type": "code",
   "execution_count": 3,
   "metadata": {
    "colab": {},
    "colab_type": "code",
    "id": "4BpxLtG3Fpyq"
   },
   "outputs": [
    {
     "output_type": "display_data",
     "data": {
      "text/plain": "<Figure size 432x288 with 1 Axes>",
      "image/svg+xml": "<?xml version=\"1.0\" encoding=\"utf-8\" standalone=\"no\"?>\r\n<!DOCTYPE svg PUBLIC \"-//W3C//DTD SVG 1.1//EN\"\r\n  \"http://www.w3.org/Graphics/SVG/1.1/DTD/svg11.dtd\">\r\n<!-- Created with matplotlib (https://matplotlib.org/) -->\r\n<svg height=\"248.518125pt\" version=\"1.1\" viewBox=\"0 0 383.667187 248.518125\" width=\"383.667187pt\" xmlns=\"http://www.w3.org/2000/svg\" xmlns:xlink=\"http://www.w3.org/1999/xlink\">\r\n <metadata>\r\n  <rdf:RDF xmlns:cc=\"http://creativecommons.org/ns#\" xmlns:dc=\"http://purl.org/dc/elements/1.1/\" xmlns:rdf=\"http://www.w3.org/1999/02/22-rdf-syntax-ns#\">\r\n   <cc:Work>\r\n    <dc:type rdf:resource=\"http://purl.org/dc/dcmitype/StillImage\"/>\r\n    <dc:date>2020-12-07T22:58:54.984337</dc:date>\r\n    <dc:format>image/svg+xml</dc:format>\r\n    <dc:creator>\r\n     <cc:Agent>\r\n      <dc:title>Matplotlib v3.3.3, https://matplotlib.org/</dc:title>\r\n     </cc:Agent>\r\n    </dc:creator>\r\n   </cc:Work>\r\n  </rdf:RDF>\r\n </metadata>\r\n <defs>\r\n  <style type=\"text/css\">*{stroke-linecap:butt;stroke-linejoin:round;}</style>\r\n </defs>\r\n <g id=\"figure_1\">\r\n  <g id=\"patch_1\">\r\n   <path d=\"M 0 248.518125 \r\nL 383.667187 248.518125 \r\nL 383.667187 0 \r\nL 0 0 \r\nz\r\n\" style=\"fill:none;\"/>\r\n  </g>\r\n  <g id=\"axes_1\">\r\n   <g id=\"patch_2\">\r\n    <path d=\"M 41.667188 224.64 \r\nL 376.467188 224.64 \r\nL 376.467188 7.2 \r\nL 41.667188 7.2 \r\nz\r\n\" style=\"fill:#ffffff;\"/>\r\n   </g>\r\n   <g id=\"matplotlib.axis_1\">\r\n    <g id=\"xtick_1\">\r\n     <g id=\"line2d_1\">\r\n      <defs>\r\n       <path d=\"M 0 0 \r\nL 0 3.5 \r\n\" id=\"m5653e89803\" style=\"stroke:#000000;stroke-width:0.8;\"/>\r\n      </defs>\r\n      <g>\r\n       <use style=\"stroke:#000000;stroke-width:0.8;\" x=\"72.4691\" xlink:href=\"#m5653e89803\" y=\"224.64\"/>\r\n      </g>\r\n     </g>\r\n     <g id=\"text_1\">\r\n      <!-- −2 -->\r\n      <g transform=\"translate(65.098007 239.238437)scale(0.1 -0.1)\">\r\n       <defs>\r\n        <path d=\"M 10.59375 35.5 \r\nL 73.1875 35.5 \r\nL 73.1875 27.203125 \r\nL 10.59375 27.203125 \r\nz\r\n\" id=\"DejaVuSans-8722\"/>\r\n        <path d=\"M 19.1875 8.296875 \r\nL 53.609375 8.296875 \r\nL 53.609375 0 \r\nL 7.328125 0 \r\nL 7.328125 8.296875 \r\nQ 12.9375 14.109375 22.625 23.890625 \r\nQ 32.328125 33.6875 34.8125 36.53125 \r\nQ 39.546875 41.84375 41.421875 45.53125 \r\nQ 43.3125 49.21875 43.3125 52.78125 \r\nQ 43.3125 58.59375 39.234375 62.25 \r\nQ 35.15625 65.921875 28.609375 65.921875 \r\nQ 23.96875 65.921875 18.8125 64.3125 \r\nQ 13.671875 62.703125 7.8125 59.421875 \r\nL 7.8125 69.390625 \r\nQ 13.765625 71.78125 18.9375 73 \r\nQ 24.125 74.21875 28.421875 74.21875 \r\nQ 39.75 74.21875 46.484375 68.546875 \r\nQ 53.21875 62.890625 53.21875 53.421875 \r\nQ 53.21875 48.921875 51.53125 44.890625 \r\nQ 49.859375 40.875 45.40625 35.40625 \r\nQ 44.1875 33.984375 37.640625 27.21875 \r\nQ 31.109375 20.453125 19.1875 8.296875 \r\nz\r\n\" id=\"DejaVuSans-50\"/>\r\n       </defs>\r\n       <use xlink:href=\"#DejaVuSans-8722\"/>\r\n       <use x=\"83.789062\" xlink:href=\"#DejaVuSans-50\"/>\r\n      </g>\r\n     </g>\r\n    </g>\r\n    <g id=\"xtick_2\">\r\n     <g id=\"line2d_2\">\r\n      <g>\r\n       <use style=\"stroke:#000000;stroke-width:0.8;\" x=\"135.140569\" xlink:href=\"#m5653e89803\" y=\"224.64\"/>\r\n      </g>\r\n     </g>\r\n     <g id=\"text_2\">\r\n      <!-- −1 -->\r\n      <g transform=\"translate(127.769476 239.238437)scale(0.1 -0.1)\">\r\n       <defs>\r\n        <path d=\"M 12.40625 8.296875 \r\nL 28.515625 8.296875 \r\nL 28.515625 63.921875 \r\nL 10.984375 60.40625 \r\nL 10.984375 69.390625 \r\nL 28.421875 72.90625 \r\nL 38.28125 72.90625 \r\nL 38.28125 8.296875 \r\nL 54.390625 8.296875 \r\nL 54.390625 0 \r\nL 12.40625 0 \r\nz\r\n\" id=\"DejaVuSans-49\"/>\r\n       </defs>\r\n       <use xlink:href=\"#DejaVuSans-8722\"/>\r\n       <use x=\"83.789062\" xlink:href=\"#DejaVuSans-49\"/>\r\n      </g>\r\n     </g>\r\n    </g>\r\n    <g id=\"xtick_3\">\r\n     <g id=\"line2d_3\">\r\n      <g>\r\n       <use style=\"stroke:#000000;stroke-width:0.8;\" x=\"197.812038\" xlink:href=\"#m5653e89803\" y=\"224.64\"/>\r\n      </g>\r\n     </g>\r\n     <g id=\"text_3\">\r\n      <!-- 0 -->\r\n      <g transform=\"translate(194.630788 239.238437)scale(0.1 -0.1)\">\r\n       <defs>\r\n        <path d=\"M 31.78125 66.40625 \r\nQ 24.171875 66.40625 20.328125 58.90625 \r\nQ 16.5 51.421875 16.5 36.375 \r\nQ 16.5 21.390625 20.328125 13.890625 \r\nQ 24.171875 6.390625 31.78125 6.390625 \r\nQ 39.453125 6.390625 43.28125 13.890625 \r\nQ 47.125 21.390625 47.125 36.375 \r\nQ 47.125 51.421875 43.28125 58.90625 \r\nQ 39.453125 66.40625 31.78125 66.40625 \r\nz\r\nM 31.78125 74.21875 \r\nQ 44.046875 74.21875 50.515625 64.515625 \r\nQ 56.984375 54.828125 56.984375 36.375 \r\nQ 56.984375 17.96875 50.515625 8.265625 \r\nQ 44.046875 -1.421875 31.78125 -1.421875 \r\nQ 19.53125 -1.421875 13.0625 8.265625 \r\nQ 6.59375 17.96875 6.59375 36.375 \r\nQ 6.59375 54.828125 13.0625 64.515625 \r\nQ 19.53125 74.21875 31.78125 74.21875 \r\nz\r\n\" id=\"DejaVuSans-48\"/>\r\n       </defs>\r\n       <use xlink:href=\"#DejaVuSans-48\"/>\r\n      </g>\r\n     </g>\r\n    </g>\r\n    <g id=\"xtick_4\">\r\n     <g id=\"line2d_4\">\r\n      <g>\r\n       <use style=\"stroke:#000000;stroke-width:0.8;\" x=\"260.483508\" xlink:href=\"#m5653e89803\" y=\"224.64\"/>\r\n      </g>\r\n     </g>\r\n     <g id=\"text_4\">\r\n      <!-- 1 -->\r\n      <g transform=\"translate(257.302258 239.238437)scale(0.1 -0.1)\">\r\n       <use xlink:href=\"#DejaVuSans-49\"/>\r\n      </g>\r\n     </g>\r\n    </g>\r\n    <g id=\"xtick_5\">\r\n     <g id=\"line2d_5\">\r\n      <g>\r\n       <use style=\"stroke:#000000;stroke-width:0.8;\" x=\"323.154977\" xlink:href=\"#m5653e89803\" y=\"224.64\"/>\r\n      </g>\r\n     </g>\r\n     <g id=\"text_5\">\r\n      <!-- 2 -->\r\n      <g transform=\"translate(319.973727 239.238437)scale(0.1 -0.1)\">\r\n       <use xlink:href=\"#DejaVuSans-50\"/>\r\n      </g>\r\n     </g>\r\n    </g>\r\n   </g>\r\n   <g id=\"matplotlib.axis_2\">\r\n    <g id=\"ytick_1\">\r\n     <g id=\"line2d_6\">\r\n      <defs>\r\n       <path d=\"M 0 0 \r\nL -3.5 0 \r\n\" id=\"m9059cf41b8\" style=\"stroke:#000000;stroke-width:0.8;\"/>\r\n      </defs>\r\n      <g>\r\n       <use style=\"stroke:#000000;stroke-width:0.8;\" x=\"41.667188\" xlink:href=\"#m9059cf41b8\" y=\"216.382335\"/>\r\n      </g>\r\n     </g>\r\n     <g id=\"text_6\">\r\n      <!-- −100 -->\r\n      <g transform=\"translate(7.2 220.181553)scale(0.1 -0.1)\">\r\n       <use xlink:href=\"#DejaVuSans-8722\"/>\r\n       <use x=\"83.789062\" xlink:href=\"#DejaVuSans-49\"/>\r\n       <use x=\"147.412109\" xlink:href=\"#DejaVuSans-48\"/>\r\n       <use x=\"211.035156\" xlink:href=\"#DejaVuSans-48\"/>\r\n      </g>\r\n     </g>\r\n    </g>\r\n    <g id=\"ytick_2\">\r\n     <g id=\"line2d_7\">\r\n      <g>\r\n       <use style=\"stroke:#000000;stroke-width:0.8;\" x=\"41.667188\" xlink:href=\"#m9059cf41b8\" y=\"168.224437\"/>\r\n      </g>\r\n     </g>\r\n     <g id=\"text_7\">\r\n      <!-- −50 -->\r\n      <g transform=\"translate(13.5625 172.023656)scale(0.1 -0.1)\">\r\n       <defs>\r\n        <path d=\"M 10.796875 72.90625 \r\nL 49.515625 72.90625 \r\nL 49.515625 64.59375 \r\nL 19.828125 64.59375 \r\nL 19.828125 46.734375 \r\nQ 21.96875 47.46875 24.109375 47.828125 \r\nQ 26.265625 48.1875 28.421875 48.1875 \r\nQ 40.625 48.1875 47.75 41.5 \r\nQ 54.890625 34.8125 54.890625 23.390625 \r\nQ 54.890625 11.625 47.5625 5.09375 \r\nQ 40.234375 -1.421875 26.90625 -1.421875 \r\nQ 22.3125 -1.421875 17.546875 -0.640625 \r\nQ 12.796875 0.140625 7.71875 1.703125 \r\nL 7.71875 11.625 \r\nQ 12.109375 9.234375 16.796875 8.0625 \r\nQ 21.484375 6.890625 26.703125 6.890625 \r\nQ 35.15625 6.890625 40.078125 11.328125 \r\nQ 45.015625 15.765625 45.015625 23.390625 \r\nQ 45.015625 31 40.078125 35.4375 \r\nQ 35.15625 39.890625 26.703125 39.890625 \r\nQ 22.75 39.890625 18.8125 39.015625 \r\nQ 14.890625 38.140625 10.796875 36.28125 \r\nz\r\n\" id=\"DejaVuSans-53\"/>\r\n       </defs>\r\n       <use xlink:href=\"#DejaVuSans-8722\"/>\r\n       <use x=\"83.789062\" xlink:href=\"#DejaVuSans-53\"/>\r\n       <use x=\"147.412109\" xlink:href=\"#DejaVuSans-48\"/>\r\n      </g>\r\n     </g>\r\n    </g>\r\n    <g id=\"ytick_3\">\r\n     <g id=\"line2d_8\">\r\n      <g>\r\n       <use style=\"stroke:#000000;stroke-width:0.8;\" x=\"41.667188\" xlink:href=\"#m9059cf41b8\" y=\"120.06654\"/>\r\n      </g>\r\n     </g>\r\n     <g id=\"text_8\">\r\n      <!-- 0 -->\r\n      <g transform=\"translate(28.304688 123.865758)scale(0.1 -0.1)\">\r\n       <use xlink:href=\"#DejaVuSans-48\"/>\r\n      </g>\r\n     </g>\r\n    </g>\r\n    <g id=\"ytick_4\">\r\n     <g id=\"line2d_9\">\r\n      <g>\r\n       <use style=\"stroke:#000000;stroke-width:0.8;\" x=\"41.667188\" xlink:href=\"#m9059cf41b8\" y=\"71.908642\"/>\r\n      </g>\r\n     </g>\r\n     <g id=\"text_9\">\r\n      <!-- 50 -->\r\n      <g transform=\"translate(21.942188 75.707861)scale(0.1 -0.1)\">\r\n       <use xlink:href=\"#DejaVuSans-53\"/>\r\n       <use x=\"63.623047\" xlink:href=\"#DejaVuSans-48\"/>\r\n      </g>\r\n     </g>\r\n    </g>\r\n    <g id=\"ytick_5\">\r\n     <g id=\"line2d_10\">\r\n      <g>\r\n       <use style=\"stroke:#000000;stroke-width:0.8;\" x=\"41.667188\" xlink:href=\"#m9059cf41b8\" y=\"23.750744\"/>\r\n      </g>\r\n     </g>\r\n     <g id=\"text_10\">\r\n      <!-- 100 -->\r\n      <g transform=\"translate(15.579688 27.549963)scale(0.1 -0.1)\">\r\n       <use xlink:href=\"#DejaVuSans-49\"/>\r\n       <use x=\"63.623047\" xlink:href=\"#DejaVuSans-48\"/>\r\n       <use x=\"127.246094\" xlink:href=\"#DejaVuSans-48\"/>\r\n      </g>\r\n     </g>\r\n    </g>\r\n   </g>\r\n   <g id=\"line2d_11\">\r\n    <defs>\r\n     <path d=\"M 0 3 \r\nC 0.795609 3 1.55874 2.683901 2.12132 2.12132 \r\nC 2.683901 1.55874 3 0.795609 3 0 \r\nC 3 -0.795609 2.683901 -1.55874 2.12132 -2.12132 \r\nC 1.55874 -2.683901 0.795609 -3 0 -3 \r\nC -0.795609 -3 -1.55874 -2.683901 -2.12132 -2.12132 \r\nC -2.683901 -1.55874 -3 -0.795609 -3 0 \r\nC -3 0.795609 -2.683901 1.55874 -2.12132 2.12132 \r\nC -1.55874 2.683901 -0.795609 3 0 3 \r\nz\r\n\" id=\"mb05c84e68a\" style=\"stroke:#ff0000;\"/>\r\n    </defs>\r\n    <g clip-path=\"url(#p031c62126f)\">\r\n     <use style=\"fill:#ff0000;stroke:#ff0000;\" x=\"317.232435\" xlink:href=\"#mb05c84e68a\" y=\"42.35484\"/>\r\n     <use style=\"fill:#ff0000;stroke:#ff0000;\" x=\"223.218168\" xlink:href=\"#mb05c84e68a\" y=\"101.257868\"/>\r\n     <use style=\"fill:#ff0000;stroke:#ff0000;\" x=\"211.83918\" xlink:href=\"#mb05c84e68a\" y=\"115.425505\"/>\r\n     <use style=\"fill:#ff0000;stroke:#ff0000;\" x=\"230.158592\" xlink:href=\"#mb05c84e68a\" y=\"100.863039\"/>\r\n     <use style=\"fill:#ff0000;stroke:#ff0000;\" x=\"240.493933\" xlink:href=\"#mb05c84e68a\" y=\"88.011213\"/>\r\n     <use style=\"fill:#ff0000;stroke:#ff0000;\" x=\"187.80411\" xlink:href=\"#mb05c84e68a\" y=\"126.292188\"/>\r\n     <use style=\"fill:#ff0000;stroke:#ff0000;\" x=\"208.362532\" xlink:href=\"#mb05c84e68a\" y=\"108.217888\"/>\r\n     <use style=\"fill:#ff0000;stroke:#ff0000;\" x=\"90.937727\" xlink:href=\"#mb05c84e68a\" y=\"189.874773\"/>\r\n     <use style=\"fill:#ff0000;stroke:#ff0000;\" x=\"195.196915\" xlink:href=\"#mb05c84e68a\" y=\"119.933794\"/>\r\n     <use style=\"fill:#ff0000;stroke:#ff0000;\" x=\"189.332538\" xlink:href=\"#mb05c84e68a\" y=\"121.599317\"/>\r\n     <use style=\"fill:#ff0000;stroke:#ff0000;\" x=\"196.011053\" xlink:href=\"#mb05c84e68a\" y=\"124.288094\"/>\r\n     <use style=\"fill:#ff0000;stroke:#ff0000;\" x=\"261.637328\" xlink:href=\"#mb05c84e68a\" y=\"68.204806\"/>\r\n     <use style=\"fill:#ff0000;stroke:#ff0000;\" x=\"282.319101\" xlink:href=\"#mb05c84e68a\" y=\"61.274029\"/>\r\n     <use style=\"fill:#ff0000;stroke:#ff0000;\" x=\"231.702252\" xlink:href=\"#mb05c84e68a\" y=\"89.762813\"/>\r\n     <use style=\"fill:#ff0000;stroke:#ff0000;\" x=\"157.101182\" xlink:href=\"#mb05c84e68a\" y=\"151.046798\"/>\r\n     <use style=\"fill:#ff0000;stroke:#ff0000;\" x=\"301.081832\" xlink:href=\"#mb05c84e68a\" y=\"47.469232\"/>\r\n     <use style=\"fill:#ff0000;stroke:#ff0000;\" x=\"336.685131\" xlink:href=\"#mb05c84e68a\" y=\"26.003237\"/>\r\n     <use style=\"fill:#ff0000;stroke:#ff0000;\" x=\"194.26313\" xlink:href=\"#mb05c84e68a\" y=\"113.898229\"/>\r\n     <use style=\"fill:#ff0000;stroke:#ff0000;\" x=\"119.449347\" xlink:href=\"#mb05c84e68a\" y=\"174.99798\"/>\r\n     <use style=\"fill:#ff0000;stroke:#ff0000;\" x=\"245.304089\" xlink:href=\"#mb05c84e68a\" y=\"87.540512\"/>\r\n     <use style=\"fill:#ff0000;stroke:#ff0000;\" x=\"134.145533\" xlink:href=\"#mb05c84e68a\" y=\"161.229156\"/>\r\n     <use style=\"fill:#ff0000;stroke:#ff0000;\" x=\"245.369836\" xlink:href=\"#mb05c84e68a\" y=\"88.801174\"/>\r\n     <use style=\"fill:#ff0000;stroke:#ff0000;\" x=\"227.783504\" xlink:href=\"#mb05c84e68a\" y=\"103.90719\"/>\r\n     <use style=\"fill:#ff0000;stroke:#ff0000;\" x=\"316.917157\" xlink:href=\"#mb05c84e68a\" y=\"23.920693\"/>\r\n     <use style=\"fill:#ff0000;stroke:#ff0000;\" x=\"341.237456\" xlink:href=\"#mb05c84e68a\" y=\"18.711103\"/>\r\n     <use style=\"fill:#ff0000;stroke:#ff0000;\" x=\"327.913325\" xlink:href=\"#mb05c84e68a\" y=\"27.398489\"/>\r\n     <use style=\"fill:#ff0000;stroke:#ff0000;\" x=\"116.773457\" xlink:href=\"#mb05c84e68a\" y=\"175.628043\"/>\r\n     <use style=\"fill:#ff0000;stroke:#ff0000;\" x=\"200.444654\" xlink:href=\"#mb05c84e68a\" y=\"117.563472\"/>\r\n     <use style=\"fill:#ff0000;stroke:#ff0000;\" x=\"300.839646\" xlink:href=\"#mb05c84e68a\" y=\"52.961783\"/>\r\n     <use style=\"fill:#ff0000;stroke:#ff0000;\" x=\"225.926177\" xlink:href=\"#mb05c84e68a\" y=\"101.719268\"/>\r\n     <use style=\"fill:#ff0000;stroke:#ff0000;\" x=\"176.211405\" xlink:href=\"#mb05c84e68a\" y=\"133.681815\"/>\r\n     <use style=\"fill:#ff0000;stroke:#ff0000;\" x=\"254.078664\" xlink:href=\"#mb05c84e68a\" y=\"74.264264\"/>\r\n     <use style=\"fill:#ff0000;stroke:#ff0000;\" x=\"264.13708\" xlink:href=\"#mb05c84e68a\" y=\"77.206632\"/>\r\n     <use style=\"fill:#ff0000;stroke:#ff0000;\" x=\"189.342661\" xlink:href=\"#mb05c84e68a\" y=\"125.228249\"/>\r\n     <use style=\"fill:#ff0000;stroke:#ff0000;\" x=\"224.755175\" xlink:href=\"#mb05c84e68a\" y=\"98.318485\"/>\r\n     <use style=\"fill:#ff0000;stroke:#ff0000;\" x=\"206.663203\" xlink:href=\"#mb05c84e68a\" y=\"113.931781\"/>\r\n     <use style=\"fill:#ff0000;stroke:#ff0000;\" x=\"229.819627\" xlink:href=\"#mb05c84e68a\" y=\"97.056102\"/>\r\n     <use style=\"fill:#ff0000;stroke:#ff0000;\" x=\"152.967091\" xlink:href=\"#mb05c84e68a\" y=\"144.707923\"/>\r\n     <use style=\"fill:#ff0000;stroke:#ff0000;\" x=\"300.826794\" xlink:href=\"#mb05c84e68a\" y=\"48.203974\"/>\r\n     <use style=\"fill:#ff0000;stroke:#ff0000;\" x=\"216.46562\" xlink:href=\"#mb05c84e68a\" y=\"97.672532\"/>\r\n     <use style=\"fill:#ff0000;stroke:#ff0000;\" x=\"104.136471\" xlink:href=\"#mb05c84e68a\" y=\"188.9356\"/>\r\n     <use style=\"fill:#ff0000;stroke:#ff0000;\" x=\"142.568892\" xlink:href=\"#mb05c84e68a\" y=\"163.987939\"/>\r\n     <use style=\"fill:#ff0000;stroke:#ff0000;\" x=\"238.527471\" xlink:href=\"#mb05c84e68a\" y=\"92.995214\"/>\r\n     <use style=\"fill:#ff0000;stroke:#ff0000;\" x=\"194.002069\" xlink:href=\"#mb05c84e68a\" y=\"128.558002\"/>\r\n     <use style=\"fill:#ff0000;stroke:#ff0000;\" x=\"130.05083\" xlink:href=\"#mb05c84e68a\" y=\"163.520521\"/>\r\n     <use style=\"fill:#ff0000;stroke:#ff0000;\" x=\"167.181997\" xlink:href=\"#mb05c84e68a\" y=\"145.24691\"/>\r\n     <use style=\"fill:#ff0000;stroke:#ff0000;\" x=\"155.932096\" xlink:href=\"#mb05c84e68a\" y=\"148.966328\"/>\r\n     <use style=\"fill:#ff0000;stroke:#ff0000;\" x=\"208.609955\" xlink:href=\"#mb05c84e68a\" y=\"107.561871\"/>\r\n     <use style=\"fill:#ff0000;stroke:#ff0000;\" x=\"192.354992\" xlink:href=\"#mb05c84e68a\" y=\"123.561882\"/>\r\n     <use style=\"fill:#ff0000;stroke:#ff0000;\" x=\"141.229274\" xlink:href=\"#mb05c84e68a\" y=\"156.805432\"/>\r\n     <use style=\"fill:#ff0000;stroke:#ff0000;\" x=\"168.387365\" xlink:href=\"#mb05c84e68a\" y=\"146.39275\"/>\r\n     <use style=\"fill:#ff0000;stroke:#ff0000;\" x=\"136.785153\" xlink:href=\"#mb05c84e68a\" y=\"161.776082\"/>\r\n     <use style=\"fill:#ff0000;stroke:#ff0000;\" x=\"92.241384\" xlink:href=\"#mb05c84e68a\" y=\"187.980631\"/>\r\n     <use style=\"fill:#ff0000;stroke:#ff0000;\" x=\"185.995222\" xlink:href=\"#mb05c84e68a\" y=\"127.931957\"/>\r\n     <use style=\"fill:#ff0000;stroke:#ff0000;\" x=\"175.247578\" xlink:href=\"#mb05c84e68a\" y=\"127.779793\"/>\r\n     <use style=\"fill:#ff0000;stroke:#ff0000;\" x=\"325.960303\" xlink:href=\"#mb05c84e68a\" y=\"42.455533\"/>\r\n     <use style=\"fill:#ff0000;stroke:#ff0000;\" x=\"65.882846\" xlink:href=\"#mb05c84e68a\" y=\"204.231159\"/>\r\n     <use style=\"fill:#ff0000;stroke:#ff0000;\" x=\"260.461042\" xlink:href=\"#mb05c84e68a\" y=\"79.367451\"/>\r\n     <use style=\"fill:#ff0000;stroke:#ff0000;\" x=\"125.934236\" xlink:href=\"#mb05c84e68a\" y=\"176.141258\"/>\r\n     <use style=\"fill:#ff0000;stroke:#ff0000;\" x=\"292.329809\" xlink:href=\"#mb05c84e68a\" y=\"50.254761\"/>\r\n     <use style=\"fill:#ff0000;stroke:#ff0000;\" x=\"91.642151\" xlink:href=\"#mb05c84e68a\" y=\"195.010342\"/>\r\n     <use style=\"fill:#ff0000;stroke:#ff0000;\" x=\"142.807498\" xlink:href=\"#mb05c84e68a\" y=\"154.909523\"/>\r\n     <use style=\"fill:#ff0000;stroke:#ff0000;\" x=\"152.16141\" xlink:href=\"#mb05c84e68a\" y=\"145.77817\"/>\r\n     <use style=\"fill:#ff0000;stroke:#ff0000;\" x=\"155.38329\" xlink:href=\"#mb05c84e68a\" y=\"149.770825\"/>\r\n     <use style=\"fill:#ff0000;stroke:#ff0000;\" x=\"242.825321\" xlink:href=\"#mb05c84e68a\" y=\"93.520355\"/>\r\n     <use style=\"fill:#ff0000;stroke:#ff0000;\" x=\"224.297633\" xlink:href=\"#mb05c84e68a\" y=\"102.542231\"/>\r\n     <use style=\"fill:#ff0000;stroke:#ff0000;\" x=\"173.376209\" xlink:href=\"#mb05c84e68a\" y=\"137.347777\"/>\r\n     <use style=\"fill:#ff0000;stroke:#ff0000;\" x=\"277.048461\" xlink:href=\"#mb05c84e68a\" y=\"61.320933\"/>\r\n     <use style=\"fill:#ff0000;stroke:#ff0000;\" x=\"98.240205\" xlink:href=\"#mb05c84e68a\" y=\"194.314703\"/>\r\n     <use style=\"fill:#ff0000;stroke:#ff0000;\" x=\"182.605613\" xlink:href=\"#mb05c84e68a\" y=\"131.513284\"/>\r\n     <use style=\"fill:#ff0000;stroke:#ff0000;\" x=\"56.885369\" xlink:href=\"#mb05c84e68a\" y=\"214.756364\"/>\r\n     <use style=\"fill:#ff0000;stroke:#ff0000;\" x=\"225.316999\" xlink:href=\"#mb05c84e68a\" y=\"99.979185\"/>\r\n     <use style=\"fill:#ff0000;stroke:#ff0000;\" x=\"176.986101\" xlink:href=\"#mb05c84e68a\" y=\"136.937442\"/>\r\n     <use style=\"fill:#ff0000;stroke:#ff0000;\" x=\"210.493424\" xlink:href=\"#mb05c84e68a\" y=\"111.114857\"/>\r\n     <use style=\"fill:#ff0000;stroke:#ff0000;\" x=\"131.928059\" xlink:href=\"#mb05c84e68a\" y=\"166.979932\"/>\r\n     <use style=\"fill:#ff0000;stroke:#ff0000;\" x=\"267.897977\" xlink:href=\"#mb05c84e68a\" y=\"78.709417\"/>\r\n     <use style=\"fill:#ff0000;stroke:#ff0000;\" x=\"207.6015\" xlink:href=\"#mb05c84e68a\" y=\"106.239612\"/>\r\n     <use style=\"fill:#ff0000;stroke:#ff0000;\" x=\"214.117443\" xlink:href=\"#mb05c84e68a\" y=\"109.471408\"/>\r\n     <use style=\"fill:#ff0000;stroke:#ff0000;\" x=\"131.951008\" xlink:href=\"#mb05c84e68a\" y=\"170.66086\"/>\r\n     <use style=\"fill:#ff0000;stroke:#ff0000;\" x=\"304.784506\" xlink:href=\"#mb05c84e68a\" y=\"50.27207\"/>\r\n     <use style=\"fill:#ff0000;stroke:#ff0000;\" x=\"198.924561\" xlink:href=\"#mb05c84e68a\" y=\"119.735386\"/>\r\n     <use style=\"fill:#ff0000;stroke:#ff0000;\" x=\"193.703313\" xlink:href=\"#mb05c84e68a\" y=\"118.756095\"/>\r\n     <use style=\"fill:#ff0000;stroke:#ff0000;\" x=\"361.249006\" xlink:href=\"#mb05c84e68a\" y=\"17.083636\"/>\r\n     <use style=\"fill:#ff0000;stroke:#ff0000;\" x=\"269.074985\" xlink:href=\"#mb05c84e68a\" y=\"73.256112\"/>\r\n     <use style=\"fill:#ff0000;stroke:#ff0000;\" x=\"206.173779\" xlink:href=\"#mb05c84e68a\" y=\"115.04254\"/>\r\n     <use style=\"fill:#ff0000;stroke:#ff0000;\" x=\"143.941014\" xlink:href=\"#mb05c84e68a\" y=\"154.49068\"/>\r\n     <use style=\"fill:#ff0000;stroke:#ff0000;\" x=\"81.538283\" xlink:href=\"#mb05c84e68a\" y=\"205.369588\"/>\r\n     <use style=\"fill:#ff0000;stroke:#ff0000;\" x=\"324.027575\" xlink:href=\"#mb05c84e68a\" y=\"27.099059\"/>\r\n     <use style=\"fill:#ff0000;stroke:#ff0000;\" x=\"245.162051\" xlink:href=\"#mb05c84e68a\" y=\"90.688412\"/>\r\n     <use style=\"fill:#ff0000;stroke:#ff0000;\" x=\"244.641959\" xlink:href=\"#mb05c84e68a\" y=\"89.268912\"/>\r\n     <use style=\"fill:#ff0000;stroke:#ff0000;\" x=\"212.144437\" xlink:href=\"#mb05c84e68a\" y=\"108.58632\"/>\r\n     <use style=\"fill:#ff0000;stroke:#ff0000;\" x=\"200.324335\" xlink:href=\"#mb05c84e68a\" y=\"111.937773\"/>\r\n     <use style=\"fill:#ff0000;stroke:#ff0000;\" x=\"261.806576\" xlink:href=\"#mb05c84e68a\" y=\"77.910447\"/>\r\n     <use style=\"fill:#ff0000;stroke:#ff0000;\" x=\"177.562833\" xlink:href=\"#mb05c84e68a\" y=\"144.973107\"/>\r\n     <use style=\"fill:#ff0000;stroke:#ff0000;\" x=\"143.152927\" xlink:href=\"#mb05c84e68a\" y=\"163.44748\"/>\r\n     <use style=\"fill:#ff0000;stroke:#ff0000;\" x=\"282.530817\" xlink:href=\"#mb05c84e68a\" y=\"64.871183\"/>\r\n     <use style=\"fill:#ff0000;stroke:#ff0000;\" x=\"112.59061\" xlink:href=\"#mb05c84e68a\" y=\"184.331025\"/>\r\n     <use style=\"fill:#ff0000;stroke:#ff0000;\" x=\"175.956342\" xlink:href=\"#mb05c84e68a\" y=\"125.112795\"/>\r\n     <use style=\"fill:#ff0000;stroke:#ff0000;\" x=\"305.41154\" xlink:href=\"#mb05c84e68a\" y=\"50.099684\"/>\r\n     <use style=\"fill:#ff0000;stroke:#ff0000;\" x=\"110.860533\" xlink:href=\"#mb05c84e68a\" y=\"173.451643\"/>\r\n    </g>\r\n   </g>\r\n   <g id=\"patch_3\">\r\n    <path d=\"M 41.667188 224.64 \r\nL 41.667188 7.2 \r\n\" style=\"fill:none;stroke:#000000;stroke-linecap:square;stroke-linejoin:miter;stroke-width:0.8;\"/>\r\n   </g>\r\n   <g id=\"patch_4\">\r\n    <path d=\"M 376.467188 224.64 \r\nL 376.467188 7.2 \r\n\" style=\"fill:none;stroke:#000000;stroke-linecap:square;stroke-linejoin:miter;stroke-width:0.8;\"/>\r\n   </g>\r\n   <g id=\"patch_5\">\r\n    <path d=\"M 41.667188 224.64 \r\nL 376.467188 224.64 \r\n\" style=\"fill:none;stroke:#000000;stroke-linecap:square;stroke-linejoin:miter;stroke-width:0.8;\"/>\r\n   </g>\r\n   <g id=\"patch_6\">\r\n    <path d=\"M 41.667188 7.2 \r\nL 376.467188 7.2 \r\n\" style=\"fill:none;stroke:#000000;stroke-linecap:square;stroke-linejoin:miter;stroke-width:0.8;\"/>\r\n   </g>\r\n  </g>\r\n </g>\r\n <defs>\r\n  <clipPath id=\"p031c62126f\">\r\n   <rect height=\"217.44\" width=\"334.8\" x=\"41.667188\" y=\"7.2\"/>\r\n  </clipPath>\r\n </defs>\r\n</svg>\r\n",
      "image/png": "[encoded data removed]"
     },
     "metadata": {
      "needs_background": "light"
     }
    }
   ],
   "source": [
    "# Visualize data \n",
    "\n",
    "plt.plot(X, y, 'ro')\n",
    "plt.show()\n"
   ]
  },
  {
   "cell_type": "markdown",
   "metadata": {
    "colab_type": "text",
    "id": "PLDAEVR8Fpyx"
   },
   "source": [
    "**TODO:** \n",
    "\n",
    "- Nhận xét dữ liệu:"
   ]
  },
  {
   "cell_type": "markdown",
   "metadata": {
    "colab_type": "text",
    "id": "mrb7peM1Fpyz"
   },
   "source": [
    "#### Training function"
   ]
  },
  {
   "cell_type": "code",
   "execution_count": null,
   "metadata": {
    "colab": {},
    "colab_type": "code",
    "id": "DdPXTgoAFpyz"
   },
   "outputs": [],
   "source": [
    "def train_linear_regression(X, y):\n",
    "    '''\n",
    "    Trains Linear Regression on the dataset (X, y).\n",
    "    \n",
    "    Parameters\n",
    "    ----------\n",
    "    X : numpy array, shape (m, d + 1)\n",
    "        The matrix of input vectors (each row corresponds to an input vector); \n",
    "        the first column of this matrix is all ones (corresponding to x_0).\n",
    "    y : numpy array, shape (m, 1)\n",
    "        The vector of outputs.\n",
    "    \n",
    "    Returns\n",
    "    -------\n",
    "    w : numpy array, shape (d + 1, 1)\n",
    "        The vector of parameters of Linear Regression after training.\n",
    "    '''\n",
    "    # TODO\n",
    "    \n",
    "    return w"
   ]
  },
  {
   "cell_type": "code",
   "execution_count": null,
   "metadata": {
    "colab": {},
    "colab_type": "code",
    "id": "wDgQ-5EDFpy5"
   },
   "outputs": [],
   "source": [
    "# Construct one_added_X \n",
    "# TODO:\n",
    "# First column of one_added_X is all ones (corresponding to x_0).\n",
    "\n",
    "print ('one_added_X.shape =', one_added_X.shape)\n",
    "print ('y.shape =', y.shape)\n"
   ]
  },
  {
   "cell_type": "markdown",
   "metadata": {
    "colab_type": "text",
    "id": "nVhd2dvCFpzE"
   },
   "source": [
    "#### Train our model and visualize result"
   ]
  },
  {
   "cell_type": "code",
   "execution_count": null,
   "metadata": {
    "colab": {},
    "colab_type": "code",
    "id": "y3YvmkEEFpzE"
   },
   "outputs": [],
   "source": [
    "w = train_linear_regression(one_added_X, y)\n",
    "\n",
    "# Visualize result\n",
    "predicted_ys = one_added_X.dot(w)\n",
    "\n",
    "plt.plot(X,y,'ro')\n",
    "\n",
    "x_min, x_max = plt.xlim()\n",
    "xs = np.array([x_min, x_max]).reshape(-1, 1)\n",
    "\n",
    "# Construct one_added_xs \n",
    "# TODO:\n",
    "# First column of one_added_xs is all ones (corresponding to x_0).\n",
    "\n",
    "\n",
    "predicted_ys = ones_added_xs.dot(w)\n",
    "plt.plot(xs, predicted_ys)\n",
    "plt.xlim(x_min, x_max)\n",
    "\n",
    "\n"
   ]
  },
  {
   "cell_type": "markdown",
   "metadata": {
    "colab_type": "text",
    "id": "lTO6ilruFpzH"
   },
   "source": [
    "- **TODO**: Điểm mạnh và điểm yếu của `Hồi quy tuyến tính`:"
   ]
  },
  {
   "cell_type": "code",
   "execution_count": null,
   "metadata": {
    "colab": {},
    "colab_type": "code",
    "id": "BehaTobaFpzI"
   },
   "outputs": [],
   "source": []
  }
 ],
 "metadata": {
  "colab": {
   "collapsed_sections": [],
   "name": "Lab01-LinearRegression.ipynb",
   "provenance": []
  },
  "kernelspec": {
   "display_name": "Python 3",
   "language": "python",
   "name": "python3"
  },
  "language_info": {
   "codemirror_mode": {
    "name": "ipython",
    "version": 3
   },
   "file_extension": ".py",
   "mimetype": "text/x-python",
   "name": "python",
   "nbconvert_exporter": "python",
   "pygments_lexer": "ipython3",
   "version": "3.7.9-final"
  }
 },
 "nbformat": 4,
 "nbformat_minor": 1
}